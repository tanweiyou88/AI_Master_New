{
 "cells": [
  {
   "cell_type": "code",
   "execution_count": 1,
   "metadata": {},
   "outputs": [
    {
     "data": {
      "text/plain": [
       "torch.Size([1, 3, 640, 480])"
      ]
     },
     "execution_count": 1,
     "metadata": {},
     "output_type": "execute_result"
    }
   ],
   "source": [
    "import torch\n",
    "import numpy as np\n",
    "from PIL import Image \n",
    "\n",
    "image_path = \"D:/AI_Master_New/Low-Light_Image_Enhancemnet/Zero-DCE_code_LiChongYi_2021/data/result/DICM/01.jpg\"\n",
    "#image_path =  D:\\AI_Master_New\\Low-Light_Image_Enhancemnet\\Zero-DCE_code_LiChongYi_2021\\data\\result\\DICM\\01.jpg\n",
    "data_lowlight = Image.open(image_path)\n",
    "data_lowlight = (np.asarray(data_lowlight)/255.0)\n",
    "\n",
    "\n",
    "data_lowlight = torch.from_numpy(data_lowlight).float()\n",
    "data_lowlight = data_lowlight.permute(2,0,1)\n",
    "data_lowlight = data_lowlight.cuda().unsqueeze(0)\n",
    "\n",
    "data_lowlight.size() \n",
    "# for this single image (batch_size = 1) after the unsqueeze(0), (1 = number of samples, 3 = color channels for each sample, 640 = height of each sample, 480 = width of each sample)\n",
    "# so in the model structure \"torch.cat([x3,x4],1)\", the 2 sets of 32-channels feature maps are concatenated along the 2nd dimension is true so that each set of 32-channels feature maps\n",
    "# are stacked on top of each other to become a single tensor that has size of (1, 32*2, height of each feature map, width of each feature map)"
   ]
  }
 ],
 "metadata": {
  "kernelspec": {
   "display_name": "GPUEnv_PyTorch",
   "language": "python",
   "name": "python3"
  },
  "language_info": {
   "codemirror_mode": {
    "name": "ipython",
    "version": 3
   },
   "file_extension": ".py",
   "mimetype": "text/x-python",
   "name": "python",
   "nbconvert_exporter": "python",
   "pygments_lexer": "ipython3",
   "version": "3.10.15"
  }
 },
 "nbformat": 4,
 "nbformat_minor": 2
}
