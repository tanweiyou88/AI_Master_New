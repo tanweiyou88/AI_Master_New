{
 "cells": [
  {
   "cell_type": "markdown",
   "metadata": {},
   "source": [
    "# Matrix Basics\n",
    "\n",
    "Link to the Youtube tutorial video: https://www.youtube.com/watch?v=Wibxjrxf5ko&list=PLeo1K3hjS3uu7CxAacxVndI4bE_o3BDtO&index=10\n",
    "\n",
    "\n",
    "1) Numpy module allows the manipulation of matrices in python\n",
    "2) You can think a numpy array as a matrix\n",
    "3) Use dot() of numpy module to perform dot product between matrices\n",
    "\n",
    "**Matrices involved in this tutorial:**  </br>\n",
    "<img src=\"hidden\\photo1.png\" alt=\"This image is a representation of the simple neural network\" style=\"width: 600px;\"/>  <br />  <br />"
   ]
  },
  {
   "cell_type": "code",
   "execution_count": 17,
   "metadata": {},
   "outputs": [
    {
     "name": "stdout",
     "output_type": "stream",
     "text": [
      "Numpy array (matrix) called revenue:\n",
      " [[180 200 220]\n",
      " [ 24  36  40]\n",
      " [ 12  18  20]]\n",
      "\n",
      "Numpy array (matrix) called expenses:\n",
      " [[ 80  90 100]\n",
      " [ 10  16  20]\n",
      " [  8  10  10]]\n",
      "\n",
      "Numpy array (matrix) called profit:\n",
      " [[100 110 120]\n",
      " [ 14  20  20]\n",
      " [  4   8  10]]\n"
     ]
    }
   ],
   "source": [
    "import numpy as np\n",
    "\n",
    "# Create the numpy array (matrix) called revenue\n",
    "revenue = np.array([[180,200,220],[24,36,40],[12,18,20]])\n",
    "print('Numpy array (matrix) called revenue:\\n', revenue)\n",
    "\n",
    "# Create the numpy array (matrix) called expenses\n",
    "expenses = np.array([[80,90,100],[10,16,20],[8,10,10]])\n",
    "print('\\nNumpy array (matrix) called expenses:\\n', expenses)\n",
    "\n",
    "# Calculate profit by performing matrix subtraction\n",
    "profit = revenue - expenses\n",
    "print('\\nNumpy array (matrix) called profit:\\n', profit)"
   ]
  },
  {
   "cell_type": "markdown",
   "metadata": {},
   "source": [
    "**Matrices involved in this tutorial:**  </br>\n",
    "<img src=\"hidden\\photo2.png\" alt=\"This image is a representation of the simple neural network\" style=\"width: 600px;\"/>  <br />  <br />"
   ]
  },
  {
   "cell_type": "code",
   "execution_count": 18,
   "metadata": {},
   "outputs": [
    {
     "name": "stdout",
     "output_type": "stream",
     "text": [
      "Numpy array (matrix) called price_per_unit:\n",
      " [[1000  400 1200]]\n",
      "\n",
      "Numpy array (matrix) called units:\n",
      " [[30 40 50]\n",
      " [ 5 10 15]\n",
      " [ 2  5  7]]\n",
      "\n",
      "Numpy array (matrix) called total_sale:\n",
      " [[34400 50000 64400]]\n"
     ]
    }
   ],
   "source": [
    "# Create the numpy array (matrix) called price_per_unit\n",
    "price_per_unit = np.array([[1000,400,1200]])\n",
    "print('Numpy array (matrix) called price_per_unit:\\n', price_per_unit)\n",
    "\n",
    "# Create the numpy array (matrix) called units\n",
    "units = np.array([[30,40,50],[5,10,15],[2,5,7]])\n",
    "print('\\nNumpy array (matrix) called units:\\n', units)\n",
    "\n",
    "# Calculate the Total Sale (revenue) by performing dot product using dot() of numpy module [Note: Here, 1x3 matrix * 3x3 matrix]\n",
    "total_sale = np.dot(price_per_unit, units)\n",
    "print('\\nNumpy array (matrix) called total_sale:\\n', total_sale)"
   ]
  }
 ],
 "metadata": {
  "kernelspec": {
   "display_name": "Python 3",
   "language": "python",
   "name": "python3"
  },
  "language_info": {
   "codemirror_mode": {
    "name": "ipython",
    "version": 3
   },
   "file_extension": ".py",
   "mimetype": "text/x-python",
   "name": "python",
   "nbconvert_exporter": "python",
   "pygments_lexer": "ipython3",
   "version": "3.12.3"
  }
 },
 "nbformat": 4,
 "nbformat_minor": 2
}
