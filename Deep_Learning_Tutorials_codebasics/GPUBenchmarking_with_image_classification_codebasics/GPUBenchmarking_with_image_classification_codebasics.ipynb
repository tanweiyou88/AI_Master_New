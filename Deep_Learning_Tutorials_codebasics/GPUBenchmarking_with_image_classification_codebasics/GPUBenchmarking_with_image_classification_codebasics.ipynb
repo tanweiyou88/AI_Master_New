{
 "cells": [
  {
   "cell_type": "markdown",
   "metadata": {},
   "source": [
    "# GPU Bench-marking with Image Classification\n",
    "\n",
    "Link to Youtube tutorial video: https://www.youtube.com/watch?v=YmDaqXMIoeY&list=PLeo1K3hjS3uu7CxAacxVndI4bE_o3BDtO&index=17\n"
   ]
  },
  {
   "cell_type": "code",
   "execution_count": 37,
   "metadata": {},
   "outputs": [],
   "source": [
    "import tensorflow as tf\n",
    "from tensorflow import keras\n",
    "import matplotlib.pyplot as plt\n",
    "import numpy as np"
   ]
  },
  {
   "cell_type": "markdown",
   "metadata": {},
   "source": [
    "# List down the physical devices which are available for TensorFlow to use"
   ]
  },
  {
   "cell_type": "code",
   "execution_count": 38,
   "metadata": {},
   "outputs": [
    {
     "data": {
      "text/plain": [
       "[PhysicalDevice(name='/physical_device:CPU:0', device_type='CPU')]"
      ]
     },
     "execution_count": 38,
     "metadata": {},
     "output_type": "execute_result"
    }
   ],
   "source": [
    "tf.config.experimental.list_physical_devices()\n",
    "\n",
    "# Ensure the modules are in the version mentioned below, so that GPU only will be listed by the list_physical_devices() above.\n",
    "\n",
    "# CUDA need to be installed in order to use GPU"
   ]
  },
  {
   "cell_type": "code",
   "execution_count": 39,
   "metadata": {},
   "outputs": [
    {
     "data": {
      "text/plain": [
       "False"
      ]
     },
     "execution_count": 39,
     "metadata": {},
     "output_type": "execute_result"
    }
   ],
   "source": [
    "tf.test.is_built_with_cuda()"
   ]
  },
  {
   "cell_type": "markdown",
   "metadata": {},
   "source": [
    "# Load the dataset"
   ]
  },
  {
   "cell_type": "code",
   "execution_count": 40,
   "metadata": {},
   "outputs": [
    {
     "name": "stdout",
     "output_type": "stream",
     "text": [
      "The number of samples in the train set: 50000\n",
      "The dimension of each sample (image) in the train set: 32 x 32\n",
      "The colour channel of each sample (image) in the train set: 3\n"
     ]
    }
   ],
   "source": [
    "# Load the CIFAR10 dataset from Keras in TensorFlow into train and test sets respectively\n",
    "(X_train, Y_train), (X_test, Y_test) = tf.keras.datasets.cifar10.load_data()\n",
    "\n",
    "print('The number of samples in the train set: ' + str(X_train.shape[0]) +\n",
    "      '\\nThe dimension of each sample (image) in the train set: ' + str(X_train.shape[1]) + ' x ' + str(X_train.shape[2]) +\n",
    "      '\\nThe colour channel of each sample (image) in the train set: ' + str(X_train.shape[3]))"
   ]
  },
  {
   "cell_type": "code",
   "execution_count": 41,
   "metadata": {},
   "outputs": [
    {
     "name": "stdout",
     "output_type": "stream",
     "text": [
      "For the 1st image in the train set (32 rows pixels at 1st column of the image):\n",
      " [[ 59  62  63]\n",
      " [ 43  46  45]\n",
      " [ 50  48  43]\n",
      " [ 68  54  42]\n",
      " [ 98  73  52]\n",
      " [119  91  63]\n",
      " [139 107  75]\n",
      " [145 110  80]\n",
      " [149 117  89]\n",
      " [149 120  93]\n",
      " [131 103  77]\n",
      " [125  99  76]\n",
      " [142 115  91]\n",
      " [144 112  86]\n",
      " [137 105  79]\n",
      " [129  97  71]\n",
      " [137 106  79]\n",
      " [134 106  76]\n",
      " [124  97  64]\n",
      " [139 113  78]\n",
      " [139 112  75]\n",
      " [133 105  69]\n",
      " [136 105  74]\n",
      " [139 108  77]\n",
      " [152 120  89]\n",
      " [163 131 100]\n",
      " [168 136 108]\n",
      " [159 129 102]\n",
      " [158 130 104]\n",
      " [158 132 108]\n",
      " [152 125 102]\n",
      " [148 124 103]]\n",
      "\n",
      "The dimension of X_train:  (50000, 32, 32, 3)\n",
      "\n",
      "The first 5 ground truths in the train set [[6]\n",
      " [9]\n",
      " [9]\n",
      " [4]\n",
      " [1]]\n",
      "\n",
      "The dimension of Y_train:  (50000, 1)\n"
     ]
    }
   ],
   "source": [
    "# The 1st image/sample in the train set. This shows the pixel values across all rows (32 rows) but at the 1st column of the image. Each pixel value consists of 3 elements in 1D array.\n",
    "print('For the 1st image in the train set (32 rows pixels at 1st column of the image):\\n', X_train[0][0])\n",
    "print('\\nThe dimension of X_train: ', X_train.shape)\n",
    "\n",
    "# The first 5 ground truths in the train set\n",
    "print('\\nThe first 5 ground truths in the train set', Y_train[0:5])\n",
    "print('\\nThe dimension of Y_train: ', Y_train.shape)"
   ]
  },
  {
   "cell_type": "markdown",
   "metadata": {},
   "source": [
    "# Data Visualization"
   ]
  },
  {
   "cell_type": "code",
   "execution_count": 42,
   "metadata": {},
   "outputs": [],
   "source": [
    "# Self-defined function to visualize an image(sample) in the train set\n",
    "def plot_sample(index):\n",
    "    plt.figure(figsize=(10,1)) # Define the shape of the figure window\n",
    "    plt.imshow(X_train[index]) # Plot/visualize the image"
   ]
  },
  {
   "cell_type": "code",
   "execution_count": 43,
   "metadata": {},
   "outputs": [
    {
     "name": "stdout",
     "output_type": "stream",
     "text": [
      "The class name index of the image:  8\n",
      "The class name of the image:  ship\n"
     ]
    },
    {
     "data": {
      "image/png": "[encoded data removed]",
      "text/plain": [
       "<Figure size 1000x100 with 1 Axes>"
      ]
     },
     "metadata": {},
     "output_type": "display_data"
    }
   ],
   "source": [
    "# Define the class names of the dataset\n",
    "classes = [\"airplane\", \"automobile\", \"bird\", \"cat\", \"deer\", \"dog\", \"frog\", \"horse\", \"ship\", \"truck\"]\n",
    "\n",
    "# Check if the class names are defined correctly according to their sequence:\n",
    "plot_sample(8)\n",
    "# Y_train[0] provides the index that corresponding to a class name in 1D array. Y_train[0][0] provides the index that corresponding to a class name as number format (not 1D array)\n",
    "print('The class name index of the image: ', Y_train[8][0])\n",
    "print('The class name of the image: ', classes[Y_train[8][0]]) "
   ]
  },
  {
   "cell_type": "markdown",
   "metadata": {},
   "source": [
    "# Data Preprocessing"
   ]
  },
  {
   "cell_type": "markdown",
   "metadata": {},
   "source": [
    "## Data (Features) Scaling\n",
    "\n",
    "1) Scale each pixel value (feature, this means each image (32x32 dimension in 3 color channels) has 32 x 32 x 3 = 3072 features, and so the dataset is) into range between 0 to 1, by dividing each image by 255 (use the concept of matrix). So that the model can perform better\n",
    "2) The each element of pixel values in RGB colour space ranged from 0 to 255. EG: [R, G, B] = [255, 0, 29] "
   ]
  },
  {
   "cell_type": "code",
   "execution_count": 46,
   "metadata": {},
   "outputs": [
    {
     "name": "stdout",
     "output_type": "stream",
     "text": [
      "The first sample in X_train_scaled:\n",
      " [[[0.23137255 0.24313725 0.24705882]\n",
      "  [0.16862745 0.18039216 0.17647059]\n",
      "  [0.19607843 0.18823529 0.16862745]\n",
      "  ...\n",
      "  [0.61960784 0.51764706 0.42352941]\n",
      "  [0.59607843 0.49019608 0.4       ]\n",
      "  [0.58039216 0.48627451 0.40392157]]\n",
      "\n",
      " [[0.0627451  0.07843137 0.07843137]\n",
      "  [0.         0.         0.        ]\n",
      "  [0.07058824 0.03137255 0.        ]\n",
      "  ...\n",
      "  [0.48235294 0.34509804 0.21568627]\n",
      "  [0.46666667 0.3254902  0.19607843]\n",
      "  [0.47843137 0.34117647 0.22352941]]\n",
      "\n",
      " [[0.09803922 0.09411765 0.08235294]\n",
      "  [0.0627451  0.02745098 0.        ]\n",
      "  [0.19215686 0.10588235 0.03137255]\n",
      "  ...\n",
      "  [0.4627451  0.32941176 0.19607843]\n",
      "  [0.47058824 0.32941176 0.19607843]\n",
      "  [0.42745098 0.28627451 0.16470588]]\n",
      "\n",
      " ...\n",
      "\n",
      " [[0.81568627 0.66666667 0.37647059]\n",
      "  [0.78823529 0.6        0.13333333]\n",
      "  [0.77647059 0.63137255 0.10196078]\n",
      "  ...\n",
      "  [0.62745098 0.52156863 0.2745098 ]\n",
      "  [0.21960784 0.12156863 0.02745098]\n",
      "  [0.20784314 0.13333333 0.07843137]]\n",
      "\n",
      " [[0.70588235 0.54509804 0.37647059]\n",
      "  [0.67843137 0.48235294 0.16470588]\n",
      "  [0.72941176 0.56470588 0.11764706]\n",
      "  ...\n",
      "  [0.72156863 0.58039216 0.36862745]\n",
      "  [0.38039216 0.24313725 0.13333333]\n",
      "  [0.3254902  0.20784314 0.13333333]]\n",
      "\n",
      " [[0.69411765 0.56470588 0.45490196]\n",
      "  [0.65882353 0.50588235 0.36862745]\n",
      "  [0.70196078 0.55686275 0.34117647]\n",
      "  ...\n",
      "  [0.84705882 0.72156863 0.54901961]\n",
      "  [0.59215686 0.4627451  0.32941176]\n",
      "  [0.48235294 0.36078431 0.28235294]]]\n"
     ]
    }
   ],
   "source": [
    "# Scale the features of the dataset\n",
    "X_train_scaled = X_train / 255\n",
    "X_test_scaled = X_test / 255\n",
    "\n",
    "print('The first sample in X_train_scaled:\\n', X_train_scaled[0])"
   ]
  },
  {
   "cell_type": "markdown",
   "metadata": {},
   "source": [
    "## Convert the ground truths (categorical labels) of the dataset into one-hot-encoding form\n",
    "1) We don't scale the ground truths (Y_train & Y_test) of the dataset because each value represents a class name. Since the ground truths are class name (categorical label), we convert them into one-hot-encoding form (to eliminate the effect of ranking that will degrade the model performance)"
   ]
  },
  {
   "cell_type": "code",
   "execution_count": 58,
   "metadata": {},
   "outputs": [
    {
     "name": "stdout",
     "output_type": "stream",
     "text": [
      "The class name of the image:  cat\n",
      "The class name index of the image:  3\n",
      "The one-hot-encoding representation of the class name index of the same image:  [0. 0. 0. 1. 0. 0. 0. 0. 0. 0.]\n"
     ]
    },
    {
     "data": {
      "image/png": "[encoded data removed]",
      "text/plain": [
       "<Figure size 1000x100 with 1 Axes>"
      ]
     },
     "metadata": {},
     "output_type": "display_data"
    }
   ],
   "source": [
    "# Convert the ground truths in train set into one-hot-encoding form\n",
    "Y_train_categorical = keras.utils.to_categorical(\n",
    "    Y_train, num_classes = 10 # num_class = number of different class names of the dataset\n",
    ")\n",
    "\n",
    "# Convert the ground truths in test set into one-hot-encoding form\n",
    "Y_test_categorical = keras.utils.to_categorical(\n",
    "    Y_test, num_classes = 10 # num_class = number of different class names of the dataset\n",
    ")\n",
    "\n",
    "# Comparison of class name representation between index form and one-hot-encoding form \n",
    "'''\n",
    "The index 3 is actually corresponding to the class name located at 4th sequence. Hence, in its one-hot-encoded representation, only the 4th value is 1.\n",
    "'''\n",
    "plot_sample(9)\n",
    "print('The class name of the image: ', classes[Y_train[9][0]]) \n",
    "print('The class name index of the image: ', Y_train[9][0])\n",
    "print('The one-hot-encoding representation of the class name index of the same image: ', Y_train_categorical[9])"
   ]
  },
  {
   "cell_type": "markdown",
   "metadata": {},
   "source": [
    "# Develop a neural network [Artificial Neural Network (ANN), not CNN]\n",
    "\n",
    "1) The more the hidden layers the neural network have, the better the performance of the neural network. Because the feature can be extracted better when it have more layers.\n",
    "2) Use sparse_categorical_crossentropy as cost function, if the ground truths you are using are discrete value (EG: information in Y_train)\n",
    "2) Use categorical_crossentropy as cost function, if the ground truths you are using are in the one-hot-encoding representation (EG: information in Y_train_categorical)"
   ]
  },
  {
   "cell_type": "code",
   "execution_count": 62,
   "metadata": {},
   "outputs": [
    {
     "name": "stderr",
     "output_type": "stream",
     "text": [
      "c:\\Users\\weiyo\\AppData\\Local\\Programs\\Python\\Python312\\Lib\\site-packages\\keras\\src\\layers\\reshaping\\flatten.py:37: UserWarning: Do not pass an `input_shape`/`input_dim` argument to a layer. When using Sequential models, prefer using an `Input(shape)` object as the first layer in the model instead.\n",
      "  super().__init__(**kwargs)\n"
     ]
    },
    {
     "name": "stdout",
     "output_type": "stream",
     "text": [
      "Epoch 1/50\n",
      "\u001b[1m1563/1563\u001b[0m \u001b[32m━━━━━━━━━━━━━━━━━━━━\u001b[0m\u001b[37m\u001b[0m \u001b[1m56s\u001b[0m 34ms/step - accuracy: 0.3037 - loss: 1.9286\n",
      "Epoch 2/50\n",
      "\u001b[1m1563/1563\u001b[0m \u001b[32m━━━━━━━━━━━━━━━━━━━━\u001b[0m\u001b[37m\u001b[0m \u001b[1m54s\u001b[0m 35ms/step - accuracy: 0.4185 - loss: 1.6427\n",
      "Epoch 3/50\n",
      "\u001b[1m1563/1563\u001b[0m \u001b[32m━━━━━━━━━━━━━━━━━━━━\u001b[0m\u001b[37m\u001b[0m \u001b[1m54s\u001b[0m 34ms/step - accuracy: 0.4510 - loss: 1.5569\n",
      "Epoch 4/50\n",
      "\u001b[1m1563/1563\u001b[0m \u001b[32m━━━━━━━━━━━━━━━━━━━━\u001b[0m\u001b[37m\u001b[0m \u001b[1m56s\u001b[0m 36ms/step - accuracy: 0.4738 - loss: 1.4879\n",
      "Epoch 5/50\n",
      "\u001b[1m1563/1563\u001b[0m \u001b[32m━━━━━━━━━━━━━━━━━━━━\u001b[0m\u001b[37m\u001b[0m \u001b[1m55s\u001b[0m 35ms/step - accuracy: 0.4908 - loss: 1.4396\n",
      "Epoch 6/50\n",
      "\u001b[1m1563/1563\u001b[0m \u001b[32m━━━━━━━━━━━━━━━━━━━━\u001b[0m\u001b[37m\u001b[0m \u001b[1m56s\u001b[0m 36ms/step - accuracy: 0.5119 - loss: 1.3847\n",
      "Epoch 7/50\n",
      "\u001b[1m1563/1563\u001b[0m \u001b[32m━━━━━━━━━━━━━━━━━━━━\u001b[0m\u001b[37m\u001b[0m \u001b[1m56s\u001b[0m 36ms/step - accuracy: 0.5253 - loss: 1.3498\n",
      "Epoch 8/50\n",
      "\u001b[1m1563/1563\u001b[0m \u001b[32m━━━━━━━━━━━━━━━━━━━━\u001b[0m\u001b[37m\u001b[0m \u001b[1m59s\u001b[0m 38ms/step - accuracy: 0.5352 - loss: 1.3158\n",
      "Epoch 9/50\n",
      "\u001b[1m1563/1563\u001b[0m \u001b[32m━━━━━━━━━━━━━━━━━━━━\u001b[0m\u001b[37m\u001b[0m \u001b[1m57s\u001b[0m 36ms/step - accuracy: 0.5476 - loss: 1.2888\n",
      "Epoch 10/50\n",
      "\u001b[1m1563/1563\u001b[0m \u001b[32m━━━━━━━━━━━━━━━━━━━━\u001b[0m\u001b[37m\u001b[0m \u001b[1m56s\u001b[0m 36ms/step - accuracy: 0.5658 - loss: 1.2458\n",
      "Epoch 11/50\n",
      "\u001b[1m1563/1563\u001b[0m \u001b[32m━━━━━━━━━━━━━━━━━━━━\u001b[0m\u001b[37m\u001b[0m \u001b[1m56s\u001b[0m 36ms/step - accuracy: 0.5733 - loss: 1.2169\n",
      "Epoch 12/50\n",
      "\u001b[1m1563/1563\u001b[0m \u001b[32m━━━━━━━━━━━━━━━━━━━━\u001b[0m\u001b[37m\u001b[0m \u001b[1m56s\u001b[0m 36ms/step - accuracy: 0.5866 - loss: 1.1853\n",
      "Epoch 13/50\n",
      "\u001b[1m1563/1563\u001b[0m \u001b[32m━━━━━━━━━━━━━━━━━━━━\u001b[0m\u001b[37m\u001b[0m \u001b[1m55s\u001b[0m 35ms/step - accuracy: 0.5932 - loss: 1.1672\n",
      "Epoch 14/50\n",
      "\u001b[1m1563/1563\u001b[0m \u001b[32m━━━━━━━━━━━━━━━━━━━━\u001b[0m\u001b[37m\u001b[0m \u001b[1m57s\u001b[0m 36ms/step - accuracy: 0.6059 - loss: 1.1287\n",
      "Epoch 15/50\n",
      "\u001b[1m1563/1563\u001b[0m \u001b[32m━━━━━━━━━━━━━━━━━━━━\u001b[0m\u001b[37m\u001b[0m \u001b[1m56s\u001b[0m 36ms/step - accuracy: 0.6083 - loss: 1.1100\n",
      "Epoch 16/50\n",
      "\u001b[1m1563/1563\u001b[0m \u001b[32m━━━━━━━━━━━━━━━━━━━━\u001b[0m\u001b[37m\u001b[0m \u001b[1m57s\u001b[0m 37ms/step - accuracy: 0.6265 - loss: 1.0788\n",
      "Epoch 17/50\n",
      "\u001b[1m1563/1563\u001b[0m \u001b[32m━━━━━━━━━━━━━━━━━━━━\u001b[0m\u001b[37m\u001b[0m \u001b[1m58s\u001b[0m 37ms/step - accuracy: 0.6337 - loss: 1.0560\n",
      "Epoch 18/50\n",
      "\u001b[1m1563/1563\u001b[0m \u001b[32m━━━━━━━━━━━━━━━━━━━━\u001b[0m\u001b[37m\u001b[0m \u001b[1m60s\u001b[0m 39ms/step - accuracy: 0.6456 - loss: 1.0246\n",
      "Epoch 19/50\n",
      "\u001b[1m1563/1563\u001b[0m \u001b[32m━━━━━━━━━━━━━━━━━━━━\u001b[0m\u001b[37m\u001b[0m \u001b[1m59s\u001b[0m 38ms/step - accuracy: 0.6521 - loss: 0.9994\n",
      "Epoch 20/50\n",
      "\u001b[1m1563/1563\u001b[0m \u001b[32m━━━━━━━━━━━━━━━━━━━━\u001b[0m\u001b[37m\u001b[0m \u001b[1m60s\u001b[0m 38ms/step - accuracy: 0.6622 - loss: 0.9794\n",
      "Epoch 21/50\n",
      "\u001b[1m1563/1563\u001b[0m \u001b[32m━━━━━━━━━━━━━━━━━━━━\u001b[0m\u001b[37m\u001b[0m \u001b[1m60s\u001b[0m 38ms/step - accuracy: 0.6749 - loss: 0.9497\n",
      "Epoch 22/50\n",
      "\u001b[1m1563/1563\u001b[0m \u001b[32m━━━━━━━━━━━━━━━━━━━━\u001b[0m\u001b[37m\u001b[0m \u001b[1m61s\u001b[0m 39ms/step - accuracy: 0.6805 - loss: 0.9248\n",
      "Epoch 23/50\n",
      "\u001b[1m1563/1563\u001b[0m \u001b[32m━━━━━━━━━━━━━━━━━━━━\u001b[0m\u001b[37m\u001b[0m \u001b[1m60s\u001b[0m 39ms/step - accuracy: 0.6878 - loss: 0.9027\n",
      "Epoch 24/50\n",
      "\u001b[1m1563/1563\u001b[0m \u001b[32m━━━━━━━━━━━━━━━━━━━━\u001b[0m\u001b[37m\u001b[0m \u001b[1m60s\u001b[0m 39ms/step - accuracy: 0.6976 - loss: 0.8822\n",
      "Epoch 25/50\n",
      "\u001b[1m1563/1563\u001b[0m \u001b[32m━━━━━━━━━━━━━━━━━━━━\u001b[0m\u001b[37m\u001b[0m \u001b[1m60s\u001b[0m 38ms/step - accuracy: 0.7078 - loss: 0.8477\n",
      "Epoch 26/50\n",
      "\u001b[1m1563/1563\u001b[0m \u001b[32m━━━━━━━━━━━━━━━━━━━━\u001b[0m\u001b[37m\u001b[0m \u001b[1m61s\u001b[0m 39ms/step - accuracy: 0.7164 - loss: 0.8162\n",
      "Epoch 27/50\n",
      "\u001b[1m1563/1563\u001b[0m \u001b[32m━━━━━━━━━━━━━━━━━━━━\u001b[0m\u001b[37m\u001b[0m \u001b[1m61s\u001b[0m 39ms/step - accuracy: 0.7235 - loss: 0.8069\n",
      "Epoch 28/50\n",
      "\u001b[1m1563/1563\u001b[0m \u001b[32m━━━━━━━━━━━━━━━━━━━━\u001b[0m\u001b[37m\u001b[0m \u001b[1m59s\u001b[0m 38ms/step - accuracy: 0.7387 - loss: 0.7695\n",
      "Epoch 29/50\n",
      "\u001b[1m1563/1563\u001b[0m \u001b[32m━━━━━━━━━━━━━━━━━━━━\u001b[0m\u001b[37m\u001b[0m \u001b[1m61s\u001b[0m 39ms/step - accuracy: 0.7457 - loss: 0.7451\n",
      "Epoch 30/50\n",
      "\u001b[1m1563/1563\u001b[0m \u001b[32m━━━━━━━━━━━━━━━━━━━━\u001b[0m\u001b[37m\u001b[0m \u001b[1m61s\u001b[0m 39ms/step - accuracy: 0.7586 - loss: 0.7116\n",
      "Epoch 31/50\n",
      "\u001b[1m1563/1563\u001b[0m \u001b[32m━━━━━━━━━━━━━━━━━━━━\u001b[0m\u001b[37m\u001b[0m \u001b[1m61s\u001b[0m 39ms/step - accuracy: 0.7667 - loss: 0.6956\n",
      "Epoch 32/50\n",
      "\u001b[1m1563/1563\u001b[0m \u001b[32m━━━━━━━━━━━━━━━━━━━━\u001b[0m\u001b[37m\u001b[0m \u001b[1m62s\u001b[0m 40ms/step - accuracy: 0.7758 - loss: 0.6674\n",
      "Epoch 33/50\n",
      "\u001b[1m1563/1563\u001b[0m \u001b[32m━━━━━━━━━━━━━━━━━━━━\u001b[0m\u001b[37m\u001b[0m \u001b[1m63s\u001b[0m 40ms/step - accuracy: 0.7857 - loss: 0.6378\n",
      "Epoch 34/50\n",
      "\u001b[1m1563/1563\u001b[0m \u001b[32m━━━━━━━━━━━━━━━━━━━━\u001b[0m\u001b[37m\u001b[0m \u001b[1m62s\u001b[0m 40ms/step - accuracy: 0.7909 - loss: 0.6198\n",
      "Epoch 35/50\n",
      "\u001b[1m1563/1563\u001b[0m \u001b[32m━━━━━━━━━━━━━━━━━━━━\u001b[0m\u001b[37m\u001b[0m \u001b[1m61s\u001b[0m 39ms/step - accuracy: 0.8041 - loss: 0.5918\n",
      "Epoch 36/50\n",
      "\u001b[1m1563/1563\u001b[0m \u001b[32m━━━━━━━━━━━━━━━━━━━━\u001b[0m\u001b[37m\u001b[0m \u001b[1m62s\u001b[0m 40ms/step - accuracy: 0.8100 - loss: 0.5710\n",
      "Epoch 37/50\n",
      "\u001b[1m1563/1563\u001b[0m \u001b[32m━━━━━━━━━━━━━━━━━━━━\u001b[0m\u001b[37m\u001b[0m \u001b[1m62s\u001b[0m 40ms/step - accuracy: 0.8207 - loss: 0.5445\n",
      "Epoch 38/50\n",
      "\u001b[1m1563/1563\u001b[0m \u001b[32m━━━━━━━━━━━━━━━━━━━━\u001b[0m\u001b[37m\u001b[0m \u001b[1m65s\u001b[0m 42ms/step - accuracy: 0.8317 - loss: 0.5186\n",
      "Epoch 39/50\n",
      "\u001b[1m1563/1563\u001b[0m \u001b[32m━━━━━━━━━━━━━━━━━━━━\u001b[0m\u001b[37m\u001b[0m \u001b[1m66s\u001b[0m 42ms/step - accuracy: 0.8337 - loss: 0.5099\n",
      "Epoch 40/50\n",
      "\u001b[1m1563/1563\u001b[0m \u001b[32m━━━━━━━━━━━━━━━━━━━━\u001b[0m\u001b[37m\u001b[0m \u001b[1m62s\u001b[0m 40ms/step - accuracy: 0.8465 - loss: 0.4724\n",
      "Epoch 41/50\n",
      "\u001b[1m1563/1563\u001b[0m \u001b[32m━━━━━━━━━━━━━━━━━━━━\u001b[0m\u001b[37m\u001b[0m \u001b[1m62s\u001b[0m 40ms/step - accuracy: 0.8529 - loss: 0.4558\n",
      "Epoch 42/50\n",
      "\u001b[1m1563/1563\u001b[0m \u001b[32m━━━━━━━━━━━━━━━━━━━━\u001b[0m\u001b[37m\u001b[0m \u001b[1m60s\u001b[0m 39ms/step - accuracy: 0.8588 - loss: 0.4375\n",
      "Epoch 43/50\n",
      "\u001b[1m1563/1563\u001b[0m \u001b[32m━━━━━━━━━━━━━━━━━━━━\u001b[0m\u001b[37m\u001b[0m \u001b[1m62s\u001b[0m 40ms/step - accuracy: 0.8694 - loss: 0.4127\n",
      "Epoch 44/50\n",
      "\u001b[1m1563/1563\u001b[0m \u001b[32m━━━━━━━━━━━━━━━━━━━━\u001b[0m\u001b[37m\u001b[0m \u001b[1m61s\u001b[0m 39ms/step - accuracy: 0.8792 - loss: 0.3897\n",
      "Epoch 45/50\n",
      "\u001b[1m1563/1563\u001b[0m \u001b[32m━━━━━━━━━━━━━━━━━━━━\u001b[0m\u001b[37m\u001b[0m \u001b[1m61s\u001b[0m 39ms/step - accuracy: 0.8815 - loss: 0.3769\n",
      "Epoch 46/50\n",
      "\u001b[1m1563/1563\u001b[0m \u001b[32m━━━━━━━━━━━━━━━━━━━━\u001b[0m\u001b[37m\u001b[0m \u001b[1m61s\u001b[0m 39ms/step - accuracy: 0.8889 - loss: 0.3576\n",
      "Epoch 47/50\n",
      "\u001b[1m1563/1563\u001b[0m \u001b[32m━━━━━━━━━━━━━━━━━━━━\u001b[0m\u001b[37m\u001b[0m \u001b[1m61s\u001b[0m 39ms/step - accuracy: 0.8947 - loss: 0.3409\n",
      "Epoch 48/50\n",
      "\u001b[1m1563/1563\u001b[0m \u001b[32m━━━━━━━━━━━━━━━━━━━━\u001b[0m\u001b[37m\u001b[0m \u001b[1m62s\u001b[0m 39ms/step - accuracy: 0.9000 - loss: 0.3258\n",
      "Epoch 49/50\n",
      "\u001b[1m1563/1563\u001b[0m \u001b[32m━━━━━━━━━━━━━━━━━━━━\u001b[0m\u001b[37m\u001b[0m \u001b[1m60s\u001b[0m 39ms/step - accuracy: 0.9109 - loss: 0.2960\n",
      "Epoch 50/50\n",
      "\u001b[1m1563/1563\u001b[0m \u001b[32m━━━━━━━━━━━━━━━━━━━━\u001b[0m\u001b[37m\u001b[0m \u001b[1m61s\u001b[0m 39ms/step - accuracy: 0.9177 - loss: 0.2819\n"
     ]
    },
    {
     "data": {
      "text/plain": [
       "<keras.src.callbacks.history.History at 0x2497c87acf0>"
      ]
     },
     "execution_count": 62,
     "metadata": {},
     "output_type": "execute_result"
    }
   ],
   "source": [
    "# Develop the structure of the neural network (model)\n",
    "model = keras.Sequential([\n",
    "    # The flatten layer, that flattens each image of 32x32 dimension with 3 color channels into 1D array. Means each flatten image consists of 32*32*3=3072 features in 1D array before being input to the neural network.\n",
    "    keras.layers.Flatten(input_shape=(32,32,3)),\n",
    "    # The hidden layer (the 2nd layer/element of the neural network), which consists of 3000 neurons. ReLU activation function is preferred for hidden layer.\n",
    "    keras.layers.Dense(3000, activation='relu'),\n",
    "    # The hidden layer (the 3rdd layer/element of the neural network), which consists of 1000 neurons. ReLU activation function is preferred for hidden layer.\n",
    "    keras.layers.Dense(1000, activation='relu'),\n",
    "    # The output layer, which consists of 10 output neurons/units to classify all possible 10 class names. Sigmoid activation function is preferred for output layer.\n",
    "    keras.layers.Dense(10, activation='sigmoid')\n",
    "])\n",
    "\n",
    "# Compile the model\n",
    "model.compile(\n",
    "    optimizer='SGD', # stochastic gradient descent\n",
    "    loss='categorical_crossentropy',\n",
    "    metrics=['accuracy']\n",
    ")\n",
    "\n",
    "# Train the model\n",
    "model.fit(X_train_scaled, Y_train_categorical, epochs=50)"
   ]
  },
  {
   "cell_type": "code",
   "execution_count": 67,
   "metadata": {},
   "outputs": [
    {
     "name": "stdout",
     "output_type": "stream",
     "text": [
      "\u001b[1m313/313\u001b[0m \u001b[32m━━━━━━━━━━━━━━━━━━━━\u001b[0m\u001b[37m\u001b[0m \u001b[1m2s\u001b[0m 7ms/step\n",
      "The prediection result over the sample:  ship\n",
      "The ground truth of the same sample:  ship\n"
     ]
    }
   ],
   "source": [
    "# Use the model to make prediction on the 2nd sample in test set. argmax() is used to determine the index of the maximum score out of 10 scores provided by the 10 output neurons for a sample respectively\n",
    "print('The prediection result over the sample: ', classes[np.argmax(model.predict(X_test_scaled)[1])])\n",
    "\n",
    "# Show the ground truth of the same sample\n",
    "print('The ground truth of the same sample: ', classes[Y_test[1][0]])"
   ]
  },
  {
   "cell_type": "code",
   "execution_count": 68,
   "metadata": {},
   "outputs": [
    {
     "name": "stdout",
     "output_type": "stream",
     "text": [
      "\u001b[1m313/313\u001b[0m \u001b[32m━━━━━━━━━━━━━━━━━━━━\u001b[0m\u001b[37m\u001b[0m \u001b[1m3s\u001b[0m 8ms/step - accuracy: 0.5639 - loss: 1.6118\n"
     ]
    },
    {
     "data": {
      "text/plain": [
       "[1.604327917098999, 0.5590999722480774]"
      ]
     },
     "execution_count": 68,
     "metadata": {},
     "output_type": "execute_result"
    }
   ],
   "source": [
    "# Get the accuracy of the model\n",
    "model.evaluate(X_test_scaled, Y_test_categorical)"
   ]
  },
  {
   "cell_type": "markdown",
   "metadata": {},
   "source": [
    "# Compare the performance of training a neural network by using CPU vs GPU"
   ]
  },
  {
   "cell_type": "code",
   "execution_count": 70,
   "metadata": {},
   "outputs": [],
   "source": [
    "def get_model():\n",
    "    # Develop the structure of the neural network (model)\n",
    "    model = keras.Sequential([\n",
    "        # The flatten layer, that flattens each image of 32x32 dimension with 3 color channels into 1D array. Means each flatten image consists of 32*32*3=3072 features in 1D array before being input to the neural network.\n",
    "        keras.layers.Flatten(input_shape=(32,32,3)),\n",
    "        # The hidden layer (the 2nd layer/element of the neural network), which consists of 3000 neurons. ReLU activation function is preferred for hidden layer.\n",
    "        keras.layers.Dense(3000, activation='relu'),\n",
    "        # The hidden layer (the 3rdd layer/element of the neural network), which consists of 1000 neurons. ReLU activation function is preferred for hidden layer.\n",
    "        keras.layers.Dense(1000, activation='relu'),\n",
    "        # The output layer, which consists of 10 output neurons/units to classify all possible 10 class names. Sigmoid activation function is preferred for output layer.\n",
    "        keras.layers.Dense(10, activation='sigmoid')\n",
    "    ])\n",
    "\n",
    "    # Compile the model\n",
    "    model.compile(\n",
    "        optimizer='SGD', # stochastic gradient descent\n",
    "        loss='categorical_crossentropy',\n",
    "        metrics=['accuracy']\n",
    "    )\n",
    "\n",
    "    return model"
   ]
  },
  {
   "cell_type": "markdown",
   "metadata": {},
   "source": [
    "## Measure the neural network training time using CPU"
   ]
  },
  {
   "cell_type": "code",
   "execution_count": 71,
   "metadata": {},
   "outputs": [
    {
     "name": "stderr",
     "output_type": "stream",
     "text": [
      "c:\\Users\\weiyo\\AppData\\Local\\Programs\\Python\\Python312\\Lib\\site-packages\\keras\\src\\layers\\reshaping\\flatten.py:37: UserWarning: Do not pass an `input_shape`/`input_dim` argument to a layer. When using Sequential models, prefer using an `Input(shape)` object as the first layer in the model instead.\n",
      "  super().__init__(**kwargs)\n"
     ]
    },
    {
     "name": "stdout",
     "output_type": "stream",
     "text": [
      "\u001b[1m1563/1563\u001b[0m \u001b[32m━━━━━━━━━━━━━━━━━━━━\u001b[0m\u001b[37m\u001b[0m \u001b[1m71s\u001b[0m 45ms/step - accuracy: 0.3019 - loss: 1.9344\n",
      "1min 22s ± 0 ns per loop (mean ± std. dev. of 1 run, 1 loop each)\n"
     ]
    }
   ],
   "source": [
    "%%timeit -n1 -r1 # it will measure the time it took to execute this single cell\n",
    "with tf.device('/CPU:0'):\n",
    "    cpu_model = get_model()\n",
    "    cpu_model.fit(X_train_scaled, Y_train_categorical, epochs=1)"
   ]
  },
  {
   "cell_type": "markdown",
   "metadata": {},
   "source": [
    "## Measure the neural network training time using GPU"
   ]
  },
  {
   "cell_type": "code",
   "execution_count": 72,
   "metadata": {},
   "outputs": [
    {
     "name": "stdout",
     "output_type": "stream",
     "text": [
      "\u001b[1m1563/1563\u001b[0m \u001b[32m━━━━━━━━━━━━━━━━━━━━\u001b[0m\u001b[37m\u001b[0m \u001b[1m63s\u001b[0m 40ms/step - accuracy: 0.3087 - loss: 1.9270\n",
      "1min 4s ± 0 ns per loop (mean ± std. dev. of 1 run, 1 loop each)\n"
     ]
    }
   ],
   "source": [
    "%%timeit -n1 -r1 # it will measure the time it took to execute this single cell\n",
    "with tf.device('/GPU:0'):\n",
    "    cpu_model = get_model()\n",
    "    cpu_model.fit(X_train_scaled, Y_train_categorical, epochs=1)"
   ]
  }
 ],
 "metadata": {
  "kernelspec": {
   "display_name": "Python 3",
   "language": "python",
   "name": "python3"
  },
  "language_info": {
   "codemirror_mode": {
    "name": "ipython",
    "version": 3
   },
   "file_extension": ".py",
   "mimetype": "text/x-python",
   "name": "python",
   "nbconvert_exporter": "python",
   "pygments_lexer": "ipython3",
   "version": "3.12.3"
  }
 },
 "nbformat": 4,
 "nbformat_minor": 2
}
