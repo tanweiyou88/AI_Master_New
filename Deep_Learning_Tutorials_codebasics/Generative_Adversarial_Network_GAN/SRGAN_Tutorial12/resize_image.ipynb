{
 "cells": [
  {
   "cell_type": "markdown",
   "metadata": {},
   "source": [
    "# Part 1 of \"Super Resolution GAN (SRGAN) in Keras, Tutorial 12 by DigitalSreeni\": Resize image\n",
    "\n",
    "1) Link to the Youtube tutorial video: https://www.youtube.com/watch?v=1HqjPqNglPc&list=PLZsOBAyNTZwboR4_xj-n3K6XBTweC4YVD&index=13\n",
    "2) Link to the MIRFLICKR dataset: http://press.liacs.nl/mirflickr/mirdownload.html\n",
    "\n",
    "1) **Instructions:** \n",
    "    1) This is the supplementary script of this tutorial. This script only resizes the images you provide.\n",
    "    2) Run this script to resize each original (real high resolution) image into its corresponding low resolution image of size S_low and fake high resolution image of size S_high.\n",
    "    3) Use the virtual environment called GPUEnv to run this script. This virtual environemnt uses Python 3.7.16 version, Tensorflow 2.6.0 version, Keras 2.6.0 version.\n",
    "\n",
    "1) **Motivation**:\n",
    "    1) In this tutorial, we will use a SRGAN to take each low resolution image to generate its corresponding fake high resolution image.\n",
    "    2) To train the SRGAN for this task, we need:\n",
    "        1) Real and fake high resolution images to calculate the content loss (involving generator and VGG)\n",
    "        2) Low resolution images and its corresponding real high resolution images to calculate the adversarial loss (involving generator and discriminator)\n",
    "    3) Our dataset consists of images with different sizes but the VGG and SRGAN accept images only in a specific size. Hence, we need to do image processing to resize our original images in the dataset.\n",
    "    4) We get:\n",
    "        1) Real high resolution image: by taking each original image in the dataset and resize it into the shape we want for a high resolution shape, S_high\n",
    "        2) Low resolution image: by taking each image already resized into S_high and further resize it into the shape we want for a low resolution shape, S_low\n",
    "        3) where S_high > S_low.\n",
    "    5) When we resize an image into a smaller size, the image will loss some information (a portion of pixel values are removed and not retrievable in future). This happens when we resize an image into S_high or S_low size.\n",
    "    6) However, when we take that image in the S_low size and enlarge it back into S_high size, this image will appear as pixelated (more pixel values are newly generated based on averaging method) compared to the same image that is resized into S_high.\n",
    "\n",
    "2) In this tutorial, we define:\n",
    "    1) Shape of high resolution image, S_high: 128x128 pixels\n",
    "    2) Shape of high resolution image, S_low: 32x32 pixels"
   ]
  },
  {
   "cell_type": "code",
   "execution_count": 4,
   "metadata": {},
   "outputs": [],
   "source": [
    "import cv2\n",
    "import numpy as np\n",
    "import os\n",
    "import matplotlib.pyplot as plt\n",
    "\n",
    "S_high = 128 # Each dimension of a high resolution image\n",
    "S_low = 32 # Each dimension of a low resolution image\n",
    "dataset_dir = \"D:/AI_Master_New/Under_Local_Git_Covered/Deep_Learning_Tutorials_codebasics/Generative_Adversarial_Network_GAN/SRGAN_Tutorial12\" # The directory to the dataset\n",
    "\n",
    "# Create the directory (folder) if the directory is not exist. If the directory exists, just skip it (nothing happens).\n",
    "os.makedirs(dataset_dir + '/hr_images', exist_ok = True)\n",
    "os.makedirs(dataset_dir + '/lr_images', exist_ok = True)\n",
    "\n",
    "for img in os.listdir( dataset_dir + \"/mirflickr25k_OriginalDataset\"): # For each original image in the dataset\n",
    "    img_array = cv2.imread(dataset_dir + \"/mirflickr25k_OriginalDataset/\" + img) # Get the features of each original image in the dataset (1 image per iteration)\n",
    "    \n",
    "    img_array = cv2.resize(img_array, (S_high,S_high)) # by taking each original image in the dataset and resize it into the shape we want for a high resolution shape, S_high \n",
    "    lr_img_array = cv2.resize(img_array,(S_low,S_low)) # by taking each image already resized into S_high and further resize it into the shape we want for a low resolution shape, S_low\n",
    "    cv2.imwrite(dataset_dir+ \"/hr_images/\" + img, img_array) # save the image resized into S_high into a folder\n",
    "    cv2.imwrite(dataset_dir+ \"/lr_images/\"+ img, lr_img_array) # save the image resized into S_low into a folder\n"
   ]
  }
 ],
 "metadata": {
  "kernelspec": {
   "display_name": "GPUEnv",
   "language": "python",
   "name": "python3"
  },
  "language_info": {
   "codemirror_mode": {
    "name": "ipython",
    "version": 3
   },
   "file_extension": ".py",
   "mimetype": "text/x-python",
   "name": "python",
   "nbconvert_exporter": "python",
   "pygments_lexer": "ipython3",
   "version": "3.7.16"
  }
 },
 "nbformat": 4,
 "nbformat_minor": 2
}
