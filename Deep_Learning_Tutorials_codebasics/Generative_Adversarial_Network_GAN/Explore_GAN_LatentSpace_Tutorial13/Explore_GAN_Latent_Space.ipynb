{
 "cells": [
  {
   "cell_type": "markdown",
   "metadata": {},
   "source": [
    "# Part 2 of \"Exploring GAN latent space to generate images with desired features​ by Digital Sreeni\": Arithmetic with GAN latent vectors (Train)\n",
    "\n",
    "1) Link to the Youtube tutorial video: https://www.youtube.com/watch?v=iuQ_f3W5Ttk&list=PLZsOBAyNTZwboR4_xj-n3K6XBTweC4YVD&index=13\n",
    "2) Link to the UTKFace dataset: https://susanqq.github.io/UTKFace/"
   ]
  },
  {
   "cell_type": "code",
   "execution_count": null,
   "metadata": {
    "vscode": {
     "languageId": "plaintext"
    }
   },
   "outputs": [],
   "source": [
    "Watched until 9:44"
   ]
  }
 ],
 "metadata": {
  "language_info": {
   "name": "python"
  }
 },
 "nbformat": 4,
 "nbformat_minor": 2
}
