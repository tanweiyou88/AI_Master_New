{
 "cells": [
  {
   "cell_type": "markdown",
   "metadata": {},
   "source": [
    "# Part 2 of \"Exploring GAN latent space to generate images with desired features​ by Digital Sreeni\": Arithmetic with GAN latent vectors (Train)\n",
    "\n",
    "1) Link to the Youtube tutorial video: https://www.youtube.com/watch?v=iuQ_f3W5Ttk&list=PLZsOBAyNTZwboR4_xj-n3K6XBTweC4YVD&index=13\n",
    "2) Link to the UTKFace dataset: https://susanqq.github.io/UTKFace/"
   ]
  },
  {
   "cell_type": "code",
   "execution_count": 57,
   "metadata": {},
   "outputs": [],
   "source": [
    "\"\"\"\n",
    "Dataset from: Dataset from: https://susanqq.github.io/UTKFace/ \n",
    "\n",
    "Latent space is hard to interpret unless conditioned using many classes.​\n",
    "But, the latent space can be exploited using generated images.​\n",
    "Here is how...\n",
    "\n",
    "x Generate 10s of images using random latent vectors.​\n",
    "x Identify many images within each category of interest (e.g., smiling man, neutral man, etc. )​\n",
    "x Average the latent vectors for each category to get a mean representation in the latent space (for that category).​\n",
    "x Use these mean latent vectors to generate images with features of interest. ​\n",
    "\n",
    "This part of the code is used to train a GAN on 128x128x3 images.(e.g. Human Faces data)\n",
    "The generator model can then be used to generate new images. (new faces)\n",
    "The features in the new images can be 'engineered' by doing simple arithmetic\n",
    "between vectors that are used to generate images. \n",
    "In summary, you can find the latent vectors for Smiling Man, neutral face man, \n",
    "and a baby with neutral face and then generate a smiling baby face by:\n",
    "    Smiling Man + Neutral Man - Neutral baby = Smiling Baby\n",
    "\"\"\"\n",
    "\n",
    "# Import the required libraries\n",
    "from numpy import zeros, ones\n",
    "from numpy.random import randn, randint\n",
    "\n",
    "from tensorflow.keras.optimizers import Adam\n",
    "from tensorflow.keras.models import Sequential\n",
    "from tensorflow.keras.layers import Dense, Reshape, Flatten, Conv2D, Conv2DTranspose, LeakyReLU, Dropout\n",
    "from tensorflow.keras.utils import plot_model\n",
    "\n",
    "from matplotlib import pyplot as plt\n"
   ]
  },
  {
   "cell_type": "markdown",
   "metadata": {},
   "source": [
    "# Supplementary Part"
   ]
  },
  {
   "cell_type": "markdown",
   "metadata": {},
   "source": [
    "## Define the function to create/build/define and compile the discriminator network"
   ]
  },
  {
   "cell_type": "code",
   "execution_count": 58,
   "metadata": {},
   "outputs": [
    {
     "name": "stdout",
     "output_type": "stream",
     "text": [
      "Model: \"sequential_21\"\n",
      "_________________________________________________________________\n",
      "Layer (type)                 Output Shape              Param #   \n",
      "=================================================================\n",
      "conv2d_42 (Conv2D)           (None, 128, 128, 128)     3584      \n",
      "_________________________________________________________________\n",
      "leaky_re_lu_70 (LeakyReLU)   (None, 128, 128, 128)     0         \n",
      "_________________________________________________________________\n",
      "conv2d_43 (Conv2D)           (None, 64, 64, 128)       147584    \n",
      "_________________________________________________________________\n",
      "leaky_re_lu_71 (LeakyReLU)   (None, 64, 64, 128)       0         \n",
      "_________________________________________________________________\n",
      "conv2d_44 (Conv2D)           (None, 32, 32, 128)       147584    \n",
      "_________________________________________________________________\n",
      "leaky_re_lu_72 (LeakyReLU)   (None, 32, 32, 128)       0         \n",
      "_________________________________________________________________\n",
      "conv2d_45 (Conv2D)           (None, 16, 16, 128)       147584    \n",
      "_________________________________________________________________\n",
      "leaky_re_lu_73 (LeakyReLU)   (None, 16, 16, 128)       0         \n",
      "_________________________________________________________________\n",
      "conv2d_46 (Conv2D)           (None, 8, 8, 128)         147584    \n",
      "_________________________________________________________________\n",
      "leaky_re_lu_74 (LeakyReLU)   (None, 8, 8, 128)         0         \n",
      "_________________________________________________________________\n",
      "flatten_7 (Flatten)          (None, 8192)              0         \n",
      "_________________________________________________________________\n",
      "dropout_7 (Dropout)          (None, 8192)              0         \n",
      "_________________________________________________________________\n",
      "dense_14 (Dense)             (None, 1)                 8193      \n",
      "=================================================================\n",
      "Total params: 602,113\n",
      "Trainable params: 602,113\n",
      "Non-trainable params: 0\n",
      "_________________________________________________________________\n",
      "None\n",
      "('You must install pydot (`pip install pydot`) and install graphviz (see instructions at https://graphviz.gitlab.io/download/) ', 'for plot_model/model_to_dot to work.')\n"
     ]
    }
   ],
   "source": [
    "# define the standalone discriminator model\n",
    "# Input would be 128x128x3 images and the output would be a binary (using sigmoid)\n",
    "#Remember that the discriminator is just a binary classifier for true/fake images.\n",
    "def define_discriminator(in_shape=(128,128,3)):\n",
    "\tmodel = Sequential()\n",
    "\t# normal\n",
    "\tmodel.add(Conv2D(128, (3,3), padding='same', input_shape=in_shape))\n",
    "\tmodel.add(LeakyReLU(alpha=0.2))\n",
    "\t# downsample to 64x64\n",
    "\tmodel.add(Conv2D(128, (3,3), strides=(2,2), padding='same'))\n",
    "\tmodel.add(LeakyReLU(alpha=0.2))\n",
    "\t# downsample to 32x32\n",
    "\tmodel.add(Conv2D(128, (3,3), strides=(2,2), padding='same'))\n",
    "\tmodel.add(LeakyReLU(alpha=0.2))\n",
    "\t# downsample to 16x16\n",
    "\tmodel.add(Conv2D(128, (3,3), strides=(2,2), padding='same'))\n",
    "\tmodel.add(LeakyReLU(alpha=0.2))\n",
    "\t# downsample to 8x8\n",
    "\tmodel.add(Conv2D(128, (3,3), strides=(2,2), padding='same'))\n",
    "\tmodel.add(LeakyReLU(alpha=0.2))\n",
    "\t# classifier\n",
    "\tmodel.add(Flatten())\n",
    "\tmodel.add(Dropout(0.4))\n",
    "\tmodel.add(Dense(1, activation='sigmoid'))\n",
    "\t# compile model\n",
    "\topt = Adam(lr=0.0002, beta_1=0.5)\n",
    "\tmodel.compile(loss='binary_crossentropy', optimizer=opt, metrics=['accuracy'])\n",
    "\treturn model\n",
    "\n",
    "#Verify the model summary\n",
    "test_discr = define_discriminator()\n",
    "print(test_discr.summary())\n",
    "plot_model(test_discr, to_file='disc_model.png', show_shapes=True)"
   ]
  },
  {
   "cell_type": "markdown",
   "metadata": {},
   "source": [
    "## Define the function to create/build/define the generator network"
   ]
  },
  {
   "cell_type": "code",
   "execution_count": 59,
   "metadata": {},
   "outputs": [
    {
     "name": "stdout",
     "output_type": "stream",
     "text": [
      "Model: \"sequential_22\"\n",
      "_________________________________________________________________\n",
      "Layer (type)                 Output Shape              Param #   \n",
      "=================================================================\n",
      "dense_15 (Dense)             (None, 8192)              827392    \n",
      "_________________________________________________________________\n",
      "leaky_re_lu_75 (LeakyReLU)   (None, 8192)              0         \n",
      "_________________________________________________________________\n",
      "reshape_7 (Reshape)          (None, 8, 8, 128)         0         \n",
      "_________________________________________________________________\n",
      "conv2d_transpose_28 (Conv2DT (None, 16, 16, 128)       262272    \n",
      "_________________________________________________________________\n",
      "leaky_re_lu_76 (LeakyReLU)   (None, 16, 16, 128)       0         \n",
      "_________________________________________________________________\n",
      "conv2d_transpose_29 (Conv2DT (None, 32, 32, 128)       262272    \n",
      "_________________________________________________________________\n",
      "leaky_re_lu_77 (LeakyReLU)   (None, 32, 32, 128)       0         \n",
      "_________________________________________________________________\n",
      "conv2d_transpose_30 (Conv2DT (None, 64, 64, 128)       262272    \n",
      "_________________________________________________________________\n",
      "leaky_re_lu_78 (LeakyReLU)   (None, 64, 64, 128)       0         \n",
      "_________________________________________________________________\n",
      "conv2d_transpose_31 (Conv2DT (None, 128, 128, 128)     262272    \n",
      "_________________________________________________________________\n",
      "leaky_re_lu_79 (LeakyReLU)   (None, 128, 128, 128)     0         \n",
      "_________________________________________________________________\n",
      "conv2d_47 (Conv2D)           (None, 128, 128, 3)       24579     \n",
      "=================================================================\n",
      "Total params: 1,901,059\n",
      "Trainable params: 1,901,059\n",
      "Non-trainable params: 0\n",
      "_________________________________________________________________\n",
      "None\n",
      "('You must install pydot (`pip install pydot`) and install graphviz (see instructions at https://graphviz.gitlab.io/download/) ', 'for plot_model/model_to_dot to work.')\n"
     ]
    }
   ],
   "source": [
    "# define the standalone generator model\n",
    "# Generator must generate 128x128x3 images that can be fed into the discriminator. \n",
    "# So, we start with enough nodes in the dense layer that can be gradually upscaled\n",
    "#to 128x128x3. \n",
    "#Remember that the input would be a latent vector (usually size 100)\n",
    "def define_generator(latent_dim):\n",
    "\tmodel = Sequential()\n",
    "\t# Define number of nodes that can be gradually reshaped and upscaled to 128x128x3\n",
    "\tn_nodes = 128 * 8 * 8 #8192 nodes\n",
    "\tmodel.add(Dense(n_nodes, input_dim=latent_dim))\n",
    "\tmodel.add(LeakyReLU(alpha=0.2))\n",
    "\tmodel.add(Reshape((8, 8, 128)))\n",
    "\t# upsample to 16x16\n",
    "\tmodel.add(Conv2DTranspose(128, (4,4), strides=(2,2), padding='same'))\n",
    "\tmodel.add(LeakyReLU(alpha=0.2))\n",
    "\t# upsample to 32x32\n",
    "\tmodel.add(Conv2DTranspose(128, (4,4), strides=(2,2), padding='same'))\n",
    "\tmodel.add(LeakyReLU(alpha=0.2))\n",
    "\t# upsample to 64x64\n",
    "\tmodel.add(Conv2DTranspose(128, (4,4), strides=(2,2), padding='same'))\n",
    "\tmodel.add(LeakyReLU(alpha=0.2))\n",
    "\t# upsample to 128x128\n",
    "\tmodel.add(Conv2DTranspose(128, (4,4), strides=(2,2), padding='same'))\n",
    "\tmodel.add(LeakyReLU(alpha=0.2))\n",
    "\t# output layer 128x128x3\n",
    "\tmodel.add(Conv2D(3, (8,8), activation='tanh', padding='same')) #tanh goes from [-1,1]\n",
    "\treturn model\n",
    "\n",
    "test_gen = define_generator(100)\n",
    "print(test_gen.summary())\n",
    "plot_model(test_gen, to_file='generator_model.png', show_shapes=True)"
   ]
  },
  {
   "cell_type": "markdown",
   "metadata": {},
   "source": [
    "## Define the function to create/build/define and compile the GAN model"
   ]
  },
  {
   "cell_type": "code",
   "execution_count": 60,
   "metadata": {},
   "outputs": [
    {
     "name": "stdout",
     "output_type": "stream",
     "text": [
      "Model: \"sequential_23\"\n",
      "_________________________________________________________________\n",
      "Layer (type)                 Output Shape              Param #   \n",
      "=================================================================\n",
      "sequential_22 (Sequential)   (None, 128, 128, 3)       1901059   \n",
      "_________________________________________________________________\n",
      "sequential_21 (Sequential)   (None, 1)                 602113    \n",
      "=================================================================\n",
      "Total params: 2,503,172\n",
      "Trainable params: 1,901,059\n",
      "Non-trainable params: 602,113\n",
      "_________________________________________________________________\n",
      "None\n",
      "('You must install pydot (`pip install pydot`) and install graphviz (see instructions at https://graphviz.gitlab.io/download/) ', 'for plot_model/model_to_dot to work.')\n"
     ]
    }
   ],
   "source": [
    "# define the combined generator and discriminator model, for updating the generator\n",
    "def define_gan(g_model, d_model):\n",
    "\t# make weights in the discriminator not trainable\n",
    "\td_model.trainable = False\n",
    "\t# connect them\n",
    "\tmodel = Sequential()\n",
    "\t# add generator\n",
    "\tmodel.add(g_model)\n",
    "\t# add the discriminator\n",
    "\tmodel.add(d_model)\n",
    "\t# compile model\n",
    "\topt = Adam(lr=0.0002, beta_1=0.5)\n",
    "\tmodel.compile(loss='binary_crossentropy', optimizer=opt)\n",
    "\treturn model\n",
    "\n",
    "test_gan = define_gan(test_gen, test_discr)\n",
    "print(test_gan.summary())\n",
    "plot_model(test_gan, to_file='combined_model.png', show_shapes=True)"
   ]
  },
  {
   "cell_type": "markdown",
   "metadata": {},
   "source": [
    "## Define a function to select a half batch size of real images (features + labels) from the dataset, then assign each selected real image a value of 1 as ground truth"
   ]
  },
  {
   "cell_type": "code",
   "execution_count": 61,
   "metadata": {},
   "outputs": [],
   "source": [
    "# Function to sample some random real images\n",
    "def generate_real_samples(dataset, n_samples):\n",
    "\tix = randint(0, dataset.shape[0], n_samples)\n",
    "\tX = dataset[ix]\n",
    "\ty = ones((n_samples, 1)) # Class labels for real images are 1\n",
    "\treturn X, y"
   ]
  },
  {
   "cell_type": "markdown",
   "metadata": {},
   "source": [
    "## Define a function to generate half batch size of random noise/latent vector as the input of the generator network"
   ]
  },
  {
   "cell_type": "code",
   "execution_count": 62,
   "metadata": {},
   "outputs": [],
   "source": [
    "# Function to generate random latent points\n",
    "def generate_latent_points(latent_dim, n_samples):\n",
    "\tx_input = randn(latent_dim * n_samples)\n",
    "\tx_input = x_input.reshape(n_samples, latent_dim) #Reshape to be provided as input to the generator. \n",
    "\treturn x_input"
   ]
  },
  {
   "cell_type": "markdown",
   "metadata": {},
   "source": [
    "## Define a function to generate images (fake images) using half batch size of random noise/latent vector"
   ]
  },
  {
   "cell_type": "code",
   "execution_count": 63,
   "metadata": {},
   "outputs": [],
   "source": [
    "# Function to generate fake images using latent vectors\n",
    "def generate_fake_samples(g_model, latent_dim, n_samples):\n",
    "\tx_input = generate_latent_points(latent_dim, n_samples) #Generate latent points as input to the generator\n",
    "\tX = g_model.predict(x_input) #Use the generator to generate fake images\n",
    "\ty = zeros((n_samples, 1)) # Class labels for fake images are 0\n",
    "\treturn X, y"
   ]
  },
  {
   "cell_type": "markdown",
   "metadata": {},
   "source": [
    "## Define a function to save the model performance for every N number of epochs"
   ]
  },
  {
   "cell_type": "code",
   "execution_count": 64,
   "metadata": {},
   "outputs": [],
   "source": [
    "# Function to save Plots after every n number of epochs\n",
    "def save_plot(examples, epoch, n=10):\n",
    "\t# The path to the cropped image folder\n",
    "\tpath_trainingdata = \"D:/AI_Master_New/Under_Local_Git_Covered/Deep_Learning_Tutorials_codebasics/Generative_Adversarial_Network_GAN/Explore_GAN_LatentSpace_Tutorial13/saved_data_during_training/images\"\n",
    "\t# Create the directory (folder) if the directory is not exist. If the directory exists, just skip it (nothing happens).\n",
    "\timport os\n",
    "\tos.makedirs(path_trainingdata, exist_ok = True)\n",
    "\t# scale images from [-1,1] to [0,1] so we can plot\n",
    "\texamples = (examples + 1) / 2.0\n",
    "\tfor i in range(n * n):\n",
    "\t\tplt.subplot(n, n, 1 + i)\n",
    "\t\tplt.axis('off')\n",
    "\t\tplt.imshow(examples[i])\n",
    "\t# save plot to a file so we can view how generated images evolved over epochs\n",
    "\tfilename = path_trainingdata + '/' + 'generated_plot_128x128_e%03d.png' % (epoch+1)\n",
    "\tplt.savefig(filename)\n",
    "\tplt.close()"
   ]
  },
  {
   "cell_type": "markdown",
   "metadata": {},
   "source": [
    "## Define a function to summarize the model performance periodically"
   ]
  },
  {
   "cell_type": "code",
   "execution_count": 65,
   "metadata": {},
   "outputs": [],
   "source": [
    "# Function to summarize performance periodically. \n",
    "def summarize_performance(epoch, g_model, d_model, dataset, latent_dim, n_samples=100):\n",
    "\t# Fetch real images\n",
    "\tX_real, y_real = generate_real_samples(dataset, n_samples)\n",
    "\t# evaluate discriminator on real images - get accuracy\n",
    "\t_, acc_real = d_model.evaluate(X_real, y_real, verbose=0)\n",
    "\t# Generate fake images\n",
    "\tx_fake, y_fake = generate_fake_samples(g_model, latent_dim, n_samples)\n",
    "\t# evaluate discriminator on fake images - get accuracy\n",
    "\t_, acc_fake = d_model.evaluate(x_fake, y_fake, verbose=0)\n",
    "\t# Print discriminate accuracies on ral and fake images. \n",
    "\tprint('>Accuracy real: %.0f%%, fake: %.0f%%' % (acc_real*100, acc_fake*100))\n",
    "\t# save generated images periodically using the save_plot function\n",
    "\tsave_plot(x_fake, epoch)\n",
    "\t# The path to the cropped image folder\n",
    "\tpath_trainingmodel = \"D:/AI_Master_New/Under_Local_Git_Covered/Deep_Learning_Tutorials_codebasics/Generative_Adversarial_Network_GAN/Explore_GAN_LatentSpace_Tutorial13/saved_data_during_training/models\"\n",
    "\t# Create the directory (folder) if the directory is not exist. If the directory exists, just skip it (nothing happens).\n",
    "\timport os\n",
    "\tos.makedirs(path_trainingmodel, exist_ok = True)\n",
    "\t# save the generator model\n",
    "\tfilename = path_trainingmodel + '/' + 'generator_model_128x128_%03d.h5' % (epoch+1)\n",
    "\tg_model.save(filename)\n"
   ]
  },
  {
   "cell_type": "markdown",
   "metadata": {},
   "source": [
    "## Define the function to perform the GAN model training"
   ]
  },
  {
   "cell_type": "code",
   "execution_count": 66,
   "metadata": {},
   "outputs": [],
   "source": [
    "# train the generator and discriminator by enumerating batches and epochs. \n",
    "def train(g_model, d_model, gan_model, dataset, latent_dim, n_epochs=100, n_batch=128):\n",
    "\tbat_per_epo = int(dataset.shape[0] / n_batch)\n",
    "\thalf_batch = int(n_batch / 2) #Disc. trained on half batch real and half batch fake images\n",
    "\t#  enumerate epochs\n",
    "\tfor i in range(n_epochs):\n",
    "\t\t# enumerate batches \n",
    "\t\tfor j in range(bat_per_epo):\n",
    "\t\t\t# Fetch random 'real' images\n",
    "\t\t\tX_real, y_real = generate_real_samples(dataset, half_batch)\n",
    "\t\t\t# Train the discriminator using real images\n",
    "\t\t\td_loss1, _ = d_model.train_on_batch(X_real, y_real)\n",
    "\t\t\t# generate 'fake' images \n",
    "\t\t\tX_fake, y_fake = generate_fake_samples(g_model, latent_dim, half_batch)\n",
    "\t\t\t# Train the discriminator using fake images\n",
    "\t\t\td_loss2, _ = d_model.train_on_batch(X_fake, y_fake)\n",
    "\t\t\t# Generate latent vectors as input for the generator\n",
    "\t\t\tX_gan = generate_latent_points(latent_dim, n_batch)\n",
    "\t\t\t# Label generated (fake) mages as 1 to fool the discriminator \n",
    "\t\t\ty_gan = ones((n_batch, 1))\n",
    "\t\t\t# Train the generator (via the discriminator's error)\n",
    "\t\t\tg_loss = gan_model.train_on_batch(X_gan, y_gan)\n",
    "\t\t\t# Report disc. and gen losses. \n",
    "\t\t\tprint('Epoch>%d, %d/%d, d1=%.3f, d2=%.3f g=%.3f' %\n",
    "\t\t\t\t(i+1, j+1, bat_per_epo, d_loss1, d_loss2, g_loss))\n",
    "\t\t# evaluate the model performance, sometimes\n",
    "\t\tif (i+1) % 10 == 0:\n",
    "\t\t\tsummarize_performance(i, g_model, d_model, dataset, latent_dim)"
   ]
  },
  {
   "cell_type": "markdown",
   "metadata": {},
   "source": [
    "# Main Part"
   ]
  },
  {
   "cell_type": "markdown",
   "metadata": {},
   "source": [
    "## Load dataset"
   ]
  },
  {
   "cell_type": "code",
   "execution_count": 67,
   "metadata": {},
   "outputs": [],
   "source": [
    "#Now that we defined all necessary functions, let us load data and train the GAN.\n",
    "# Dataset from: https://susanqq.github.io/UTKFace/\n",
    "import os\n",
    "import numpy as np\n",
    "import cv2\n",
    "from PIL import Image\n",
    "import random\n",
    "\n",
    " \n",
    "\"\"\" n=20000 #Number of images to read from the directory. (For training)\n",
    "SIZE = 128 #Resize images to this size\n",
    "all_img_list =  os.listdir('D:/AI_Master_New/Under_Local_Git_Covered/Deep_Learning_Tutorials_codebasics/Generative_Adversarial_Network_GAN/Explore_GAN_LatentSpace_Tutorial13/data/cropped_images/') \n",
    "\n",
    "dataset_list = random.sample(all_img_list, n) #Get n random images from the directory\n",
    " \"\"\"\n",
    "# Get all images in the directory\n",
    "dataset_list = os.listdir('D:/AI_Master_New/Under_Local_Git_Covered/Deep_Learning_Tutorials_codebasics/Generative_Adversarial_Network_GAN/Explore_GAN_LatentSpace_Tutorial13/data/cropped_images/') \n",
    "SIZE = 128 # Resize images to this size\n",
    "\n",
    "#Read images, resize and capture into a numpy array\n",
    "dataset = []\n",
    "for img in dataset_list:\n",
    "    temp_img = cv2.imread(\"D:/AI_Master_New/Under_Local_Git_Covered/Deep_Learning_Tutorials_codebasics/Generative_Adversarial_Network_GAN/Explore_GAN_LatentSpace_Tutorial13/data/cropped_images/\" + img)\n",
    "    temp_img = cv2.cvtColor(temp_img, cv2.COLOR_BGR2RGB) #opencv reads images as BGR so let us convert back to RGB\n",
    "    temp_img = Image.fromarray(temp_img)\n",
    "    temp_img = temp_img.resize((SIZE, SIZE)) #Resize\n",
    "    dataset.append(np.array(temp_img))   \n",
    "\n",
    "dataset = np.array(dataset) #Convert the list to numpy array"
   ]
  },
  {
   "cell_type": "markdown",
   "metadata": {},
   "source": [
    "## Data preprocessing"
   ]
  },
  {
   "cell_type": "code",
   "execution_count": 68,
   "metadata": {},
   "outputs": [],
   "source": [
    "#Rescale to [-1, 1] - remember that the generator uses tanh activation that goes from -1,1\n",
    "dataset = dataset.astype('float32')\n",
    "\t# scale from [0,255] to [-1,1]\n",
    "dataset = (dataset - 127.5) / 127.5"
   ]
  },
  {
   "cell_type": "markdown",
   "metadata": {},
   "source": [
    "## Create generator, discriminator, and GAN models before the training"
   ]
  },
  {
   "cell_type": "code",
   "execution_count": 69,
   "metadata": {},
   "outputs": [],
   "source": [
    "# size of the latent space\n",
    "latent_dim = 100\n",
    "# create the discriminator using our pre-defined function\n",
    "d_model = define_discriminator()\n",
    "# create the generator using our pre-defined function\n",
    "g_model = define_generator(latent_dim)\n",
    "# create the gan  using our pre-defined function\n",
    "gan_model = define_gan(g_model, d_model)"
   ]
  },
  {
   "cell_type": "markdown",
   "metadata": {},
   "source": [
    "## Perform GAN model training"
   ]
  },
  {
   "cell_type": "code",
   "execution_count": 70,
   "metadata": {},
   "outputs": [
    {
     "name": "stdout",
     "output_type": "stream",
     "text": [
      "Epoch>1, 1/510, d1=0.695, d2=0.696 g=0.692\n",
      "Epoch>1, 2/510, d1=0.598, d2=0.696 g=0.691\n",
      "Epoch>1, 3/510, d1=0.512, d2=0.700 g=0.688\n",
      "Epoch>1, 4/510, d1=0.340, d2=0.713 g=0.678\n"
     ]
    }
   ],
   "source": [
    "# train model\n",
    "train(g_model, d_model, gan_model, dataset, latent_dim, n_epochs=23, n_batch=16) # We set the batch_size=16 (extremely small) only because if go beyond this value, we will face OOM (out of memory) error on this device. The batch_size must be an even integer because we use it to calculate half_batch for discriminator. On this device, batch_size=16 for each image dimension 128x128 pixels take 16 minutes for 1 epoch training. "
   ]
  }
 ],
 "metadata": {
  "kernelspec": {
   "display_name": "GPUEnv",
   "language": "python",
   "name": "python3"
  },
  "language_info": {
   "codemirror_mode": {
    "name": "ipython",
    "version": 3
   },
   "file_extension": ".py",
   "mimetype": "text/x-python",
   "name": "python",
   "nbconvert_exporter": "python",
   "pygments_lexer": "ipython3",
   "version": "3.7.16"
  }
 },
 "nbformat": 4,
 "nbformat_minor": 2
}
