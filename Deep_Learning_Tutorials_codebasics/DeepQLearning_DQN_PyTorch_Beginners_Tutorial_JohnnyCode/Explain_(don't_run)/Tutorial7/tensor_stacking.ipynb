{
 "cells": [
  {
   "cell_type": "markdown",
   "metadata": {},
   "source": [
    "# Optimize Target Network PyTorch Code (DQN PyTorch Beginners Tutorial 7, by Johny Code)\n",
    "\n",
    "Link to the Youtube video tutorial: https://www.youtube.com/watch?v=kaXdV1pk8b4&list=PL58zEckBH8fCMIVzQCRSZVPUp3ZAVagWi&index=8 <br />\n",
    "Link to the Gymnasium official website: https://gymnasium.farama.org/ <br />\n",
    "Link to the Flappy Bird environment GitHub repository: https://github.com/markub3327/flappy-bird-gymnasium <br />\n",
    "\n",
    "**Information of tensor stacking:**\n",
    "1) <img src=\"hidden\\photo1.png\" alt=\"This image is a representation of the simple neural network\" style=\"width: 400px;\"/>  <br />\n",
    "    1) Tensor object refers to the type of a variable. If a variable is a tensor object, then that variable stores a sequence of tensors, while each row of that variable is a tensor.\n",
    "    2) At the first debug console command, the figure above shows the variable states is a tensor object. Hence, each entry of the variable states is a tensor such that {row/index 1: tensor1; row/index 2: tensor2..., where tensor1 = tensor([value1,value2,value3,value4,...]) }.\n",
    "    3) At the second debug console command, the figure above shows the first tensor (the first element/row) of the variable states has the values of tensor([value1,value2,value3,value4]) = tensor([0.0956, 0.6166, -0.0345, -0.8312]).\n",
    "    4) At the third debug console command, the figure above shows the size of the variable states is 32. In other words, the variable states stores 32 tensors in sequence (one-by-one). The variable states stores 32 tensors in sequence because we set the mini_batch_size=32, and this means there are 32 sampled experience instances stored in the variable mini_batch (the memory/deque) before the state elements in the variable mini_batch is copied to the variable states.\n",
    "    5) At the fourth debug console command, the figure above shows the size of the variable actions is 32. In other words, the variable actions stores 32 tensors in sequence (one-by-one). The variable actions stores 32 tensors in sequence because of the same reason as the one of variable states {we set the mini_batch_size=32, and this means there are 32 sampled experience instances stored in the variable mini_batch (the memory/deque) before the state elements in the variable mini_batch is copied to the variable states}.\n",
    "    6) At the fifth debug console command, the figure above shows the first tensor (the first element/row) of the variable actions has the value of tensor(value1) = tensor(0).\n",
    "\n",
    "2) <img src=\"hidden\\photo7.png\" alt=\"This image is a representation of the simple neural network\" style=\"width: 400px;\"/>  <br />\n",
    "    1) At the first debug console command, the figure above shows the data stored in the variable states before performing tensor stacking through \"torch.stacking()\". Now, the variable states contains 32 tensors/elements in sequence (one-by-one). So if you pass this tensor object to PyTorch for processing, the PyTorch only can process all the tensors/elements of the tensor object one-by-one in sequence.\n",
    "    2) At the second debug console command, the figure above shows the data stored in the variable states after performing tensor stacking through \"torch.stacking()\". Now, the variable states contains 32 tensors/elements as a batch tensor (not in sequence [one-by-one] anymore). So if you pass this batch tensor to PyTorch for processing, the PyTorch can process all the tensors/elements of the batch tensor in one shot (not one-by-one in sequence anymore)."
   ]
  },
  {
   "cell_type": "markdown",
   "metadata": {},
   "source": [
    "We use torch.stack() to join (concatenate) a sequence of tensors (two or more tensors) along a new dimension. The tensors must be same dimensions and shape. It inserts a new dimension and concatenates the tensors along that dimension. \n",
    "\n",
    "The detailed information of \"torch.stack()\": https://www.geeksforgeeks.org/python-pytorch-stack-method/  <br />\n",
    "\n",
    "The codes below show performing tensor stacking by using \"torch.stack()\""
   ]
  },
  {
   "cell_type": "code",
   "execution_count": null,
   "metadata": {
    "vscode": {
     "languageId": "plaintext"
    }
   },
   "outputs": [],
   "source": [
    "# Stack tensors (in the form of sequence, one-by-one) of the tensor object called states to create batch tensors (EG: from {row/index 1: tensor2; row/index 2: tensor2..., where tensor1 = tensor([value1,value2,value3,value4,...]) } into tensor([[tensor1, tensor2, tensor3, ...]])), then store in tensor object states.\n",
    "        states = torch.stack(states)\n",
    "        actions = torch.stack(actions)\n",
    "        new_states = torch.stack(new_states)\n",
    "        rewards = torch.stack(rewards)"
   ]
  },
  {
   "cell_type": "markdown",
   "metadata": {},
   "source": [
    "**The information of implementing the target network:**\n",
    "1) <img src=\"hidden\\photo2.png\" alt=\"This image is a representation of the simple neural network\" style=\"width: 700px;\"/>  <br />\n",
    "    1) At the first debug console command, the figure above shows the variable terminations contains the information of boolean string (either True or False).\n",
    "    2) At the second debug console command, the figure above shows the information in the variable terminations is converted from boolean string (either True or False) into boolean floating number (either 1.0 or 0.0), after executing the command of \"terminations = torch.tensor(terminations).float().to(device)\".\n",
    "    3) Explanation of the command of \"terminations = torch.tensor(terminations).float().to(device)\":\n",
    "        1) Use torch.tensor() to convert each boolean string (True or False) in the variable terminations into a float number (1.0 or 0.0). We send \"torch.tensor(terminations).float()\" to the selected device to do process (to do the conversion and the results will be returned as a tensor object). We do this conversion so that at later stage we can use the terminations information to do math directly.\n",
    "\n",
    "2) <img src=\"hidden\\photo3.png\" alt=\"This image is a representation of the simple neural network\" style=\"width: 700px;\"/>  <br />\n",
    "    1) At the first debug console command, the figure above shows the variable target_q is a tensor object that stores 32 tensors/elements. Each tensor is a calculated target Q value for the best action for a sampled experience instance. Since we set mini_batch_size=32, we have 32 sampled experience instances stored in the memory/deque, so we have 32 tensors/elements in the variable target_q.\n",
    "    2) At the second debug console command, the figure above shows that after we providing states information to the DQN (policy_dqn), the output returned by the DQN is a tensor object that contains 32 tensors/elements. Each tensor consists of 2 values, which are the Q values for taking the actions in the action space of the environment respectively.\n",
    "\n",
    "3) <img src=\"hidden\\photo4.png\" alt=\"This image is a representation of the simple neural network\" style=\"width: 700px;\"/>  <br />\n",
    "    1) At the first debug console command, the figure above shows the variable current_q is a tensor object that contains 32 tensors/elements. Each tensor is the predicted Q value of the action took by the action at the moment/iteration the sampled experience instance is obtained.\n",
    "\n",
    "4) <img src=\"hidden\\photo5.png\" alt=\"This image is a representation of the simple neural network\" style=\"width: 700px;\"/>  <br />\n",
    "    1) At the first and second debug console command, the figure above shows the variables current_q and target_q again. The variables current_q and target_q are used as the inputs to calculate the loss for the whole mini batch of experience, through the command below:\n",
    "        1) <img src=\"hidden\\photo6.png\" alt=\"This image is a representation of the simple neural network\" style=\"width: 700px;\"/>  <br />\n",
    "    2) At the third debug console command, the figure above shows the variable loss. The variable loss is a tensor object that contains 1 tensor/element. The tensor is the floating value that represents the calculated loss for the mini batch of experience."
   ]
  }
 ],
 "metadata": {
  "language_info": {
   "name": "python"
  }
 },
 "nbformat": 4,
 "nbformat_minor": 2
}
