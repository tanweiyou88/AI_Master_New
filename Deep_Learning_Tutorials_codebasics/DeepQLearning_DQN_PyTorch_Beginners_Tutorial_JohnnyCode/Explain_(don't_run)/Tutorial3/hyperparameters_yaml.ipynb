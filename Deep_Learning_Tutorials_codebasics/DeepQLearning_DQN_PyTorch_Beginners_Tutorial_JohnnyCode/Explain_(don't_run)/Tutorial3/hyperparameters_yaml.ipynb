{
 "cells": [
  {
   "cell_type": "markdown",
   "metadata": {},
   "source": [
    "# Add Hyperparameters (DQN PyTorch Beginners Tutorial 3, by Johny Code)\n",
    "\n",
    "Link to the Youtube video tutorial:  https://www.youtube.com/watch?v=y3BSPfmMIkA&list=PL58zEckBH8fCMIVzQCRSZVPUp3ZAVagWi&index=3   <br />\n",
    "Link to the Gymnasium official website: https://gymnasium.farama.org/ <br />\n",
    "Link to the Flappy Bird environment GitHub repository: https://github.com/markub3327/flappy-bird-gymnasium <br />\n",
    "\n",
    "**Information of YAML file:**\n",
    "1) To use YAML file, we need to:\n",
    "    1) Have a code of \"import yaml\" in the main file\n",
    "    2) Execute the command of \"pip install pyyaml\"\n",
    "2) We can use YAML file for the purpose of updating the hyperparameter variables in the main file with the corresponding hyperparameter variable values stored in the YAML file respectively.\n",
    "3) Usually, to use YAML file for the purpose of updating the hyperparameter variables in the main file, we can have multiple hyperparameter sets in the YAML file.\n",
    "4) For each hyperparameter set:\n",
    "    1) It has a hyperparameter set name as the first line, ended with \":\"\n",
    "    2) A bunch of (multiple) hyperparameter variable names with the corresponding values (either in the form of number or text string) respectively\n",
    "    3) For example:\n",
    "        1) Hyperparameter_Set1_Name:\n",
    "                Hyperparameter1_Name: Hyperparameter1_Value\n",
    "                Hyperparameter2_Name: Hyperparameter2_Value\n",
    "                Hyperparameter3_Name: Hyperparameter3_Value"
   ]
  }
 ],
 "metadata": {
  "language_info": {
   "name": "python"
  }
 },
 "nbformat": 4,
 "nbformat_minor": 2
}
