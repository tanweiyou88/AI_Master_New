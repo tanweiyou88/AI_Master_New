{
 "cells": [
  {
   "cell_type": "markdown",
   "metadata": {},
   "source": [
    "# Word Embedding using Keras Embedding Layer\n",
    "\n",
    "Link to the Youtube tutorial video: https://www.youtube.com/watch?v=Fuw0wv3X-0o&list=PLeo1K3hjS3uu7CxAacxVndI4bE_o3BDtO&index=41\n",
    "\n",
    "1) **Important things to note for this tutorial:**\n",
    "    1) Using supervised learning method (EG: neural network here) to perform food review (sentiment) classification (Classify if a food review sentence is a positive or negative review) so that we can get word embedding as the by-product of the food review classification. \n",
    "    2) It is important to note here that our main goal in this food review classification tasks (tutorial) is to get word embedding (from the embedding layer of the neural network), not to get a good neural network for food review classification.\n",
    "    3) Word embedding are the parameters/weights in the neural network that used to perform the corresponding sentiment classification tasks.\n",
    "\n",
    "\n",
    "2) **Important concept of obtaining word embeddings from sentiment classification tasks using supervised learning approach:**\n",
    "    1) <img src=\"hidden\\photo2.png\" alt=\"This image is a representation of the simple neural network\" style=\"width: 450px;\"/>  <br />\n",
    "        1) The similar vocabularies/words (EG: Cummins & Dhoni are human name; Australia & Zimbabwe are country name) will have similar word feature vector (The value of each feature is close to each other OR even same) \n",
    "    2) <img src=\"hidden\\photo3.png\" alt=\"This image is a representation of the simple neural network\" style=\"width: 450px;\"/>  <br />\n",
    "    3) <img src=\"hidden\\photo4.png\" alt=\"This image is a representation of the simple neural network\" style=\"width: 450px;\"/>  <br />\n",
    "    4) <img src=\"hidden\\photo5.png\" alt=\"This image is a representation of the simple neural network\" style=\"width: 450px;\"/>  <br />\n",
    "    5) <img src=\"hidden\\photo6.png\" alt=\"This image is a representation of the simple neural network\" style=\"width: 450px;\"/>  <br />\n",
    "    6) <img src=\"hidden\\photo7.png\" alt=\"This image is a representation of the simple neural network\" style=\"width: 450px;\"/>  <br />\n",
    "    7) <img src=\"hidden\\photo8.png\" alt=\"This image is a representation of the simple neural network\" style=\"width: 450px;\"/>  <br />\n",
    "    8) <img src=\"hidden\\photo9.png\" alt=\"This image is a representation of the simple neural network\" style=\"width: 450px;\"/>  <br />"
   ]
  },
  {
   "cell_type": "code",
   "execution_count": 17,
   "metadata": {},
   "outputs": [],
   "source": [
    "import numpy as np\n",
    "from tensorflow.keras.preprocessing.text import one_hot\n",
    "from tensorflow.keras.preprocessing.sequence import pad_sequences\n",
    "from tensorflow.keras.models import Sequential\n",
    "from tensorflow.keras.layers import Dense\n",
    "from tensorflow.keras.layers import Flatten\n",
    "from tensorflow.keras.layers import Embedding"
   ]
  },
  {
   "cell_type": "markdown",
   "metadata": {},
   "source": [
    "# Load the dataset"
   ]
  },
  {
   "cell_type": "code",
   "execution_count": 18,
   "metadata": {},
   "outputs": [],
   "source": [
    "# Assume the reviews variable stores the features(reviews) of food review dataset (in total, we only gathered/have 10 food reviews in the dataset here)\n",
    "reviews = ['nice food',\n",
    "           'amazing restaurant',\n",
    "           'too good',\n",
    "           'just loved it!',\n",
    "           'will go again',\n",
    "           'horrible food',\n",
    "           'never go there',\n",
    "           'poor service',\n",
    "           'poor quality',\n",
    "           'needs improvement']\n",
    "\n",
    "# The label (ground truth) of each sample of food review dataset (representing each food review either is good [positve] or bad [negative])\n",
    "sentiment = np.array([1,1,1,1,1,0,0,0,0,0])"
   ]
  },
  {
   "cell_type": "markdown",
   "metadata": {},
   "source": [
    "# Data Preprocessing"
   ]
  },
  {
   "cell_type": "markdown",
   "metadata": {},
   "source": [
    "## Convert each word(vocabulary) into one-hot-encoding representation\n",
    "\n",
    "Vocabulary size refers to the total number of unique vocabulary/word available in a dataset (EG: the food review dataset, that consists of all food review sentences available)"
   ]
  },
  {
   "cell_type": "code",
   "execution_count": 19,
   "metadata": {},
   "outputs": [
    {
     "name": "stdout",
     "output_type": "stream",
     "text": [
      "[[17, 22], [27, 21], [28, 16], [13, 3, 4], [25, 7, 24], [12, 22], [11, 7, 13], [10, 29], [10, 20], [11, 8]]\n"
     ]
    }
   ],
   "source": [
    "# Initialize the vocabulary size (The vocabulary size is set as 50 here). When you found there are vocabularies assigned with the same unique number, you increase your vocabulary size to solve the problem.\n",
    "vocab_size = 50\n",
    "\n",
    "# Encode all the food reviews into one-hot-encoding representation OR encoded vector, using one_hot(). one_hot(\"the words you want to convert into one-hot-encoding representation\", the vocabulary size = maximum word size). Then the one_hot() will assign a unique & fixed number (between 0 and the maximum word size provided) to each word provided. Internally, keras will convert the unique number into one-hot-encoding representation (EG:0, 0, 1, 0, ).\n",
    "encoded_reviews = [one_hot(d , 30) for d in reviews]\n",
    "print(encoded_reviews)"
   ]
  },
  {
   "cell_type": "markdown",
   "metadata": {},
   "source": [
    "## Pad each food review sentence so that each food review sentence has same word/vocabulary size/number (so that later, the input layer of neural network can accept all the food review sentences)\n",
    "\n",
    "1) The image below shows the food review sentence consists of 3 vocabularies/words  <br />\n",
    "    <img src=\"hidden\\photo1.png\" alt=\"This image is a representation of the simple neural network\" style=\"width: 450px;\"/>  <br />"
   ]
  },
  {
   "cell_type": "code",
   "execution_count": 20,
   "metadata": {},
   "outputs": [
    {
     "name": "stdout",
     "output_type": "stream",
     "text": [
      "[[17 22  0]\n",
      " [27 21  0]\n",
      " [28 16  0]\n",
      " [13  3  4]\n",
      " [25  7 24]\n",
      " [12 22  0]\n",
      " [11  7 13]\n",
      " [10 29  0]\n",
      " [10 20  0]\n",
      " [11  8  0]]\n"
     ]
    }
   ],
   "source": [
    "# max_length refers to the maximum number of vocabulary/word that each sentence has\n",
    "max_length = 3\n",
    "\n",
    "# Pad each food review sentence so that each food review sentence has same word size (here, each food review sentence has word size of 3, even after padding)\n",
    "# pad_sequences(dataset_of_encoded_reviews, maximum_word_size_of_each_sentence, padding='post'_means_pad_until_the_end_if_the_word_size_of_the_sentence_does_not_reach_maximum)\n",
    "padded_reviews = pad_sequences(encoded_reviews, maxlen=max_length, padding='post')\n",
    "print(padded_reviews)"
   ]
  },
  {
   "cell_type": "markdown",
   "metadata": {},
   "source": [
    "## Split the food review dataset into features and ground truths variables respectively"
   ]
  },
  {
   "cell_type": "code",
   "execution_count": 21,
   "metadata": {},
   "outputs": [],
   "source": [
    "# The features variable containing the features of the food review dataset\n",
    "X = padded_reviews\n",
    "\n",
    "# The ground truths variable containing the ground truths of the food review dataset\n",
    "Y = sentiment"
   ]
  },
  {
   "cell_type": "markdown",
   "metadata": {},
   "source": [
    "# Develop the neural network (model) to perform food review classification\n",
    "\n",
    "1) The neural network involved in this tutorial consists of 4 layers:\n",
    "    1) Layer 1: Input layer\n",
    "    2) Layer 2: Embedding layer\n",
    "    3) Layer 3: Flatten layer\n",
    "    4) Layer 4: Output layer\n",
    "2) <img src=\"hidden\\embedding_layer.png\" alt=\"This image is a representation of the simple neural network\" style=\"width: 450px;\"/>  <br />\n",
    "    1) A word embedding vector, also known as word feature vector, is the result of multiplying a word/vocabulary feature vector (a row of feature vector in the embedding matrix corresponds to a vocabulary/word, which having the paramaters/weights that obtained at previous iteration or initialized at the begining [not the latest one]) and its one-hot-encoding representation. It is the feature vector of a vocabulary/word.\n",
    "    2) At the embedding layer (Emb.L), you can access all the word embedding vectors.\n",
    "2) <img src=\"hidden\\flatten_layer.png\" alt=\"This image is a representation of the simple neural network\" style=\"width: 450px;\"/>  <br />\n",
    "    1) Once you get word embedding vectors from your embedding layer, you want to flatten them into a 1D vector at the flatten layer (Flat.L). So the 3rd layer of the model is flatten layer.\n",
    "3) <img src=\"hidden\\output_layer.png\" alt=\"This image is a representation of the simple neural network\" style=\"width: 450px;\"/>  <br />\n",
    "    1) The layer after the flatten layer (4th layer of the model) is one neuron sigmoid activation function, so it will be a dense layer with a sigma activation.\n"
   ]
  },
  {
   "cell_type": "code",
   "execution_count": 22,
   "metadata": {},
   "outputs": [
    {
     "data": {
      "text/html": [
       "<pre style=\"white-space:pre;overflow-x:auto;line-height:normal;font-family:Menlo,'DejaVu Sans Mono',consolas,'Courier New',monospace\"><span style=\"font-weight: bold\">Model: \"sequential_2\"</span>\n",
       "</pre>\n"
      ],
      "text/plain": [
       "\u001b[1mModel: \"sequential_2\"\u001b[0m\n"
      ]
     },
     "metadata": {},
     "output_type": "display_data"
    },
    {
     "data": {
      "text/html": [
       "<pre style=\"white-space:pre;overflow-x:auto;line-height:normal;font-family:Menlo,'DejaVu Sans Mono',consolas,'Courier New',monospace\">┏━━━━━━━━━━━━━━━━━━━━━━━━━━━━━━━━━┳━━━━━━━━━━━━━━━━━━━━━━━━┳━━━━━━━━━━━━━━━┓\n",
       "┃<span style=\"font-weight: bold\"> Layer (type)                    </span>┃<span style=\"font-weight: bold\"> Output Shape           </span>┃<span style=\"font-weight: bold\">       Param # </span>┃\n",
       "┡━━━━━━━━━━━━━━━━━━━━━━━━━━━━━━━━━╇━━━━━━━━━━━━━━━━━━━━━━━━╇━━━━━━━━━━━━━━━┩\n",
       "│ embedding (<span style=\"color: #0087ff; text-decoration-color: #0087ff\">Embedding</span>)           │ (<span style=\"color: #00d7ff; text-decoration-color: #00d7ff\">None</span>, <span style=\"color: #00af00; text-decoration-color: #00af00\">3</span>, <span style=\"color: #00af00; text-decoration-color: #00af00\">4</span>)           │           <span style=\"color: #00af00; text-decoration-color: #00af00\">200</span> │\n",
       "├─────────────────────────────────┼────────────────────────┼───────────────┤\n",
       "│ flatten_2 (<span style=\"color: #0087ff; text-decoration-color: #0087ff\">Flatten</span>)             │ (<span style=\"color: #00d7ff; text-decoration-color: #00d7ff\">None</span>, <span style=\"color: #00af00; text-decoration-color: #00af00\">12</span>)             │             <span style=\"color: #00af00; text-decoration-color: #00af00\">0</span> │\n",
       "├─────────────────────────────────┼────────────────────────┼───────────────┤\n",
       "│ dense_2 (<span style=\"color: #0087ff; text-decoration-color: #0087ff\">Dense</span>)                 │ (<span style=\"color: #00d7ff; text-decoration-color: #00d7ff\">None</span>, <span style=\"color: #00af00; text-decoration-color: #00af00\">1</span>)              │            <span style=\"color: #00af00; text-decoration-color: #00af00\">13</span> │\n",
       "└─────────────────────────────────┴────────────────────────┴───────────────┘\n",
       "</pre>\n"
      ],
      "text/plain": [
       "┏━━━━━━━━━━━━━━━━━━━━━━━━━━━━━━━━━┳━━━━━━━━━━━━━━━━━━━━━━━━┳━━━━━━━━━━━━━━━┓\n",
       "┃\u001b[1m \u001b[0m\u001b[1mLayer (type)                   \u001b[0m\u001b[1m \u001b[0m┃\u001b[1m \u001b[0m\u001b[1mOutput Shape          \u001b[0m\u001b[1m \u001b[0m┃\u001b[1m \u001b[0m\u001b[1m      Param #\u001b[0m\u001b[1m \u001b[0m┃\n",
       "┡━━━━━━━━━━━━━━━━━━━━━━━━━━━━━━━━━╇━━━━━━━━━━━━━━━━━━━━━━━━╇━━━━━━━━━━━━━━━┩\n",
       "│ embedding (\u001b[38;5;33mEmbedding\u001b[0m)           │ (\u001b[38;5;45mNone\u001b[0m, \u001b[38;5;34m3\u001b[0m, \u001b[38;5;34m4\u001b[0m)           │           \u001b[38;5;34m200\u001b[0m │\n",
       "├─────────────────────────────────┼────────────────────────┼───────────────┤\n",
       "│ flatten_2 (\u001b[38;5;33mFlatten\u001b[0m)             │ (\u001b[38;5;45mNone\u001b[0m, \u001b[38;5;34m12\u001b[0m)             │             \u001b[38;5;34m0\u001b[0m │\n",
       "├─────────────────────────────────┼────────────────────────┼───────────────┤\n",
       "│ dense_2 (\u001b[38;5;33mDense\u001b[0m)                 │ (\u001b[38;5;45mNone\u001b[0m, \u001b[38;5;34m1\u001b[0m)              │            \u001b[38;5;34m13\u001b[0m │\n",
       "└─────────────────────────────────┴────────────────────────┴───────────────┘\n"
      ]
     },
     "metadata": {},
     "output_type": "display_data"
    },
    {
     "data": {
      "text/html": [
       "<pre style=\"white-space:pre;overflow-x:auto;line-height:normal;font-family:Menlo,'DejaVu Sans Mono',consolas,'Courier New',monospace\"><span style=\"font-weight: bold\"> Total params: </span><span style=\"color: #00af00; text-decoration-color: #00af00\">213</span> (852.00 B)\n",
       "</pre>\n"
      ],
      "text/plain": [
       "\u001b[1m Total params: \u001b[0m\u001b[38;5;34m213\u001b[0m (852.00 B)\n"
      ]
     },
     "metadata": {},
     "output_type": "display_data"
    },
    {
     "data": {
      "text/html": [
       "<pre style=\"white-space:pre;overflow-x:auto;line-height:normal;font-family:Menlo,'DejaVu Sans Mono',consolas,'Courier New',monospace\"><span style=\"font-weight: bold\"> Trainable params: </span><span style=\"color: #00af00; text-decoration-color: #00af00\">213</span> (852.00 B)\n",
       "</pre>\n"
      ],
      "text/plain": [
       "\u001b[1m Trainable params: \u001b[0m\u001b[38;5;34m213\u001b[0m (852.00 B)\n"
      ]
     },
     "metadata": {},
     "output_type": "display_data"
    },
    {
     "data": {
      "text/html": [
       "<pre style=\"white-space:pre;overflow-x:auto;line-height:normal;font-family:Menlo,'DejaVu Sans Mono',consolas,'Courier New',monospace\"><span style=\"font-weight: bold\"> Non-trainable params: </span><span style=\"color: #00af00; text-decoration-color: #00af00\">0</span> (0.00 B)\n",
       "</pre>\n"
      ],
      "text/plain": [
       "\u001b[1m Non-trainable params: \u001b[0m\u001b[38;5;34m0\u001b[0m (0.00 B)\n"
      ]
     },
     "metadata": {},
     "output_type": "display_data"
    }
   ],
   "source": [
    "# The feature vector of each vocabulary has size of 4 (means each vocabulary is embedded to have 4 features)\n",
    "embedded_vector_size = 4\n",
    "\n",
    "model = Sequential() # Create a neural network (model)\n",
    "model.add(Embedding(vocab_size, embedded_vector_size, input_shape = (max_length,), name='embedding')) # This layer is the 2nd layer of the model (after the 1st layer of the model called input layer, represented by the parameter: input_shape = (max_length,)), which is called embedding layer. name=\"embedding\" means we call this layer as embedding. The input of the embedding layer is a 1D array.\n",
    "model.add(Flatten()) # The 3rd layer of the model is flatten layer\n",
    "model.add(Dense(1,activation='sigmoid')) # The 4th layer of the model is output layer, having only 1 output neuron followed by a sigmoid function as the activation function\n",
    "\n",
    "# Compile the model\n",
    "model.compile(optimizer='adam', loss='binary_crossentropy', metrics=['accuracy']) # usually we end up using adam as an optimizer. We use binary cross entropy here because the food review classification output is either 1 (the food review sentence is positive) or 0 (the food review sentence is negative)\n",
    "\n",
    "# Show the summary of the model\n",
    "model.summary()"
   ]
  },
  {
   "cell_type": "code",
   "execution_count": 23,
   "metadata": {},
   "outputs": [
    {
     "name": "stdout",
     "output_type": "stream",
     "text": [
      "\u001b[1m1/1\u001b[0m \u001b[32m━━━━━━━━━━━━━━━━━━━━\u001b[0m\u001b[37m\u001b[0m \u001b[1m0s\u001b[0m 165ms/step - accuracy: 1.0000 - loss: 0.6006\n",
      "The loss of the model:  0.6005924940109253\n",
      "The accuracy of the model:  1.0\n"
     ]
    }
   ],
   "source": [
    "# Train the model\n",
    "model.fit(X, Y, epochs = 50, verbose = 0)\n",
    "\n",
    "# Evaluate the model\n",
    "loss, accuracy = model.evaluate(X, Y)\n",
    "\n",
    "print('The loss of the model: ', loss)\n",
    "print('The accuracy of the model: ', accuracy)"
   ]
  },
  {
   "cell_type": "markdown",
   "metadata": {},
   "source": [
    "# Access word embedding data\n",
    "\n",
    "<img src=\"hidden\\get-layer.png\" alt=\"This image is a representation of the simple neural network\" style=\"width: 450px;\"/>  <br />\n",
    "1) model.get_layer('embedding').get_weights()[0] returns the embedding matrix.\n",
    "2) In the embedding matrix, each row is a word feature vector for a vocabulary.\n",
    "3) Each word feature vector consists of 4 elements/weigths/values for 4 features respectively. \n",
    "4) There are 4 elements in each word feature vector (EG: W1, W2, W3) because we set the embedded_vector_size = 4.\n",
    "5) Extra information: The way keras embedding layer works is during the process of solving the naturla language processing (NLP) task, it will compute the embeddings before flattening them for classification."
   ]
  },
  {
   "cell_type": "code",
   "execution_count": 24,
   "metadata": {},
   "outputs": [
    {
     "name": "stdout",
     "output_type": "stream",
     "text": [
      "The weights variable has size of 50 rows (length), because the vocabulary size is set as 50. In other words, this weight variable stores the embedding matrix.\n",
      "\n",
      "The word embedding data:\n",
      " [[-0.00893866 -0.04105903 -0.00990777  0.0472002 ]\n",
      " [ 0.01166898 -0.00807108 -0.02471987 -0.02783774]\n",
      " [-0.04324081 -0.01338353  0.00510011 -0.03974064]\n",
      " [-0.04760553 -0.04837851 -0.05951424 -0.05904164]\n",
      " [ 0.03671586  0.08047783 -0.00788675 -0.0542903 ]\n",
      " [ 0.03022002 -0.04383122 -0.00568693  0.00713822]\n",
      " [-0.01144054 -0.01705159 -0.02937682 -0.04169852]\n",
      " [-0.02314463  0.00547925  0.04399073  0.03991968]\n",
      " [ 0.04490092  0.04464502  0.02929769  0.05410272]\n",
      " [-0.01785148  0.00149143  0.01942505 -0.04957661]\n",
      " [-0.06543125  0.05360292  0.07699166 -0.09298114]\n",
      " [-0.09568721  0.06171154  0.10459383 -0.07355255]\n",
      " [-0.09894915  0.03311571  0.03486707 -0.07115208]\n",
      " [ 0.06456498 -0.0963833   0.03941916  0.07568935]\n",
      " [-0.04084482 -0.04014798 -0.02574313 -0.00581142]\n",
      " [-0.046621    0.03380263 -0.01428796 -0.03250074]\n",
      " [-0.04292185 -0.04599458 -0.09985713 -0.09962501]\n",
      " [ 0.02135885 -0.09388874 -0.00153426  0.00150677]\n",
      " [-0.03808452  0.04639101  0.01481798 -0.01749204]\n",
      " [ 0.0312604  -0.03231994 -0.04605359 -0.04967261]\n",
      " [ 0.08789164  0.05284192  0.0224303   0.00987305]\n",
      " [-0.02985611 -0.07739379 -0.04050799 -0.00570881]\n",
      " [-0.00670137 -0.02999259  0.01800147  0.0482673 ]\n",
      " [ 0.01003625  0.02118257 -0.00614665 -0.02005701]\n",
      " [ 0.10308849  0.06671137 -0.03082903 -0.0064413 ]\n",
      " [ 0.06453268 -0.08594253 -0.01737968  0.07421354]\n",
      " [-0.0028991  -0.02210722 -0.01279223  0.04645653]\n",
      " [ 0.02273334 -0.06155371 -0.09431972  0.07035429]\n",
      " [ 0.03679908 -0.08193095 -0.07504835  0.05052162]\n",
      " [ 0.08036044  0.04372042  0.05593836  0.05393194]\n",
      " [-0.02488465  0.00597264 -0.04360474 -0.04826889]\n",
      " [ 0.02566651 -0.00929765 -0.01684849  0.03593847]\n",
      " [ 0.00917888 -0.01986982 -0.00432993  0.01664742]\n",
      " [-0.02983292 -0.03750118 -0.01821419  0.04448568]\n",
      " [ 0.01411896 -0.03130342 -0.03307905 -0.04099225]\n",
      " [-0.0294265  -0.0030439   0.02776864 -0.01278747]\n",
      " [ 0.024122   -0.00755602 -0.00492076 -0.00332619]\n",
      " [-0.0018167   0.0202908  -0.02162178 -0.02561688]\n",
      " [ 0.02080141  0.0315015   0.0068415   0.03952229]\n",
      " [-0.01406691 -0.03387313  0.03444436  0.01846769]\n",
      " [ 0.04390856 -0.04532015 -0.04121884 -0.03917183]\n",
      " [ 0.01560218  0.02345229  0.03520476 -0.04943249]\n",
      " [-0.04707881  0.00150729 -0.04494544  0.00052919]\n",
      " [-0.04781416 -0.00218327  0.04902513 -0.01697361]\n",
      " [ 0.00320808 -0.03174283 -0.00941843 -0.04269365]\n",
      " [ 0.02552686  0.02695561  0.00412545 -0.04866991]\n",
      " [-0.01521574 -0.03109222 -0.0143368  -0.04504088]\n",
      " [-0.00464832 -0.01800647 -0.00729519 -0.0051182 ]\n",
      " [-0.00658475  0.00343544  0.04916643 -0.00785335]\n",
      " [ 0.03489381  0.00090114  0.00580806 -0.01481744]]\n",
      "\n",
      "The unique number assigned to the vocabulary of \"nice\" is 17 , the word feature/embedding vector of the vocabulary of \"nice\":\n",
      "[ 0.02135885 -0.09388874 -0.00153426  0.00150677]\n",
      "\n",
      "The unique number assigned to the vocabulary of \"improvement\" is 8 , the word feature/embedding vector of the vocabulary of \"improvement\":\n",
      "[0.04490092 0.04464502 0.02929769 0.05410272]\n"
     ]
    }
   ],
   "source": [
    "# model.get_layer('name_of_the_layer_you_give') retrieves the specified layer from the neural network, get_weights() returns the parameters/weights of that layer in 3D array. get_weights()[0] returns the parameters/weights of that layer in 2D array.\n",
    "weights = model.get_layer('embedding').get_weights()[0]\n",
    "\n",
    "print('The weights variable has size of ' + str(len(weights)) + ' rows (length), because the vocabulary size is set as ' + str(vocab_size) + '. In other words, this weight variable stores the embedding matrix.')\n",
    "print('\\nThe word embedding data:\\n', weights)\n",
    "\n",
    "print('\\nThe unique number assigned to the vocabulary of \"nice\" is ' + str(encoded_reviews[0][0]) + ' , the word feature/embedding vector of the vocabulary of \"nice\":\\n' + str(weights[encoded_reviews[0][0]]))\n",
    "print('\\nThe unique number assigned to the vocabulary of \"improvement\" is ' + str(encoded_reviews[9][1]) + ' , the word feature/embedding vector of the vocabulary of \"improvement\":\\n' + str(weights[encoded_reviews[9][1]]))\n",
    "\n",
    "# Insights:\n",
    "# \"nice\" and \"improvement\" are not the similar word (EG: nice is an adjective; improvement is a noun), so the value of the same row of their respective word feature vectors should be different (the values of the same row of their respective word feature vectors should not close to each other)."
   ]
  }
 ],
 "metadata": {
  "kernelspec": {
   "display_name": "base",
   "language": "python",
   "name": "python3"
  },
  "language_info": {
   "codemirror_mode": {
    "name": "ipython",
    "version": 3
   },
   "file_extension": ".py",
   "mimetype": "text/x-python",
   "name": "python",
   "nbconvert_exporter": "python",
   "pygments_lexer": "ipython3",
   "version": "3.12.4"
  }
 },
 "nbformat": 4,
 "nbformat_minor": 2
}
