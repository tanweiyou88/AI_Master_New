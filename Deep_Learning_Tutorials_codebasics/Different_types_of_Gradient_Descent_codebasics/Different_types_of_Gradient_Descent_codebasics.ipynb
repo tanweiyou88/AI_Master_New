{
 "cells": [
  {
   "cell_type": "markdown",
   "metadata": {},
   "source": [
    "# Different Types of Gradient Descent \n",
    "\n",
    "Link to the Youtube tutorial video: https://www.youtube.com/watch?v=IU5fuoYBTAM&list=PLeo1K3hjS3uu7CxAacxVndI4bE_o3BDtO&index=14\n",
    "\n",
    "1) **Forward pass vs Backward pass:**  <br />\n",
    "    1) <img src=\"hidden\\photo0.png\" alt=\"This image is a representation of the simple neural network\" style=\"width: 400px;\"/>  <br />\n",
    "        1) https://stackoverflow.com/questions/36740533/what-are-forward-and-backward-passes-in-neural-networks\n",
    "        2) One forward pass is performed to calculate the cost function (cumulative error) at an epoch(iteration). Only the samples involved in the forward pass will be used to calculate the cost function (cumulative error) at an epoch(iteration)\n",
    "        3) At the same epoch(iteration), after the cost function is calculated, a backward pass is performed by implementing gradient descent to get the new weights for the neural network\n",
    "        4) Hence, forward pass and backward pass together make one epoch (iteration)\n",
    "\n",
    "1) **Batch Gradient Descent:**  <br />\n",
    "    1) <img src=\"hidden\\photo1.png\" alt=\"This image is a representation of the simple neural network\" style=\"width: 400px;\"/>  <br />\n",
    "    2) <img src=\"hidden\\photo2.png\" alt=\"This image is a representation of the simple neural network\" style=\"width: 400px;\"/>  <br />\n",
    "\n",
    "2) **Stochastic Gradient Descent (SGD):**  <br />\n",
    "    1) At each iteration(epoch), randomly pick a sample to calculate its error, then you adjust the weights of the neural network before the next iteration(epoch) start.\n",
    "        1) <img src=\"hidden\\photo3.png\" alt=\"This image is a representation of the simple neural network\" style=\"width: 400px;\"/>  <br />\n",
    "        2) <img src=\"hidden\\photo4.png\" alt=\"This image is a representation of the simple neural network\" style=\"width: 400px;\"/>  <br />\n",
    "        3) <img src=\"hidden\\photo5.png\" alt=\"This image is a representation of the simple neural network\" style=\"width: 400px;\"/>  <br />\n",
    "        4) <img src=\"hidden\\photo6.png\" alt=\"This image is a representation of the simple neural network\" style=\"width: 400px;\"/>  <br />\n",
    "        5) <img src=\"hidden\\photo7.png\" alt=\"This image is a representation of the simple neural network\" style=\"width: 400px;\"/>  <br />\n",
    "\n",
    "3) **Mini Batch Gradient Descent:**  <br />\n",
    "    1) <img src=\"hidden\\photo8.png\" alt=\"This image is a representation of the simple neural network\" style=\"width: 400px;\"/>  <br />\n",
    "    2) <img src=\"hidden\\photo9.png\" alt=\"This image is a representation of the simple neural network\" style=\"width: 400px;\"/>  <br />"
   ]
  },
  {
   "cell_type": "code",
   "execution_count": 136,
   "metadata": {},
   "outputs": [],
   "source": [
    "import pandas as pd\n",
    "import numpy as np\n",
    "from matplotlib import pyplot as plt\n",
    "%matplotlib inline"
   ]
  },
  {
   "cell_type": "markdown",
   "metadata": {},
   "source": [
    "# Load the dataset"
   ]
  },
  {
   "cell_type": "code",
   "execution_count": 137,
   "metadata": {},
   "outputs": [
    {
     "data": {
      "text/html": [
       "<div>\n",
       "<style scoped>\n",
       "    .dataframe tbody tr th:only-of-type {\n",
       "        vertical-align: middle;\n",
       "    }\n",
       "\n",
       "    .dataframe tbody tr th {\n",
       "        vertical-align: top;\n",
       "    }\n",
       "\n",
       "    .dataframe thead th {\n",
       "        text-align: right;\n",
       "    }\n",
       "</style>\n",
       "<table border=\"1\" class=\"dataframe\">\n",
       "  <thead>\n",
       "    <tr style=\"text-align: right;\">\n",
       "      <th></th>\n",
       "      <th>area</th>\n",
       "      <th>bedrooms</th>\n",
       "      <th>price</th>\n",
       "    </tr>\n",
       "  </thead>\n",
       "  <tbody>\n",
       "    <tr>\n",
       "      <th>4</th>\n",
       "      <td>1200</td>\n",
       "      <td>2</td>\n",
       "      <td>51.0</td>\n",
       "    </tr>\n",
       "    <tr>\n",
       "      <th>19</th>\n",
       "      <td>800</td>\n",
       "      <td>1</td>\n",
       "      <td>32.0</td>\n",
       "    </tr>\n",
       "    <tr>\n",
       "      <th>10</th>\n",
       "      <td>1800</td>\n",
       "      <td>3</td>\n",
       "      <td>82.0</td>\n",
       "    </tr>\n",
       "    <tr>\n",
       "      <th>3</th>\n",
       "      <td>1521</td>\n",
       "      <td>3</td>\n",
       "      <td>75.0</td>\n",
       "    </tr>\n",
       "    <tr>\n",
       "      <th>18</th>\n",
       "      <td>2770</td>\n",
       "      <td>3</td>\n",
       "      <td>102.0</td>\n",
       "    </tr>\n",
       "  </tbody>\n",
       "</table>\n",
       "</div>"
      ],
      "text/plain": [
       "    area  bedrooms  price\n",
       "4   1200         2   51.0\n",
       "19   800         1   32.0\n",
       "10  1800         3   82.0\n",
       "3   1521         3   75.0\n",
       "18  2770         3  102.0"
      ]
     },
     "execution_count": 137,
     "metadata": {},
     "output_type": "execute_result"
    }
   ],
   "source": [
    "# Load the dataset into the dataframe called df\n",
    "df = pd.read_csv(\"homeprices_banglore.csv\")\n",
    "\n",
    "# Randomly pick 5 samples from df dataframe and show them\n",
    "df.sample(5)"
   ]
  },
  {
   "cell_type": "markdown",
   "metadata": {},
   "source": [
    "# Data preprocessing"
   ]
  },
  {
   "cell_type": "markdown",
   "metadata": {},
   "source": [
    "## Scale all data of the dataset (To ensure all parameters (independent and dependent variables) of the dataset are on the same scale), using the MinMaxScaler() of Sklearn\n",
    "\n",
    "1) Scaling the data of a dataset allows the machine learning model to perform better\n",
    "2) MinMaxScaler() will scale the data into the range between 0 and 1"
   ]
  },
  {
   "cell_type": "code",
   "execution_count": 138,
   "metadata": {},
   "outputs": [
    {
     "name": "stdout",
     "output_type": "stream",
     "text": [
      "Scaled features:\n",
      " [[0.08827586 0.25      ]\n",
      " [0.62068966 0.75      ]\n",
      " [0.22068966 0.5       ]\n",
      " [0.24862069 0.5       ]\n",
      " [0.13793103 0.25      ]\n",
      " [0.12758621 0.25      ]\n",
      " [0.6662069  0.75      ]\n",
      " [0.86206897 0.75      ]\n",
      " [0.17586207 0.5       ]\n",
      " [1.         1.        ]\n",
      " [0.34482759 0.5       ]\n",
      " [0.68448276 0.75      ]\n",
      " [0.06896552 0.25      ]\n",
      " [0.10344828 0.25      ]\n",
      " [0.5        0.5       ]\n",
      " [0.12931034 0.25      ]\n",
      " [0.13103448 0.5       ]\n",
      " [0.25517241 0.5       ]\n",
      " [0.67931034 0.5       ]\n",
      " [0.         0.        ]]\n",
      "\n",
      "Scaled ground truth:\n",
      " [[0.05237037]\n",
      " [0.65185185]\n",
      " [0.22222222]\n",
      " [0.31851852]\n",
      " [0.14074074]\n",
      " [0.04444444]\n",
      " [0.76296296]\n",
      " [0.91111111]\n",
      " [0.13333333]\n",
      " [1.        ]\n",
      " [0.37037037]\n",
      " [0.8       ]\n",
      " [0.04444444]\n",
      " [0.05925926]\n",
      " [0.51111111]\n",
      " [0.07407407]\n",
      " [0.11851852]\n",
      " [0.20740741]\n",
      " [0.51851852]\n",
      " [0.        ]]\n"
     ]
    }
   ],
   "source": [
    "from sklearn import preprocessing\n",
    "\n",
    "# Create a scaling object to scale independent variables (features)\n",
    "sx = preprocessing.MinMaxScaler()\n",
    "\n",
    "# Create a scaling object to scale dependent variable (ground truth/target)\n",
    "sy = preprocessing.MinMaxScaler()\n",
    "\n",
    "# Scale the features of the dataset\n",
    "scaled_X = sx.fit_transform(df.drop('price', axis='columns'))\n",
    "print('Scaled features:\\n', scaled_X)\n",
    "\n",
    "# Scale the ground truth of the dataset\n",
    "scaled_Y = sy.fit_transform(df['price'].values.reshape(df.shape[0],1))\n",
    "print('\\nScaled ground truth:\\n', scaled_Y)"
   ]
  },
  {
   "cell_type": "markdown",
   "metadata": {},
   "source": [
    "# Implement batch gradient descent\n",
    "\n",
    "The objective to implement gradient descent is to find the value of weights and bias that provide the minimal cost function (global minimal)"
   ]
  },
  {
   "cell_type": "code",
   "execution_count": 139,
   "metadata": {},
   "outputs": [
    {
     "name": "stdout",
     "output_type": "stream",
     "text": [
      "After implementing batch gradient descent (tranining), the value of:\n",
      "Weight 1 (w1) = 0.707124642770257\n",
      "Weight 2 (w2) = 0.6745652664894097\n",
      "Bias = -0.23034857438407427\n",
      "Cost function= 0.0068641890429808105\n"
     ]
    }
   ],
   "source": [
    "def batch_gradient_descent(x, y_true, epochs, learning_rate):\n",
    "    number_of_features = x.shape[1]\n",
    "    # Initialize the value of weights and bias (can be any number)\n",
    "    w = np.ones(shape=number_of_features) # Initialize all the weights to have value of 1. The number of 1 returned by np.ones() in 1D array is based on the number of features\n",
    "    bias = 0 # Initialize the bias as 0\n",
    "    # Get the number of samples in the train set\n",
    "    total_samples = x.shape[0] \n",
    "\n",
    "    # Create an empty python list called cost_list to record the cost function at a particular epoch\n",
    "    cost_list = []\n",
    "    # Create an empty python list called epoch_list to record the number of epoch which its cost function is recorded\n",
    "    epoch_list = []\n",
    "\n",
    "    for i in range(epochs):\n",
    "        y_predicted = np.dot(w, x.T) + bias # The linear equation: w1 * area + w2 * bedrooms + bias. x.T means tranpose the x matrix. np.dot() is dot product\n",
    "        \n",
    "        # Calculate the partial derivative of MSE (cost function here) with respect to all features respectively in one shot (using matrix & dot product)\n",
    "        w_PartialDerivative = -(2/total_samples) * (x.T.dot(y_true - y_predicted))\n",
    "        # Calculate the partial derivative of MSE (cost function here) with respect to the bias\n",
    "        bias_PartialDerivative = -(2/total_samples) * np.sum(y_true - y_predicted)\n",
    "\n",
    "        # Get the new (adjusted) value of weights respectively in one shot (using matrix)\n",
    "        w = w - learning_rate * w_PartialDerivative\n",
    "        # Get the new (adjusted) value of bias \n",
    "        bias = bias - learning_rate * bias_PartialDerivative\n",
    "\n",
    "        # calculate the mean square error (MSE) as the cost function\n",
    "        cost = np.mean(np.square(y_true - y_predicted))\n",
    "\n",
    "        # Record the value of cost function and epoch when the iteration(epoch) is at 0, 10, 20, ... etc\n",
    "        if i%10==0:\n",
    "            cost_list.append(cost)\n",
    "            epoch_list.append(i)\n",
    "\n",
    "    return w, bias, cost, cost_list, epoch_list\n",
    "\n",
    "w_batch, bias_batch, cost_batch, cost_list_batch, epoch_list_batch = batch_gradient_descent(scaled_X, scaled_Y.reshape(scaled_Y.shape[0],), 500, 0.01)\n",
    "\n",
    "print('After implementing batch gradient descent (tranining), the value of:\\n' + 'Weight 1 (w1) = ' + str(w_batch[0]) + '\\nWeight 2 (w2) = ' + str(w_batch[1]) + '\\nBias = ' + str(bias_batch) + '\\nCost function= ' + str(cost_batch))\n",
    "\n"
   ]
  },
  {
   "cell_type": "markdown",
   "metadata": {},
   "source": [
    "## Visualize Cost function vs Epoch Graph"
   ]
  },
  {
   "cell_type": "code",
   "execution_count": 140,
   "metadata": {},
   "outputs": [
    {
     "data": {
      "text/plain": [
       "[<matplotlib.lines.Line2D at 0x18e93be23c0>]"
      ]
     },
     "execution_count": 140,
     "metadata": {},
     "output_type": "execute_result"
    },
    {
     "data": {
      "image/png": "[encoded data removed]",
      "text/plain": [
       "<Figure size 640x480 with 1 Axes>"
      ]
     },
     "metadata": {},
     "output_type": "display_data"
    }
   ],
   "source": [
    "plt.xlabel(\"Epoch\")\n",
    "plt.ylabel(\"Cost function\")\n",
    "plt.title(\"Batch Gradient Descent:  Cost Function vs Epoch\")\n",
    "plt.plot(epoch_list_batch, cost_list_batch)"
   ]
  },
  {
   "cell_type": "markdown",
   "metadata": {},
   "source": [
    "## Make prediction using the weights and bias obtained from batch gradient descent"
   ]
  },
  {
   "cell_type": "code",
   "execution_count": 141,
   "metadata": {},
   "outputs": [
    {
     "name": "stdout",
     "output_type": "stream",
     "text": [
      "The predicted homeprice with 2600 area and 4 bedrooms =  128.45484403267596\n",
      "The ground truth of the homeprice with 2600 area and 4 bedrooms =  120.0\n"
     ]
    },
    {
     "name": "stderr",
     "output_type": "stream",
     "text": [
      "c:\\Users\\weiyo\\AppData\\Local\\Programs\\Python\\Python312\\Lib\\site-packages\\sklearn\\base.py:493: UserWarning: X does not have valid feature names, but MinMaxScaler was fitted with feature names\n",
      "  warnings.warn(\n"
     ]
    }
   ],
   "source": [
    "def predict(area, bedrooms, w, bias):\n",
    "    # Since feature scaler sx is trained(fit) to scale(transform) features of the dataset above, we use sx to scale any input features before making prediction\n",
    "    scaled_x = sx.transform([[area, bedrooms]])[0] # scaled_x array is a 2D array that only contains information on the 1st dimension. so we need [0] to access the information (scaled area & bedroom) on the 1st dimension.\n",
    "    scaled_y_predicted = w[0] * scaled_x[0] + w[1] * scaled_x[1] + bias # the linear equation represents weighted sum\n",
    "    # Since ground truth scaler sy is trained(fit) to scale(transform) ground truths of the dataset above, we use sy to unscale any predictions back to their original value\n",
    "    return sy.inverse_transform([[scaled_y_predicted]])[0][0] # Since the results is returned as a 2D array, we use [0][0] to get only the single value\n",
    "\n",
    "print('The predicted homeprice with 2600 area and 4 bedrooms = ', predict(2600, 4, w_batch, bias_batch))\n",
    "\n",
    "print('The ground truth of the homeprice with 2600 area and 4 bedrooms = ', df.price[1])"
   ]
  },
  {
   "cell_type": "markdown",
   "metadata": {},
   "source": [
    "# Implement stochastic gradient descent\n",
    "\n",
    "1) The objective to implement gradient descent is to find the value of weights and bias that provide the minimal cost function (global minimal)\n",
    "2) SGD requires more epoch (iteration) to arrive at the same cost function value as the batch gradient descent\n",
    "3) However, for SGD, in every epoch, you are going through only 1 sample, so computation wise SGD still can be lightweight if the dataset is huge."
   ]
  },
  {
   "cell_type": "code",
   "execution_count": 142,
   "metadata": {},
   "outputs": [
    {
     "name": "stdout",
     "output_type": "stream",
     "text": [
      "After implementing batch gradient descent (tranining), the value of:\n",
      "Weight 1 (w1) = 0.7114130847805398\n",
      "Weight 2 (w2) = 0.6789002611846433\n",
      "Bias = -0.2323784088307955\n",
      "Cost function= 0.011105390148331272\n"
     ]
    }
   ],
   "source": [
    "import random\n",
    "\n",
    "def stochastic_gradient_descent(x, y_true, epochs, learning_rate):\n",
    "    number_of_features = x.shape[1]\n",
    "    # Initialize the value of weights and bias (can be any number)\n",
    "    w = np.ones(shape=number_of_features) # Initialize all the weights to have value of 1. The number of 1 returned by np.ones() in 1D array is based on the number of features\n",
    "    bias = 0 # Initialize the bias as 0\n",
    "    # Get the number of samples in the train set\n",
    "    total_samples = x.shape[0] \n",
    "\n",
    "    # Create an empty python list called cost_list to record the cost function at a particular epoch\n",
    "    cost_list = []\n",
    "    # Create an empty python list called epoch_list to record the number of epoch which its cost function is recorded\n",
    "    epoch_list = []\n",
    "\n",
    "    for i in range(epochs):\n",
    "        # Use random.randint() to generate a value randomly which then used as the index to access a sample in the train set (Purpose is to pick a sample randomly from the train set)\n",
    "        random_index = random.randint(0, total_samples-1)\n",
    "        sample_x = x[random_index] # Get the features of the single randomly selected sample in the train set\n",
    "        sample_y = y_true[random_index] # Get the ground truth of the single randomly selected sample in the train set\n",
    "\n",
    "        # The linear equation: w1 * area + w2 * bedrooms + bias. x.T means tranpose the x matrix. np.dot() is dot product\n",
    "        y_predicted = np.dot(w, sample_x.T) + bias \n",
    "        \n",
    "        # Calculate the partial derivative of MSE (cost function here) with respect to all features respectively in one shot (using matrix & dot product)\n",
    "        w_PartialDerivative = -(2/total_samples) * (sample_x.T.dot(sample_y - y_predicted))\n",
    "        # Calculate the partial derivative of MSE (cost function here) with respect to the bias\n",
    "        bias_PartialDerivative = -(2/total_samples) * (sample_y - y_predicted)\n",
    "\n",
    "        # Get the new (adjusted) value of weights respectively in one shot (using matrix)\n",
    "        w = w - learning_rate * w_PartialDerivative\n",
    "        # Get the new (adjusted) value of bias \n",
    "        bias = bias - learning_rate * bias_PartialDerivative\n",
    "\n",
    "        # calculate the mean square error (MSE) as the cost function\n",
    "        cost = np.square(sample_y - y_predicted)\n",
    "\n",
    "        # Record the value of cost function and epoch when the iteration(epoch) is at 0, 10, 20, ... etc\n",
    "        if i%100==0:\n",
    "            cost_list.append(cost)\n",
    "            epoch_list.append(i)\n",
    "\n",
    "    return w, bias, cost, cost_list, epoch_list\n",
    "\n",
    "w_SGD, bias_SGD, cost_SGD, cost_list_SGD, epoch_list_SGD = stochastic_gradient_descent(scaled_X, scaled_Y.reshape(scaled_Y.shape[0],), 10000, 0.01)\n",
    "\n",
    "print('After implementing batch gradient descent (tranining), the value of:\\n' + 'Weight 1 (w1) = ' + str(w_SGD[0]) + '\\nWeight 2 (w2) = ' + str(w_SGD[1]) + '\\nBias = ' + str(bias_SGD) + '\\nCost function= ' + str(cost_SGD))\n",
    "\n"
   ]
  },
  {
   "cell_type": "markdown",
   "metadata": {},
   "source": [
    "## Visualize Cost function vs Epoch Graph"
   ]
  },
  {
   "cell_type": "code",
   "execution_count": 143,
   "metadata": {},
   "outputs": [
    {
     "data": {
      "text/plain": [
       "[<matplotlib.lines.Line2D at 0x18e97ee6e70>]"
      ]
     },
     "execution_count": 143,
     "metadata": {},
     "output_type": "execute_result"
    },
    {
     "data": {
      "image/png": "[encoded data removed]",
      "text/plain": [
       "<Figure size 640x480 with 1 Axes>"
      ]
     },
     "metadata": {},
     "output_type": "display_data"
    }
   ],
   "source": [
    "plt.xlabel(\"Epoch\")\n",
    "plt.ylabel(\"Cost function\")\n",
    "plt.title(\"Stochastic Gradient Descent:  Cost Function vs Epoch\")\n",
    "plt.plot(epoch_list_SGD, cost_list_SGD)"
   ]
  },
  {
   "cell_type": "markdown",
   "metadata": {},
   "source": [
    "## Make prediction using the weights and bias obtained from stochastic gradient descent"
   ]
  },
  {
   "cell_type": "code",
   "execution_count": 144,
   "metadata": {},
   "outputs": [
    {
     "name": "stdout",
     "output_type": "stream",
     "text": [
      "The predicted homeprice with 2600 area and 4 bedrooms =  128.97907646026056\n",
      "The ground truth of the homeprice with 2600 area and 4 bedrooms =  120.0\n"
     ]
    },
    {
     "name": "stderr",
     "output_type": "stream",
     "text": [
      "c:\\Users\\weiyo\\AppData\\Local\\Programs\\Python\\Python312\\Lib\\site-packages\\sklearn\\base.py:493: UserWarning: X does not have valid feature names, but MinMaxScaler was fitted with feature names\n",
      "  warnings.warn(\n"
     ]
    }
   ],
   "source": [
    "print('The predicted homeprice with 2600 area and 4 bedrooms = ', predict(2600, 4, w_SGD, bias_SGD))\n",
    "\n",
    "print('The ground truth of the homeprice with 2600 area and 4 bedrooms = ', df.price[1])"
   ]
  },
  {
   "cell_type": "markdown",
   "metadata": {},
   "source": [
    "#### Extra information: Show how to reduce an Array's Number of Dimensions\n",
    "\n",
    "For more details: https://realpython.com/numpy-reshape/\n",
    "\n",
    "<img src=\"hidden\\photo10.png\" alt=\"This image is a representation of the simple neural network\" style=\"width: 400px;\"/>  <br />"
   ]
  },
  {
   "cell_type": "code",
   "execution_count": 145,
   "metadata": {},
   "outputs": [
    {
     "name": "stdout",
     "output_type": "stream",
     "text": [
      "The dimension of scaled_Y array: 2D\n",
      "\n",
      "reshaped_scaled_Y:  [0.05237037 0.65185185 0.22222222 0.31851852 0.14074074 0.04444444\n",
      " 0.76296296 0.91111111 0.13333333 1.         0.37037037 0.8\n",
      " 0.04444444 0.05925926 0.51111111 0.07407407 0.11851852 0.20740741\n",
      " 0.51851852 0.        ]\n",
      "The dimension of reshape_scaled_Y array: 1D\n",
      "\n"
     ]
    }
   ],
   "source": [
    "print('The dimension of scaled_Y array: ' + str(scaled_Y.ndim) + 'D\\n')\n",
    "\n",
    "# Reduce the dimension of scaled_Y array. Since scaled_Y is a 2D array (20 rows, 1 column), we reshape it into a 1D array (20,)\n",
    "reshaped_scaled_Y = scaled_Y.reshape(scaled_Y.shape[0],)\n",
    "print('reshaped_scaled_Y: ', reshaped_scaled_Y)\n",
    "\n",
    "print('The dimension of reshape_scaled_Y array: ' + str(reshaped_scaled_Y.ndim) + 'D\\n')\n"
   ]
  }
 ],
 "metadata": {
  "kernelspec": {
   "display_name": "Python 3",
   "language": "python",
   "name": "python3"
  },
  "language_info": {
   "codemirror_mode": {
    "name": "ipython",
    "version": 3
   },
   "file_extension": ".py",
   "mimetype": "text/x-python",
   "name": "python",
   "nbconvert_exporter": "python",
   "pygments_lexer": "ipython3",
   "version": "3.12.3"
  }
 },
 "nbformat": 4,
 "nbformat_minor": 2
}
