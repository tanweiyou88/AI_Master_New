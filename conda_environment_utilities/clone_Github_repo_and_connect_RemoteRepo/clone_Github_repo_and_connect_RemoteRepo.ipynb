{
 "cells": [
  {
   "cell_type": "markdown",
   "metadata": {},
   "source": [
    "## How do I connect to my existing Git repository using Visual Studio Code?\n",
    "\n",
    "1. Steps:\n",
    "    1. **Clone the remote Github repository:**\n",
    "        1. Install Git on your local computer\n",
    "        2.  <img src=\"photo1.png\" alt=\" \" style=\"width: 500px;\"/>  <br />\n",
    "            1. References:\n",
    "                1. https://stackoverflow.com/questions/33263491/how-do-i-connect-to-my-existing-git-repository-using-visual-studio-code\n",
    "                2. https://www.jcchouinard.com/git-clone-github-repository-vscode/\n",
    "\n",
    "    2. **The procedures need to go through to perform the first push from the cloned Github repository on local computer:**\n",
    "        1. git add . # Stages the changes\n",
    "        2. git commit -m \"Your messages\" # Commit the changes\n",
    "        3. git config --global user.email <The email address registered with the remote Github repository you cloned from> # to set your account's default identity\n",
    "        4. git commit -m \"Your messages\" # Commit the changes\n",
    "        5. git push -u origin main\n",
    "        6. Git website will pop up for you to sign in\n",
    "        7. History worked experience:\n",
    "            1.   <img src=\"photo2.png\" alt=\" \" style=\"width: 500px;\"/>  <br />\n",
    "            2.  <img src=\"photo3.png\" alt=\" \" style=\"width: 500px;\"/>  <br />\n",
    "    3. Comments:\n",
    "        1. I performed these steps on 8/10/2024 to clone my remote Github repository (called AI_Master_New, which I am currently using before I performed factory reset on my local computer) to my local computer, after I have factory reset my local computer and everything on my local computer has been erased.\n",
    "        2. After performing these steps, I succeed to push changes to that remote Github repository with history tracked and displayed on the remote Github repository. In other words, I can work with the cloned Github repository on my local computer and push changes to that remote Github repository same as usual/before, without any issue, again. \n",
    "    "
   ]
  }
 ],
 "metadata": {
  "language_info": {
   "name": "python"
  }
 },
 "nbformat": 4,
 "nbformat_minor": 2
}
