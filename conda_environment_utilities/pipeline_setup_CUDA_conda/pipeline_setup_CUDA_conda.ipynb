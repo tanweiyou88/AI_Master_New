{
 "cells": [
  {
   "cell_type": "markdown",
   "metadata": {},
   "source": [
    "**Steps to set up CUDA, cuDNN, and PyTorch on Windows 10 through Conda package manager:**\n",
    "1. Install Visual Studio community edition: Install all by defaults and check \"Desktop Development with C++\"\n",
    "    1. <img src=\"photo1.png\" alt=\" \" style=\"width: 400px;\"/>  <br />\n",
    "    2. Reference: https://medium.com/analytics-vidhya/installing-cuda-and-cudnn-on-windows-d44b8e9876b5\n",
    "2. Check the CUDA Toolkit version (indicated by NVCUDA64.DLL) that your GPU driver supports\n",
    "    1. Reference: https://datawithdev.com/cuda-tensorflow-windows\n",
    "3. Install CUDA Toolkit (the correct version that compatible with your GPU drivers. Then add the path to environment variables. \n",
    "    1. If NVCUDA64.DLL indicates \"NVIDIA CUDA 11.6.106 driver\", then you can install any of the CUDA Toolkit version that belongs to the family of \"CUDA Toolkit 11.xx\")\n",
    "        1. For my case, I have GPU of model \"NVIDIA GeForce MX150\". From the NVIDIA Control Panel, NVCUDA64.DLL indicates \"NVIDIA CUDA 11.6.106 driver\". So I installed \"CUDA Toolkit 11.8\", on 7/10/2024.\n",
    "    2. Reference: \n",
    "        1. https://medium.com/analytics-vidhya/installing-cuda-and-cudnn-on-windows-d44b8e9876b5\n",
    "        2. https://medium.com/@harunijaz/a-step-by-step-guide-to-installing-cuda-with-pytorch-in-conda-on-windows-verifying-via-console-9ba4cd5ccbef\n",
    "4. Download cuDNN that compatible with your install CUDA Toolkit version. Then paste the relevant files from cuDNN folders to CUDA Toolkit folders\n",
    "    1. Reference: \n",
    "        1. https://medium.com/analytics-vidhya/installing-cuda-and-cudnn-on-windows-d44b8e9876b5\n",
    "        2. https://medium.com/@harunijaz/a-step-by-step-guide-to-installing-cuda-with-pytorch-in-conda-on-windows-verifying-via-console-9ba4cd5ccbef\n",
    "5. Install Miniconda (you can install Miniconda/Anaconda. I install Miniconda because it takes much less space on storage). Then create a new conda environment with a specific python version.\n",
    "    1. Reference: https://medium.com/@harunijaz/a-step-by-step-guide-to-installing-cuda-with-pytorch-in-conda-on-windows-verifying-via-console-9ba4cd5ccbef\n",
    "    2. Methods to create conda virtual environment with a specific python version: https://www.machinelearningplus.com/deployment/conda-create-environment-and-everything-you-need-to-know-to-manage-conda-virtual-environment/\n",
    "    3. Choose the python version that PyTorch or Tensorflow-GPU supports\n",
    "        1. PyTorch:\n",
    "            1. <img src=\"photo2.png\" alt=\" \" style=\"width: 400px;\"/>  <br />\n",
    "            2. https://pytorch.org/get-started/locally/#windows-python\n",
    "        2. TensorFlow:\n",
    "            1. <img src=\"photo3.png\" alt=\" \" style=\"width: 400px;\"/>  <br />\n",
    "            2. https://www.tensorflow.org/install/source_windows#gpu\n",
    "    4. For my conda virtual environment created (GPUEnv_PyTorch), the python version is 3.10. Because I installed:\n",
    "        1. CUDA Toolkit: CUDA Toolkit 11.8 version\n",
    "            1. Website to download a CUDA Toolkit version: https://developer.nvidia.com/cuda-toolkit-archive\n",
    "        2. cuDNN: cuDNN v8.9.7 (cuDNN v8.9.7 [any cuDNN version that belongs to the family of \"cuDNN v8.x.x\"] also compatible to replace cuDNN v8.1\n",
    "            1. Website to download a cuDNN version: https://developer.nvidia.com/rdp/cudnn-archive\n",
    "        3. With these CUDA Toolkit and cuDNN versions, we can install: \n",
    "            1. tensorflow_gpu-2.10.0 version\n",
    "            2. PyTorch with \"CUDA 11.x\" family\n",
    "6. Install PyTorch using anaconda prompt at that created new conda environment\n",
    "    1. Website to download PyTorch: https://pytorch.org/get-started/locally/#windows-package-manager\n",
    "    2. The PyTorch version I installed:\n",
    "        1. <img src=\"photo4.png\" alt=\" \" style=\"width: 400px;\"/>  <br />\n",
    "    3. Reference: https://medium.com/@harunijaz/a-step-by-step-guide-to-installing-cuda-with-pytorch-in-conda-on-windows-verifying-via-console-9ba4cd5ccbef\n",
    "7. Verifying CUDA with PyTorch using anaconda prompt\n",
    "    1. Reference: https://medium.com/@harunijaz/a-step-by-step-guide-to-installing-cuda-with-pytorch-in-conda-on-windows-verifying-via-console-9ba4cd5ccbef\n",
    "    2. Comment: With these CUDA Toolkit, cuDNN, python, and PyTorch versions downloaded, it is verified that CUDA is working (identified) with PyTorch.\n",
    "\n",
    "    \n"
   ]
  }
 ],
 "metadata": {
  "language_info": {
   "name": "python"
  }
 },
 "nbformat": 4,
 "nbformat_minor": 2
}
