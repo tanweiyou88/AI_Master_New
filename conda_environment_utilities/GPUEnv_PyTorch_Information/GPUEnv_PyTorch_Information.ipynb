{
 "cells": [
  {
   "cell_type": "markdown",
   "metadata": {},
   "source": [
    "**The information of the conda environment: GPUEnv_PyTorch**\n",
    "1. PyTorch Version:\n",
    "    1. <img src=\"GPUEnv_PyTorch_InstallationCommand.png\" alt=\" \" style=\"width: 800px;\"/>  <br />\n",
    "2. CUDA Toolkit: CUDA Toolkit: CUDA Toolkit 11.8 version\n",
    "3. cuDNN: cuDNN v8.9.7 \n",
    "4. Python version: 3.10\n",
    "5. GPU Device Name: NVDIA GeForce MX150"
   ]
  }
 ],
 "metadata": {
  "language_info": {
   "name": "python"
  }
 },
 "nbformat": 4,
 "nbformat_minor": 2
}
