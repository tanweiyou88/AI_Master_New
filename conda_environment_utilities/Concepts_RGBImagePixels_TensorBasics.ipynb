{
 "cells": [
  {
   "cell_type": "markdown",
   "metadata": {},
   "source": [
    "# Concept of RGB image pixel values representation as 3D tensor "
   ]
  },
  {
   "cell_type": "markdown",
   "metadata": {},
   "source": [
    "Create a 1x3 RGB image of black color"
   ]
  },
  {
   "cell_type": "code",
   "execution_count": 1,
   "metadata": {},
   "outputs": [
    {
     "name": "stdout",
     "output_type": "stream",
     "text": [
      "The pixel information of image_RGB_template:\n",
      " tensor([[[0., 0., 0.]],\n",
      "\n",
      "        [[0., 0., 0.]],\n",
      "\n",
      "        [[0., 0., 0.]]])\n"
     ]
    },
    {
     "data": {
      "text/plain": [
       "<matplotlib.image.AxesImage at 0x1bfbe6b38b0>"
      ]
     },
     "execution_count": 1,
     "metadata": {},
     "output_type": "execute_result"
    },
    {
     "data": {
      "image/png": "[encoded data removed]",
      "text/plain": [
       "<Figure size 640x480 with 1 Axes>"
      ]
     },
     "metadata": {},
     "output_type": "display_data"
    }
   ],
   "source": [
    "import torch\n",
    "import matplotlib.pyplot as plt\n",
    "\n",
    "image_RGB_black = torch.zeros(3, 1, 3) # Create a 3D tensor that representing a 1x3 RGB image, which is a black image. Take note that Pytorch:[color channel, height, width] \n",
    "image_RGB_black_ReorderDimension=image_RGB_black.permute(1,2,0) # Since Matplotlib:[height, width, color channel] and PILLOW:[ height, width, color channel], so we use permute() to change the tensor dimension order from [color channel, width, height] to [width, height, color channel] \n",
    "print(\"The pixel information of image_RGB_template:\\n\", image_RGB_black) # Show the pixel information of the image, represented by the 3D tensor called image_RGB_template\n",
    "plt.imshow(image_RGB_black_ReorderDimension) # Show the 1x3 RGB image\n"
   ]
  },
  {
   "cell_type": "markdown",
   "metadata": {},
   "source": [
    "RGB values of different colors"
   ]
  },
  {
   "cell_type": "code",
   "execution_count": 2,
   "metadata": {},
   "outputs": [
    {
     "name": "stdout",
     "output_type": "stream",
     "text": [
      "\n",
      "Normalized RED RGB pixel values: tensor([1., 0., 0.])\n",
      "\n",
      "Normalized RED R pixel value: tensor(1.)\n",
      "\n",
      "Normalized RED G pixel value: tensor(0.)\n",
      "\n",
      "Normalized RED B pixel value: tensor(0.)\n",
      "\n",
      "Normalized PURPLE RGB pixel values: tensor([0.8000, 0.4235, 0.9059])\n",
      "\n",
      "Normalized GREEN RGB pixel values: tensor([0., 1., 0.])\n",
      "\n",
      "Normalized CYAN RGB pixel values: tensor([0.0039, 0.9725, 0.9725])\n",
      "\n",
      "Normalized BLUE RGB pixel values: tensor([0., 0., 1.])\n",
      "\n",
      "Normalized YELLOW RGB pixel values: tensor([1.0000, 0.8706, 0.3490])\n"
     ]
    }
   ],
   "source": [
    "# The color representations in RGB are obtained from Color Picker on Google\n",
    "red_pixel_RGB = torch.tensor([255, 0, 0]) # red color\n",
    "purple_pixel_RGB = torch.tensor([204, 108, 231]) # purple color\n",
    "green_pixel_RGB = torch.tensor([0, 255, 0]) # green color\n",
    "cyan_pixel_RGB = torch.tensor([1, 248, 248]) # cyan color\n",
    "blue_pixel_RGB = torch.tensor([0, 0, 255]) # blue color\n",
    "yellow_pixel_RGB = torch.tensor([255, 222, 89]) # yellow color\n",
    "\n",
    "\n",
    "# The normalized color representations in RGB (since each pixel can have maximum value of 255)\n",
    "red_pixel_RGB_normalized = red_pixel_RGB/255.0\n",
    "purple_pixel_RGB_normalized = purple_pixel_RGB/255.0\n",
    "green_pixel_RGB_normalized = green_pixel_RGB/255.0\n",
    "cyan_pixel_RGB_normalized = cyan_pixel_RGB/255.0\n",
    "blue_pixel_RGB_normalized = blue_pixel_RGB/255.0\n",
    "yellow_pixel_RGB_normalized = yellow_pixel_RGB/255.0\n",
    "\n",
    "\n",
    "print(\"\\nNormalized RED RGB pixel values:\", red_pixel_RGB_normalized)\n",
    "print(\"\\nNormalized RED R pixel value:\", red_pixel_RGB_normalized[0])\n",
    "print(\"\\nNormalized RED G pixel value:\", red_pixel_RGB_normalized[1])\n",
    "print(\"\\nNormalized RED B pixel value:\", red_pixel_RGB_normalized[2])\n",
    "print(\"\\nNormalized PURPLE RGB pixel values:\", purple_pixel_RGB_normalized)\n",
    "print(\"\\nNormalized GREEN RGB pixel values:\", green_pixel_RGB_normalized)\n",
    "print(\"\\nNormalized CYAN RGB pixel values:\", cyan_pixel_RGB_normalized)\n",
    "print(\"\\nNormalized BLUE RGB pixel values:\", blue_pixel_RGB_normalized)\n",
    "print(\"\\nNormalized YELLOW RGB pixel values:\", yellow_pixel_RGB_normalized)\n"
   ]
  },
  {
   "cell_type": "markdown",
   "metadata": {},
   "source": [
    " Layer(Height) 1 of a RGB image  [A 1x3 RGB image]"
   ]
  },
  {
   "cell_type": "code",
   "execution_count": 3,
   "metadata": {},
   "outputs": [
    {
     "name": "stdout",
     "output_type": "stream",
     "text": [
      "The pixel information of image_colored_Height1:\n",
      " tensor([[[1.0000, 0.8000, 0.0000]],\n",
      "\n",
      "        [[0.0000, 0.4235, 1.0000]],\n",
      "\n",
      "        [[0.0000, 0.9059, 0.0000]]])\n",
      "The shape of image_colored_Height1:\n",
      " torch.Size([3, 1, 3])\n"
     ]
    },
    {
     "data": {
      "text/plain": [
       "<matplotlib.image.AxesImage at 0x1bfbe9222f0>"
      ]
     },
     "execution_count": 3,
     "metadata": {},
     "output_type": "execute_result"
    },
    {
     "data": {
      "image/png": "[encoded data removed]",
      "text/plain": [
       "<Figure size 640x480 with 1 Axes>"
      ]
     },
     "metadata": {},
     "output_type": "display_data"
    }
   ],
   "source": [
    "image_colored_Height1 = torch.zeros(3, 1, 3) # Create a 3D tensor that representing a 1x3 RGB image, which is a black image. Take note that Pytorch:[color channel, height, width] \n",
    "image_colored_Height1[:, 0, 0] = red_pixel_RGB_normalized # Replace the R(channel 0), G(channel 1), and B(channel 2) values of the pixel located at [0,0] with red_pixel_RGB_normalized values\n",
    "image_colored_Height1[:, 0, 1] = purple_pixel_RGB_normalized # Replace the R(channel 0), G(channel 1), and B(channel 2) values of the pixel located at [0,1] with purple_pixel_RGB_normalized values\n",
    "image_colored_Height1[:, 0, 2] = green_pixel_RGB_normalized # Replace the R(channel 0), G(channel 1), and B(channel 2) values of the pixel located at [0,2] with green_pixel_RGB_normalized values\n",
    "\n",
    "print(\"The pixel information of image_colored_Height1:\\n\", image_colored_Height1) # Show the pixel information of the image, represented by the 3D tensor called image_colored_Height1\n",
    "print(\"The shape of image_colored_Height1:\\n\", image_colored_Height1.shape)\n",
    "image_colored_Height1_ReorderDimension=image_colored_Height1.permute(1,2,0) # Since Matplotlib:[height, width, color channel], we use permute() to change the tensor dimension order from [color channel, height, width] to [height, width, color channel] \n",
    "plt.imshow(image_colored_Height1_ReorderDimension) # Show the 1x3 RGB image. The input format of plt.imshow= (M, N, 3): an image with RGB values (0-1 float or 0-255 int). Ref: https://matplotlib.org/stable/api/_as_gen/matplotlib.pyplot.imshow.html\n",
    "\n",
    "# Means for the input of plt.imshow, the pixel values must be the data type of integer for the range from 0 to 255, or data type of float for the range from 0 to 1.\n"
   ]
  },
  {
   "cell_type": "markdown",
   "metadata": {},
   "source": [
    "Layer(Height) 2 of a RGB image [A 1x3 RGB image]"
   ]
  },
  {
   "cell_type": "code",
   "execution_count": 4,
   "metadata": {},
   "outputs": [
    {
     "name": "stdout",
     "output_type": "stream",
     "text": [
      "The pixel information of image_colored_Height2:\n",
      " tensor([[[0.0039, 0.0000, 1.0000]],\n",
      "\n",
      "        [[0.9725, 0.0000, 0.8706]],\n",
      "\n",
      "        [[0.9725, 1.0000, 0.3490]]])\n",
      "The shape of image_colored_Height2:\n",
      " torch.Size([3, 1, 3])\n"
     ]
    },
    {
     "data": {
      "text/plain": [
       "<matplotlib.image.AxesImage at 0x1bfbe9a68f0>"
      ]
     },
     "execution_count": 4,
     "metadata": {},
     "output_type": "execute_result"
    },
    {
     "data": {
      "image/png": "[encoded data removed]",
      "text/plain": [
       "<Figure size 640x480 with 1 Axes>"
      ]
     },
     "metadata": {},
     "output_type": "display_data"
    }
   ],
   "source": [
    "image_colored_Height2 = torch.zeros(3, 1, 3) # Create a 3D tensor that representing a 1x3 RGB image, which is a black image. Take note that Pytorch:[color channel, height, width] \n",
    "image_colored_Height2[:, 0, 0] = cyan_pixel_RGB_normalized # Replace the R(channel 0), G(channel 1), and B(channel 2) values of the pixel located at [0,0] with cyan_pixel_RGB_normalized values\n",
    "image_colored_Height2[:, 0, 1] = blue_pixel_RGB_normalized # Replace the R(channel 0), G(channel 1), and B(channel 2) values of the pixel located at [0,1] with blue_pixel_RGB_normalized values\n",
    "image_colored_Height2[:, 0, 2] = yellow_pixel_RGB_normalized # Replace the R(channel 0), G(channel 1), and B(channel 2) values of the pixel located at [0,2] with yellow_pixel_RGB_normalized values\n",
    "\n",
    "print(\"The pixel information of image_colored_Height2:\\n\", image_colored_Height2) # Show the pixel information of the image, represented by the 3D tensor called image_colored_Height1\n",
    "print(\"The shape of image_colored_Height2:\\n\", image_colored_Height2.shape)\n",
    "image_colored_Height2_ReorderDimension=image_colored_Height2.permute(1,2,0) # Since Matplotlib:[width, height, color channel], we use permute() to change the tensor dimension order from [color channel, width, height] to [width, height, color channel] \n",
    "plt.imshow(image_colored_Height2_ReorderDimension) # Show the 1x3 RGB image. The input format of plt.imshow= (M, N, 3): an image with RGB values (0-1 float or 0-255 int). Ref: https://matplotlib.org/stable/api/_as_gen/matplotlib.pyplot.imshow.html\n",
    "\n",
    "# Means for the input of plt.imshow, the pixel values must be the data type of integer for the range from 0 to 255, or data type of float for the range from 0 to 1.\n"
   ]
  },
  {
   "cell_type": "markdown",
   "metadata": {},
   "source": [
    "## Construct a RGB image [a 3x3 RGB image], using concatenation of multiple small RGB images [multiple 1x3 RGB images]"
   ]
  },
  {
   "cell_type": "code",
   "execution_count": 5,
   "metadata": {},
   "outputs": [
    {
     "name": "stdout",
     "output_type": "stream",
     "text": [
      "The pixel information of image_colored_Height1:\n",
      " tensor([[[1.0000, 0.8000, 0.0000]],\n",
      "\n",
      "        [[0.0000, 0.4235, 1.0000]],\n",
      "\n",
      "        [[0.0000, 0.9059, 0.0000]]])\n",
      "\n",
      "The pixel information of image_colored_Height2:\n",
      " tensor([[[0.0039, 0.0000, 1.0000]],\n",
      "\n",
      "        [[0.9725, 0.0000, 0.8706]],\n",
      "\n",
      "        [[0.9725, 1.0000, 0.3490]]])\n",
      "\n",
      "The pixel information of image_colored:\n",
      " tensor([[[1.0000, 0.8000, 0.0000],\n",
      "         [0.0039, 0.0000, 1.0000],\n",
      "         [1.0000, 0.8000, 0.0000]],\n",
      "\n",
      "        [[0.0000, 0.4235, 1.0000],\n",
      "         [0.9725, 0.0000, 0.8706],\n",
      "         [0.0000, 0.4235, 1.0000]],\n",
      "\n",
      "        [[0.0000, 0.9059, 0.0000],\n",
      "         [0.9725, 1.0000, 0.3490],\n",
      "         [0.0000, 0.9059, 0.0000]]])\n",
      "\n",
      "The shape of image_colored:\n",
      " torch.Size([3, 3, 3])\n"
     ]
    },
    {
     "data": {
      "text/plain": [
       "<matplotlib.image.AxesImage at 0x1bfbe7d27d0>"
      ]
     },
     "execution_count": 5,
     "metadata": {},
     "output_type": "execute_result"
    },
    {
     "data": {
      "image/png": "[encoded data removed]",
      "text/plain": [
       "<Figure size 640x480 with 1 Axes>"
      ]
     },
     "metadata": {},
     "output_type": "display_data"
    }
   ],
   "source": [
    "print(\"The pixel information of image_colored_Height1:\\n\", image_colored_Height1)\n",
    "print(\"\\nThe pixel information of image_colored_Height2:\\n\", image_colored_Height2)\n",
    "\n",
    "# Create and show the data of the complete RGB image, which made up of a combination of different 1x3 RGB images\n",
    "image_colored_RGB = torch.cat((image_colored_Height1,image_colored_Height2,image_colored_Height1), dim=1) # Concatenate the 3 3D tensors in sequence, along the row axis (2nd dimension, represented as dim=1)\n",
    "print(\"\\nThe pixel information of image_colored:\\n\", image_colored_RGB) # Show the pixel information of the image, represented by the 3D tensor called image_colored_Height1\n",
    "print(\"\\nThe shape of image_colored:\\n\", image_colored_RGB.shape)\n",
    "image_colored_RGB_ReorderDimension=image_colored_RGB.permute(1,2,0) # Since Matplotlib:[width, height, color channel], we use permute() to change the tensor dimension order from [color channel, width, height] to [width, height, color channel] \n",
    "plt.imshow(image_colored_RGB_ReorderDimension) # Show the 1x3 RGB image. The input format of plt.imshow= (M, N, 3): an image with RGB values (0-1 float or 0-255 int). Ref: https://matplotlib.org/stable/api/_as_gen/matplotlib.pyplot.imshow.html\n"
   ]
  },
  {
   "cell_type": "markdown",
   "metadata": {},
   "source": [
    "## Construct a RGB image [a 3x3 RGB image] manually"
   ]
  },
  {
   "cell_type": "markdown",
   "metadata": {},
   "source": [
    "Version 1"
   ]
  },
  {
   "cell_type": "code",
   "execution_count": 6,
   "metadata": {},
   "outputs": [
    {
     "name": "stdout",
     "output_type": "stream",
     "text": [
      "\n",
      "The data in Rchannel_matrix:\n",
      " tensor([[1.0000, 0.8000, 0.0000],\n",
      "        [0.0039, 0.0000, 1.0000],\n",
      "        [1.0000, 0.8000, 0.0000]])\n",
      "\n",
      "Shape of Rchannel_matrix: torch.Size([3, 3])\n",
      "\n",
      "The data in Rchannel_matrix_unsqueeze:\n",
      " tensor([[[1.0000, 0.8000, 0.0000],\n",
      "         [0.0039, 0.0000, 1.0000],\n",
      "         [1.0000, 0.8000, 0.0000]]])\n",
      "\n",
      "Shape of Rchannel_matrix_unsqueeze: torch.Size([1, 3, 3])\n",
      "\n",
      "The data in Gchannel_matrix:\n",
      " tensor([[0.0000, 0.4235, 1.0000],\n",
      "        [0.9725, 0.0000, 0.8706],\n",
      "        [0.0000, 0.4235, 1.0000]])\n",
      "\n",
      "Shape of Gchannel_matrix: torch.Size([3, 3])\n",
      "\n",
      "The data in Gchannel_matrix_unsqueeze:\n",
      " tensor([[[0.0000, 0.4235, 1.0000],\n",
      "         [0.9725, 0.0000, 0.8706],\n",
      "         [0.0000, 0.4235, 1.0000]]])\n",
      "\n",
      "Shape of Gchannel_matrix_unsqueeze: torch.Size([1, 3, 3])\n",
      "\n",
      "The data in Bchannel_matrix:\n",
      " tensor([[0.0000, 0.9059, 0.0000],\n",
      "        [0.9725, 1.0000, 0.3490],\n",
      "        [0.0000, 0.9059, 0.0000]])\n",
      "\n",
      "Shape of Bchannel_matrix: torch.Size([3, 3])\n",
      "\n",
      "The data in Bchannel_matrix_unsqueeze:\n",
      " tensor([[[0.0000, 0.9059, 0.0000],\n",
      "         [0.9725, 1.0000, 0.3490],\n",
      "         [0.0000, 0.9059, 0.0000]]])\n",
      "\n",
      "Shape of Bchannel_matrix_unsqueeze: torch.Size([1, 3, 3])\n",
      "Shape of image_colored_RGB_manual: torch.Size([3, 3, 3])\n",
      "\n",
      "The data in image_colored_RGB_manual:\n",
      " tensor([[[1.0000, 0.8000, 0.0000],\n",
      "         [0.0039, 0.0000, 1.0000],\n",
      "         [1.0000, 0.8000, 0.0000]],\n",
      "\n",
      "        [[0.0000, 0.4235, 1.0000],\n",
      "         [0.9725, 0.0000, 0.8706],\n",
      "         [0.0000, 0.4235, 1.0000]],\n",
      "\n",
      "        [[0.0000, 0.9059, 0.0000],\n",
      "         [0.9725, 1.0000, 0.3490],\n",
      "         [0.0000, 0.9059, 0.0000]]])\n",
      "\n",
      "\n",
      "Verifications:\n",
      "1) The R channel value of the pixel with coordinates [1,2]: tensor(1.)\n",
      "2) The G channel value of the pixel with coordinates [1,2]: tensor(0.8706)\n",
      "3) The B channel value of the pixel with coordinates [1,2]: tensor(0.3490)\n",
      "4) The RGB channel values of the pixel with coordinates [1,2]: tensor([1.0000, 0.8706, 0.3490])\n",
      "5) Is the color of the pixel with coordinates [1,2] a yellow?: True\n",
      "6) Is the image_colored_RGB_manual image same as image_colored_RGB?: True\n"
     ]
    },
    {
     "data": {
      "image/png": "[encoded data removed]",
      "text/plain": [
       "<Figure size 640x480 with 1 Axes>"
      ]
     },
     "metadata": {},
     "output_type": "display_data"
    }
   ],
   "source": [
    "# Given a RGB image of 3x3 dimension\n",
    "\n",
    "# A 2D tensor (matrix) for R channel values only\n",
    "Rchannel_matrix = torch.tensor([\n",
    "    [1.0, 0.8, 0.0], # First row of the matrix. This row is a collection of R channel values of the image pixel coordinates [0,0], [0,1], [0,2] respectively, in sequence.  \n",
    "    [0.0039, 0.0, 1.0], # Second row of the matrix. This row is a collection of R channel values of the image pixel coordinates [1,0], [1,1], [1,2] respectively, in sequence.\n",
    "    [1.0, 0.8, 0.0] # Third row of the matrix. This row is a collection of R channel values of the image pixel coordinates [2,0], [2,1], [2,2] respectively, in sequence.\n",
    "])\n",
    "\n",
    "# A 2D tensor (matrix) for G channel values only\n",
    "Gchannel_matrix = torch.tensor([\n",
    "    [0.0, 0.4235, 1.0], # First row of the matrix. This row is a collection of G channel values of the image pixel coordinates [0,0], [0,1], [0,2] respectively, in sequence.  \n",
    "    [0.9725, 0.0, 0.8706], # Second row of the matrix. This row is a collection of G channel values of the image pixel coordinates [1,0], [1,1], [1,2] respectively, in sequence.\n",
    "    [0.0, 0.4235, 1.0] # Third row of the matrix. This row is a collection of G channel values of the image pixel coordinates [2,0], [2,1], [2,2] respectively, in sequence.\n",
    "])\n",
    "\n",
    "# A 2D tensor (matrix) for B channel values only\n",
    "Bchannel_matrix = torch.tensor([\n",
    "    [0.0, 0.9059, 0.0], # First row of the matrix. This row is a collection of B channel values of the image pixel coordinates [0,0], [0,1], [0,2] respectively, in sequence.  \n",
    "    [0.9725, 1.0, 0.3490], # Second row of the matrix. This row is a collection of B channel values of the image pixel coordinates [1,0], [1,1], [1,2] respectively, in sequence.\n",
    "    [0.0, 0.9059, 0.0] # Third row of the matrix. This row is a collection of B channel values of the image pixel coordinates [2,0], [2,1], [2,2] respectively, in sequence.\n",
    "])\n",
    "\n",
    "# Show the data of R channel matrix\n",
    "print(\"\\nThe data in Rchannel_matrix:\\n\", Rchannel_matrix)\n",
    "print(\"\\nShape of Rchannel_matrix:\", Rchannel_matrix.shape)\n",
    "Rchannel_matrix_unsqueeze = Rchannel_matrix.unsqueeze(0) # Add a new dimension as the first dimension. This added first dimension will be used as channel dimension. So the second and third dimensions will be used as height (row) and width (column) dimensions respectively. Such that [channel, height, width].\n",
    "print(\"\\nThe data in Rchannel_matrix_unsqueeze:\\n\", Rchannel_matrix_unsqueeze)\n",
    "print(\"\\nShape of Rchannel_matrix_unsqueeze:\", Rchannel_matrix_unsqueeze.shape)\n",
    "\n",
    "# Show the data of G channel matrix\n",
    "print(\"\\nThe data in Gchannel_matrix:\\n\", Gchannel_matrix)\n",
    "print(\"\\nShape of Gchannel_matrix:\", Gchannel_matrix.shape)\n",
    "Gchannel_matrix_unsqueeze = Gchannel_matrix.unsqueeze(0) # Add a new dimension as the first dimension. This added first dimension will be used as channel dimension. So the second and third dimensions will be used as height (row) and width (column) dimensions respectively. Such that [channel, height, width].\n",
    "print(\"\\nThe data in Gchannel_matrix_unsqueeze:\\n\", Gchannel_matrix_unsqueeze)\n",
    "print(\"\\nShape of Gchannel_matrix_unsqueeze:\", Gchannel_matrix_unsqueeze.shape)\n",
    "\n",
    "# Show the data of B channel matrix\n",
    "print(\"\\nThe data in Bchannel_matrix:\\n\", Bchannel_matrix)\n",
    "print(\"\\nShape of Bchannel_matrix:\", Bchannel_matrix.shape)\n",
    "Bchannel_matrix_unsqueeze = Bchannel_matrix.unsqueeze(0) # Add a new dimension as the first dimension. This added first dimension will be used as channel dimension. So the second and third dimensions will be used as height (row) and width (column) dimensions respectively. Such that [channel, height, width].\n",
    "print(\"\\nThe data in Bchannel_matrix_unsqueeze:\\n\", Bchannel_matrix_unsqueeze)\n",
    "print(\"\\nShape of Bchannel_matrix_unsqueeze:\", Bchannel_matrix_unsqueeze.shape)\n",
    "\n",
    "\n",
    "# Create and show the data of a RGB image that made up of the R, G, and B channel matrices\n",
    "image_colored_RGB_manual = torch.cat((Rchannel_matrix_unsqueeze,Gchannel_matrix_unsqueeze,Bchannel_matrix_unsqueeze), dim=0) # Concatenate the R channel matrix, G channel matrix, and B channel matrix together along the channel dimension (dim=0) in sequence, to create a RGB image.\n",
    "print(\"Shape of image_colored_RGB_manual:\", image_colored_RGB_manual.shape)\n",
    "print(\"\\nThe data in image_colored_RGB_manual:\\n\", image_colored_RGB_manual) # The first section of [[],[],...,[]] is for R channel, where [[R channel value of Pixel 1],[R channel value of Pixel 2],...,[R channel value of Pixel N]]\n",
    "image_colored_RGB_manual_ReorderDimension=image_colored_RGB_manual.permute(1,2,0) # Since Matplotlib:[width, height, color channel], we use permute() to change the tensor dimension order from [color channel, width, height] to [width, height, color channel] \n",
    "plt.imshow(image_colored_RGB_manual_ReorderDimension)\n",
    "\n",
    "# Verifications:\n",
    "print(\"\\n\\nVerifications:\")\n",
    "print(\"1) The R channel value of the pixel with coordinates [1,2]:\", image_colored_RGB_manual[0,1,2])\n",
    "print(\"2) The G channel value of the pixel with coordinates [1,2]:\", image_colored_RGB_manual[1,1,2])\n",
    "print(\"3) The B channel value of the pixel with coordinates [1,2]:\", image_colored_RGB_manual[2,1,2])\n",
    "print(\"4) The RGB channel values of the pixel with coordinates [1,2]:\", image_colored_RGB_manual[:,1,2])\n",
    "print(\"5) Is the color of the pixel with coordinates [1,2] a yellow?:\", torch.allclose(image_colored_RGB_manual[:,1,2], yellow_pixel_RGB_normalized, atol=0.001)) # Check if the two tensors are close enough, with absolute tolerance of 0.001\n",
    "print(\"6) Is the image_colored_RGB_manual image same as image_colored_RGB?:\", torch.allclose(image_colored_RGB_manual, image_colored_RGB, atol=0.001)) # Check if the two tensors are close enough, with absolute tolerance of 0.001\n"
   ]
  },
  {
   "cell_type": "markdown",
   "metadata": {},
   "source": [
    "Version 2"
   ]
  },
  {
   "cell_type": "code",
   "execution_count": 7,
   "metadata": {},
   "outputs": [
    {
     "name": "stdout",
     "output_type": "stream",
     "text": [
      "\n",
      "The data in Rchannel_matrix_v2:\n",
      " tensor([[1.0000, 0.8000, 0.0000],\n",
      "        [0.0039, 0.0000, 1.0000],\n",
      "        [1.0000, 0.8000, 0.0000]])\n",
      "\n",
      "Shape of Rchannel_matrix_v2: torch.Size([3, 3])\n",
      "\n",
      "The data in Rchannel_matrix_v2_unsqueeze:\n",
      " tensor([[[1.0000, 0.8000, 0.0000],\n",
      "         [0.0039, 0.0000, 1.0000],\n",
      "         [1.0000, 0.8000, 0.0000]]])\n",
      "\n",
      "Shape of Rchannel_matrix_v2_unsqueeze: torch.Size([1, 3, 3])\n",
      "\n",
      "The data in Gchannel_matrix_v2:\n",
      " tensor([[0.0000, 0.4235, 1.0000],\n",
      "        [0.9725, 0.0000, 0.8706],\n",
      "        [0.0000, 0.4235, 1.0000]])\n",
      "\n",
      "Shape of Gchannel_matrix_v2: torch.Size([3, 3])\n",
      "\n",
      "The data in Gchannel_matrix_v2_unsqueeze:\n",
      " tensor([[[0.0000, 0.4235, 1.0000],\n",
      "         [0.9725, 0.0000, 0.8706],\n",
      "         [0.0000, 0.4235, 1.0000]]])\n",
      "\n",
      "Shape of Gchannel_matrix_v2_unsqueeze: torch.Size([1, 3, 3])\n",
      "\n",
      "The data in Bchannel_matrix_v2:\n",
      " tensor([[0.0000, 0.9059, 0.0000],\n",
      "        [0.9725, 1.0000, 0.3490],\n",
      "        [0.0000, 0.9059, 0.0000]])\n",
      "\n",
      "Shape of Bchannel_matrix_v2: torch.Size([3, 3])\n",
      "\n",
      "The data in Bchannel_matrix_v2_unsqueeze:\n",
      " tensor([[[0.0000, 0.9059, 0.0000],\n",
      "         [0.9725, 1.0000, 0.3490],\n",
      "         [0.0000, 0.9059, 0.0000]]])\n",
      "\n",
      "Shape of Bchannel_matrix_v2_unsqueeze: torch.Size([1, 3, 3])\n",
      "Shape of image_colored_RGB_manual_v2: torch.Size([3, 3, 3])\n",
      "\n",
      "The data in image_colored_RGB_manual_v2:\n",
      " tensor([[[1.0000, 0.8000, 0.0000],\n",
      "         [0.0039, 0.0000, 1.0000],\n",
      "         [1.0000, 0.8000, 0.0000]],\n",
      "\n",
      "        [[0.0000, 0.4235, 1.0000],\n",
      "         [0.9725, 0.0000, 0.8706],\n",
      "         [0.0000, 0.4235, 1.0000]],\n",
      "\n",
      "        [[0.0000, 0.9059, 0.0000],\n",
      "         [0.9725, 1.0000, 0.3490],\n",
      "         [0.0000, 0.9059, 0.0000]]])\n",
      "\n",
      "\n",
      "Verifications:\n",
      "1) The R channel value of the pixel with coordinates [1,2]: tensor(1.)\n",
      "2) The G channel value of the pixel with coordinates [1,2]: tensor(0.8706)\n",
      "3) The B channel value of the pixel with coordinates [1,2]: tensor(0.3490)\n",
      "4) The RGB channel values of the pixel with coordinates [1,2]: tensor([1.0000, 0.8706, 0.3490])\n",
      "5) Is the color of the pixel with coordinates [1,2] a yellow?: True\n",
      "6) Is the image_colored_RGB_manual image same as image_colored_RGB?: True\n"
     ]
    },
    {
     "data": {
      "image/png": "[encoded data removed]",
      "text/plain": [
       "<Figure size 640x480 with 1 Axes>"
      ]
     },
     "metadata": {},
     "output_type": "display_data"
    }
   ],
   "source": [
    "# Given a RGB image of 3x3 dimension\n",
    "\n",
    "# A 2D tensor (matrix) for R channel values only\n",
    "Rchannel_matrix_v2 = torch.tensor([\n",
    "    [red_pixel_RGB_normalized[0], purple_pixel_RGB_normalized[0], green_pixel_RGB_normalized[0]], # First row of the matrix. This row is a collection of R channel values of the image pixel coordinates [0,0], [0,1], [0,2] respectively, in sequence.  \n",
    "    [cyan_pixel_RGB_normalized[0], blue_pixel_RGB_normalized[0], yellow_pixel_RGB_normalized[0]], # Second row of the matrix. This row is a collection of R channel values of the image pixel coordinates [1,0], [1,1], [1,2] respectively, in sequence.\n",
    "    [red_pixel_RGB_normalized[0], purple_pixel_RGB_normalized[0], green_pixel_RGB_normalized[0]] # Third row of the matrix. This row is a collection of R channel values of the image pixel coordinates [2,0], [2,1], [2,2] respectively, in sequence.\n",
    "])\n",
    "\n",
    "# A 2D tensor (matrix) for G channel values only\n",
    "Gchannel_matrix_v2 = torch.tensor([\n",
    "    [red_pixel_RGB_normalized[1], purple_pixel_RGB_normalized[1], green_pixel_RGB_normalized[1]], # First row of the matrix. This row is a collection of G channel values of the image pixel coordinates [0,0], [0,1], [0,2] respectively, in sequence.  \n",
    "    [cyan_pixel_RGB_normalized[1], blue_pixel_RGB_normalized[1], yellow_pixel_RGB_normalized[1]], # Second row of the matrix. This row is a collection of G channel values of the image pixel coordinates [1,0], [1,1], [1,2] respectively, in sequence.\n",
    "    [red_pixel_RGB_normalized[1], purple_pixel_RGB_normalized[1], green_pixel_RGB_normalized[1]] # Third row of the matrix. This row is a collection of G channel values of the image pixel coordinates [2,0], [2,1], [2,2] respectively, in sequence.\n",
    "])\n",
    "\n",
    "# A 2D tensor (matrix) for B channel values only\n",
    "Bchannel_matrix_v2 = torch.tensor([\n",
    "    [red_pixel_RGB_normalized[2], purple_pixel_RGB_normalized[2], green_pixel_RGB_normalized[2]], # First row of the matrix. This row is a collection of B channel values of the image pixel coordinates [0,0], [0,1], [0,2] respectively, in sequence.  \n",
    "    [cyan_pixel_RGB_normalized[2], blue_pixel_RGB_normalized[2], yellow_pixel_RGB_normalized[2]], # Second row of the matrix. This row is a collection of B channel values of the image pixel coordinates [1,0], [1,1], [1,2] respectively, in sequence.\n",
    "    [red_pixel_RGB_normalized[2], purple_pixel_RGB_normalized[2], green_pixel_RGB_normalized[2]] # Third row of the matrix. This row is a collection of B channel values of the image pixel coordinates [2,0], [2,1], [2,2] respectively, in sequence.\n",
    "])\n",
    "\n",
    "\n",
    "# Show the data of R channel matrix\n",
    "print(\"\\nThe data in Rchannel_matrix_v2:\\n\", Rchannel_matrix_v2)\n",
    "print(\"\\nShape of Rchannel_matrix_v2:\", Rchannel_matrix_v2.shape)\n",
    "Rchannel_matrix_v2_unsqueeze = Rchannel_matrix_v2.unsqueeze(0) # Add a new dimension as the first dimension. This added first dimension will be used as channel dimension. So the second and third dimensions will be used as height (row) and width (column) dimensions respectively. Such that [channel, height, width].\n",
    "print(\"\\nThe data in Rchannel_matrix_v2_unsqueeze:\\n\", Rchannel_matrix_v2_unsqueeze)\n",
    "print(\"\\nShape of Rchannel_matrix_v2_unsqueeze:\", Rchannel_matrix_v2_unsqueeze.shape)\n",
    "\n",
    "# Show the data of G channel matrix\n",
    "print(\"\\nThe data in Gchannel_matrix_v2:\\n\", Gchannel_matrix_v2)\n",
    "print(\"\\nShape of Gchannel_matrix_v2:\", Gchannel_matrix_v2.shape)\n",
    "Gchannel_matrix_v2_unsqueeze = Gchannel_matrix_v2.unsqueeze(0) # Add a new dimension as the first dimension. This added first dimension will be used as channel dimension. So the second and third dimensions will be used as height (row) and width (column) dimensions respectively. Such that [channel, height, width].\n",
    "print(\"\\nThe data in Gchannel_matrix_v2_unsqueeze:\\n\", Gchannel_matrix_v2_unsqueeze)\n",
    "print(\"\\nShape of Gchannel_matrix_v2_unsqueeze:\", Gchannel_matrix_v2_unsqueeze.shape)\n",
    "\n",
    "# Show the data of B channel matrix\n",
    "print(\"\\nThe data in Bchannel_matrix_v2:\\n\", Bchannel_matrix_v2)\n",
    "print(\"\\nShape of Bchannel_matrix_v2:\", Bchannel_matrix_v2.shape)\n",
    "Bchannel_matrix_v2_unsqueeze = Bchannel_matrix_v2.unsqueeze(0) # Add a new dimension as the first dimension. This added first dimension will be used as channel dimension. So the second and third dimensions will be used as height (row) and width (column) dimensions respectively. Such that [channel, height, width].\n",
    "print(\"\\nThe data in Bchannel_matrix_v2_unsqueeze:\\n\", Bchannel_matrix_v2_unsqueeze)\n",
    "print(\"\\nShape of Bchannel_matrix_v2_unsqueeze:\", Bchannel_matrix_v2_unsqueeze.shape)\n",
    "\n",
    "\n",
    "# Create and show the data of a RGB image that made up of the R, G, and B channel matrices\n",
    "image_colored_RGB_manual_v2 = torch.cat((Rchannel_matrix_v2_unsqueeze,Gchannel_matrix_v2_unsqueeze,Bchannel_matrix_v2_unsqueeze), dim=0) # Concatenate the R channel matrix, G channel matrix, and B channel matrix together along the channel dimension (dim=0) in sequence, to create a RGB image.\n",
    "print(\"Shape of image_colored_RGB_manual_v2:\", image_colored_RGB_manual_v2.shape)\n",
    "print(\"\\nThe data in image_colored_RGB_manual_v2:\\n\", image_colored_RGB_manual_v2)\n",
    "image_colored_RGB_manual_v2_ReorderDimension=image_colored_RGB_manual_v2.permute(1,2,0) # Since Matplotlib:[width, height, color channel], we use permute() to change the tensor dimension order from [color channel, width, height] to [width, height, color channel] \n",
    "plt.imshow(image_colored_RGB_manual_v2_ReorderDimension)\n",
    "\n",
    "\n",
    "# Verifications:\n",
    "print(\"\\n\\nVerifications:\")\n",
    "print(\"1) The R channel value of the pixel with coordinates [1,2]:\", image_colored_RGB_manual_v2[0,1,2])\n",
    "print(\"2) The G channel value of the pixel with coordinates [1,2]:\", image_colored_RGB_manual_v2[1,1,2])\n",
    "print(\"3) The B channel value of the pixel with coordinates [1,2]:\", image_colored_RGB_manual_v2[2,1,2])\n",
    "print(\"4) The RGB channel values of the pixel with coordinates [1,2]:\", image_colored_RGB_manual_v2[:,1,2])\n",
    "print(\"5) Is the color of the pixel with coordinates [1,2] a yellow?:\", torch.allclose(image_colored_RGB_manual_v2[:,1,2], yellow_pixel_RGB_normalized, atol=0.001)) # Check if the two tensors are close enough, with absolute tolerance of 0.001\n",
    "print(\"6) Is the image_colored_RGB_manual image same as image_colored_RGB?:\", torch.allclose(image_colored_RGB_manual_v2, image_colored_RGB, atol=0.001)) # Check if the two tensors are close enough, with absolute tolerance of 0.001\n"
   ]
  },
  {
   "cell_type": "markdown",
   "metadata": {},
   "source": [
    "## Construct two RGB images [two 3x3 RGB images] as a collection manually"
   ]
  },
  {
   "cell_type": "markdown",
   "metadata": {},
   "source": [
    "Image 1, which is a RGB image having dimension of 3x3 "
   ]
  },
  {
   "cell_type": "code",
   "execution_count": 8,
   "metadata": {},
   "outputs": [
    {
     "name": "stdout",
     "output_type": "stream",
     "text": [
      "Image 1 of the image collection, having coordinates of [0,:,:,:]:\n"
     ]
    },
    {
     "data": {
      "image/png": "[encoded data removed]",
      "text/plain": [
       "<Figure size 640x480 with 1 Axes>"
      ]
     },
     "metadata": {},
     "output_type": "display_data"
    }
   ],
   "source": [
    "# Image 1:\n",
    "# A 2D tensor (matrix) for R channel values only\n",
    "Rchannel_matrix_image1 = torch.tensor([\n",
    "    [cyan_pixel_RGB_normalized[0], blue_pixel_RGB_normalized[0], yellow_pixel_RGB_normalized[0]], # First row of the matrix. This row is a collection of R channel values of the image pixel coordinates [0,0], [0,1], [0,2] respectively, in sequence.  \n",
    "    [red_pixel_RGB_normalized[0], purple_pixel_RGB_normalized[0], green_pixel_RGB_normalized[0]], # Second row of the matrix. This row is a collection of R channel values of the image pixel coordinates [1,0], [1,1], [1,2] respectively, in sequence.\n",
    "    [red_pixel_RGB_normalized[0], purple_pixel_RGB_normalized[0], green_pixel_RGB_normalized[0]] # Third row of the matrix. This row is a collection of R channel values of the image pixel coordinates [2,0], [2,1], [2,2] respectively, in sequence.\n",
    "])\n",
    "\n",
    "# A 2D tensor (matrix) for G channel values only\n",
    "Gchannel_matrix_image1 = torch.tensor([\n",
    "    [cyan_pixel_RGB_normalized[1], blue_pixel_RGB_normalized[1], yellow_pixel_RGB_normalized[1]], # First row of the matrix. This row is a collection of G channel values of the image pixel coordinates [0,0], [0,1], [0,2] respectively, in sequence.  \n",
    "    [red_pixel_RGB_normalized[1], purple_pixel_RGB_normalized[1], green_pixel_RGB_normalized[1]], # Second row of the matrix. This row is a collection of G channel values of the image pixel coordinates [1,0], [1,1], [1,2] respectively, in sequence.\n",
    "    [red_pixel_RGB_normalized[1], purple_pixel_RGB_normalized[1], green_pixel_RGB_normalized[1]] # Third row of the matrix. This row is a collection of G channel values of the image pixel coordinates [2,0], [2,1], [2,2] respectively, in sequence.\n",
    "])\n",
    "\n",
    "# A 2D tensor (matrix) for B channel values only\n",
    "Bchannel_matrix_image1 = torch.tensor([\n",
    "    [cyan_pixel_RGB_normalized[2], blue_pixel_RGB_normalized[2], yellow_pixel_RGB_normalized[2]], # First row of the matrix. This row is a collection of B channel values of the image pixel coordinates [0,0], [0,1], [0,2] respectively, in sequence.  \n",
    "    [red_pixel_RGB_normalized[2], purple_pixel_RGB_normalized[2], green_pixel_RGB_normalized[2]], # Second row of the matrix. This row is a collection of B channel values of the image pixel coordinates [1,0], [1,1], [1,2] respectively, in sequence.\n",
    "    [red_pixel_RGB_normalized[2], purple_pixel_RGB_normalized[2], green_pixel_RGB_normalized[2]] # Third row of the matrix. This row is a collection of B channel values of the image pixel coordinates [2,0], [2,1], [2,2] respectively, in sequence.\n",
    "])\n",
    "\n",
    "Rchannel_matrix_image1_unsqueeze = Rchannel_matrix_image1.unsqueeze(0) # Add a new dimension as the first dimension. This added first dimension will be used as channel dimension. So the second and third dimensions will be used as height (row) and width (column) dimensions respectively. Such that [channel, height, width].\n",
    "Gchannel_matrix_image1_unsqueeze = Gchannel_matrix_image1.unsqueeze(0) # Add a new dimension as the first dimension. This added first dimension will be used as channel dimension. So the second and third dimensions will be used as height (row) and width (column) dimensions respectively. Such that [channel, height, width].\n",
    "Bchannel_matrix_image1_unsqueeze = Bchannel_matrix_image1.unsqueeze(0) # Add a new dimension as the first dimension. This added first dimension will be used as channel dimension. So the second and third dimensions will be used as height (row) and width (column) dimensions respectively. Such that [channel, height, width].\n",
    "image_colored_RGB_manual_image1 = torch.cat((Rchannel_matrix_image1_unsqueeze,Gchannel_matrix_image1_unsqueeze,Bchannel_matrix_image1_unsqueeze), dim=0) # Concatenate the R channel matrix, G channel matrix, and B channel matrix together along the channel dimension (dim=0) in sequence, to create a RGB image.\n",
    "image_colored_RGB_manual_image1_ReorderDimension=image_colored_RGB_manual_image1.permute(1,2,0) # Since Matplotlib:[width, height, color channel], we use permute() to change the tensor dimension order from [color channel, width, height] to [width, height, color channel] \n",
    "print(\"Image 1 of the image collection, having coordinates of [0,:,:,:]:\")\n",
    "plt.imshow(image_colored_RGB_manual_image1_ReorderDimension)\n",
    "image_colored_RGB_manual_image1_unsqueenze = image_colored_RGB_manual_image1.unsqueeze(0) # Add a new dimension as the first dimension. This added first dimension will be used as the dimension for image number (N). So the second, third, and fourth dimensions will be used as channel, height (row) and width (column) dimensions respectively. Such that [number, channel, height, width].\n"
   ]
  },
  {
   "cell_type": "markdown",
   "metadata": {},
   "source": [
    "Image 2, which is a RGB image having dimension of 3x3"
   ]
  },
  {
   "cell_type": "code",
   "execution_count": 9,
   "metadata": {},
   "outputs": [
    {
     "name": "stdout",
     "output_type": "stream",
     "text": [
      "Image 2 of the image collection, having coordinates of [1,:,:,:]:\n"
     ]
    },
    {
     "data": {
      "image/png": "[encoded data removed]",
      "text/plain": [
       "<Figure size 640x480 with 1 Axes>"
      ]
     },
     "metadata": {},
     "output_type": "display_data"
    }
   ],
   "source": [
    "\n",
    "# Image 2:\n",
    "# A 2D tensor (matrix) for R channel values only\n",
    "Rchannel_matrix_image2 = torch.tensor([\n",
    "    [red_pixel_RGB_normalized[0], purple_pixel_RGB_normalized[0], green_pixel_RGB_normalized[0]], # First row of the matrix. This row is a collection of R channel values of the image pixel coordinates [0,0], [0,1], [0,2] respectively, in sequence.  \n",
    "    [red_pixel_RGB_normalized[0], purple_pixel_RGB_normalized[0], green_pixel_RGB_normalized[0]], # Second row of the matrix. This row is a collection of R channel values of the image pixel coordinates [1,0], [1,1], [1,2] respectively, in sequence.\n",
    "    [cyan_pixel_RGB_normalized[0], blue_pixel_RGB_normalized[0], yellow_pixel_RGB_normalized[0]] # Third row of the matrix. This row is a collection of R channel values of the image pixel coordinates [2,0], [2,1], [2,2] respectively, in sequence.\n",
    "])\n",
    "\n",
    "# A 2D tensor (matrix) for G channel values only\n",
    "Gchannel_matrix_image2 = torch.tensor([\n",
    "    [red_pixel_RGB_normalized[1], purple_pixel_RGB_normalized[1], green_pixel_RGB_normalized[1]], # First row of the matrix. This row is a collection of G channel values of the image pixel coordinates [0,0], [0,1], [0,2] respectively, in sequence.  \n",
    "    [red_pixel_RGB_normalized[1], purple_pixel_RGB_normalized[1], green_pixel_RGB_normalized[1]], # Second row of the matrix. This row is a collection of G channel values of the image pixel coordinates [1,0], [1,1], [1,2] respectively, in sequence.\n",
    "    [cyan_pixel_RGB_normalized[1], blue_pixel_RGB_normalized[1], yellow_pixel_RGB_normalized[1]] # Third row of the matrix. This row is a collection of G channel values of the image pixel coordinates [2,0], [2,1], [2,2] respectively, in sequence.\n",
    "])\n",
    "\n",
    "# A 2D tensor (matrix) for B channel values only\n",
    "Bchannel_matrix_image2 = torch.tensor([\n",
    "    [red_pixel_RGB_normalized[2], purple_pixel_RGB_normalized[2], green_pixel_RGB_normalized[2]], # First row of the matrix. This row is a collection of B channel values of the image pixel coordinates [0,0], [0,1], [0,2] respectively, in sequence.  \n",
    "    [red_pixel_RGB_normalized[2], purple_pixel_RGB_normalized[2], green_pixel_RGB_normalized[2]], # Second row of the matrix. This row is a collection of B channel values of the image pixel coordinates [1,0], [1,1], [1,2] respectively, in sequence.\n",
    "    [cyan_pixel_RGB_normalized[2], blue_pixel_RGB_normalized[2], yellow_pixel_RGB_normalized[2]] # Third row of the matrix. This row is a collection of B channel values of the image pixel coordinates [2,0], [2,1], [2,2] respectively, in sequence.\n",
    "])\n",
    "\n",
    "Rchannel_matrix_image2_unsqueeze = Rchannel_matrix_image2.unsqueeze(0) # Add a new dimension as the first dimension. This added first dimension will be used as channel dimension. So the second and third dimensions will be used as height (row) and width (column) dimensions respectively. Such that [channel, height, width].\n",
    "Gchannel_matrix_image2_unsqueeze = Gchannel_matrix_image2.unsqueeze(0) # Add a new dimension as the first dimension. This added first dimension will be used as channel dimension. So the second and third dimensions will be used as height (row) and width (column) dimensions respectively. Such that [channel, height, width].\n",
    "Bchannel_matrix_image2_unsqueeze = Bchannel_matrix_image2.unsqueeze(0) # Add a new dimension as the first dimension. This added first dimension will be used as channel dimension. So the second and third dimensions will be used as height (row) and width (column) dimensions respectively. Such that [channel, height, width].\n",
    "image_colored_RGB_manual_image2 = torch.cat((Rchannel_matrix_image2_unsqueeze,Gchannel_matrix_image2_unsqueeze,Bchannel_matrix_image2_unsqueeze), dim=0) # Concatenate the R channel matrix, G channel matrix, and B channel matrix together along the channel dimension (dim=0) in sequence, to create a RGB image.\n",
    "image_colored_RGB_manual_image2_ReorderDimension=image_colored_RGB_manual_image2.permute(1,2,0) # Since Matplotlib:[width, height, color channel], we use permute() to change the tensor dimension order from [color channel, width, height] to [width, height, color channel] \n",
    "print(\"Image 2 of the image collection, having coordinates of [1,:,:,:]:\")\n",
    "plt.imshow(image_colored_RGB_manual_image2_ReorderDimension)\n",
    "image_colored_RGB_manual_image2_unsqueenze = image_colored_RGB_manual_image2.unsqueeze(0) # Add a new dimension as the first dimension. This added first dimension will be used as the dimension for image number (N). So the second, third, and fourth dimensions will be used as channel, height (row) and width (column) dimensions respectively. Such that [number, channel, height, width].\n",
    "\n"
   ]
  },
  {
   "cell_type": "markdown",
   "metadata": {},
   "source": [
    "A collection of 2 RGB images of 3x3 dimensions"
   ]
  },
  {
   "cell_type": "code",
   "execution_count": 10,
   "metadata": {},
   "outputs": [
    {
     "name": "stdout",
     "output_type": "stream",
     "text": [
      "torch.Size([3, 3, 3])\n",
      "The selected image:\n",
      "\n",
      "\n",
      "Verifications:\n",
      "1) Which image of the collection is chosen?: Second image, which having coordinates of [1,:,:,:]\n",
      "1) The shape of the selected image: torch.Size([3, 3, 3])\n",
      "1) The R channel value of the pixel with coordinates [2,1] on the selected image: tensor(0.)\n",
      "2) The G channel value of the pixel with coordinates [2,1] on the selected image: tensor(0.)\n",
      "3) The B channel value of the pixel with coordinates [2,1] on the selected image: tensor(1.)\n",
      "4) The RGB channel values of the pixel with coordinates [2,1] on the selected image: tensor([0., 0., 1.])\n",
      "5) Is the color of the pixel with coordinates [2,1] on the selected image a blue?: True\n",
      "6) Is the selected image same as the second image of the collection, which having coordinates of [1,:,:,:]?: True\n"
     ]
    },
    {
     "data": {
      "image/png": "[encoded data removed]",
      "text/plain": [
       "<Figure size 640x480 with 1 Axes>"
      ]
     },
     "metadata": {},
     "output_type": "display_data"
    }
   ],
   "source": [
    "image_colored_RGB_manual_collection = torch.cat((image_colored_RGB_manual_image1_unsqueenze,image_colored_RGB_manual_image2_unsqueenze), dim=0) # Concatenate the image_colored_RGB_manual_image2_unsqueenze image and image_colored_RGB_manual_image2_unsqueenze image together along the image number dimension (dim=0) in sequence, to create a collection of two RGB images.\n",
    "\n",
    "image_colored_RGB_manual_collection_selected = image_colored_RGB_manual_collection[1,:,:,:] # Select the image to print\n",
    "print(image_colored_RGB_manual_collection_selected.shape)\n",
    "print(\"The selected image:\")\n",
    "image_colored_RGB_manual_collection_selected_ReorderDimension=image_colored_RGB_manual_collection_selected.permute(1,2,0) # Since Matplotlib:[width, height, color channel], we use permute() to change the tensor dimension order from [color channel, width, height] to [width, height, color channel] \n",
    "plt.imshow(image_colored_RGB_manual_collection_selected_ReorderDimension)\n",
    "\n",
    "# Verifications:\n",
    "print(\"\\n\\nVerifications:\")\n",
    "print(\"1) Which image of the collection is chosen?: Second image, which having coordinates of [1,:,:,:]\")\n",
    "print(\"1) The shape of the selected image:\",image_colored_RGB_manual_collection_selected.shape)\n",
    "print(\"1) The R channel value of the pixel with coordinates [2,1] on the selected image:\", image_colored_RGB_manual_collection_selected[0,2,1])\n",
    "print(\"2) The G channel value of the pixel with coordinates [2,1] on the selected image:\", image_colored_RGB_manual_collection_selected[1,2,1])\n",
    "print(\"3) The B channel value of the pixel with coordinates [2,1] on the selected image:\", image_colored_RGB_manual_collection_selected[2,2,1])\n",
    "print(\"4) The RGB channel values of the pixel with coordinates [2,1] on the selected image:\", image_colored_RGB_manual_collection_selected[:,2,1])\n",
    "print(\"5) Is the color of the pixel with coordinates [2,1] on the selected image a blue?:\", torch.allclose(image_colored_RGB_manual_collection_selected[:,2,1], blue_pixel_RGB_normalized, atol=0.001)) # Check if the two tensors are close enough, with absolute tolerance of 0.001\n",
    "print(\"6) Is the selected image same as the second image of the collection, which having coordinates of [1,:,:,:]?:\", torch.allclose(image_colored_RGB_manual_collection_selected, image_colored_RGB_manual_collection[1,:,:,:], atol=0.001)) # Check if the two tensors are close enough, with absolute tolerance of 0.001\n"
   ]
  },
  {
   "cell_type": "markdown",
   "metadata": {},
   "source": [
    "# Tensor basic concepts"
   ]
  },
  {
   "cell_type": "code",
   "execution_count": 11,
   "metadata": {},
   "outputs": [
    {
     "name": "stdout",
     "output_type": "stream",
     "text": [
      "The data of tensor1: tensor([1.1000, 2.2000, 3.3000])\n",
      "The shape of tensor1: torch.Size([3])\n",
      "The second element of tensor1: tensor(2.2000)\n"
     ]
    }
   ],
   "source": [
    "tensor1 = torch.tensor([1.1, 2.2, 3.3]) # Create a 1D tensor that contains 3 elements as a list, which accessible with only 1 index(dimension)\n",
    "print(\"The data of tensor1:\", tensor1) \n",
    "print(\"The shape of tensor1:\", tensor1.shape) \n",
    "print(\"The second element of tensor1:\", tensor1[1]) \n",
    "\n",
    "\n"
   ]
  },
  {
   "cell_type": "code",
   "execution_count": 12,
   "metadata": {},
   "outputs": [
    {
     "name": "stdout",
     "output_type": "stream",
     "text": [
      "\n",
      "The data of tensor1_unsqueeze: tensor([[1.1000, 2.2000, 3.3000]])\n",
      "The shape of tensor1_unsqueeze: torch.Size([1, 3])\n",
      "The second element of tensor1_unsqueeze, which has coordinates [0,1]: tensor(2.2000)\n"
     ]
    }
   ],
   "source": [
    "tensor1_unsqueeze = tensor1.unsqueeze(0) # Create a 2D tensor that contains 3 elements as a list, which accessible with 2 indexes(dimensions). By adding a new dimension as the first dimension. This added first dimension will be used as row dimension. So the second dimension will be used as column dimension. Such that [row, column].\n",
    "print(\"\\nThe data of tensor1_unsqueeze:\", tensor1_unsqueeze) # Since this 2D tensor only has 1 row which is a list=collection of 3 elements, it is represented as [[ (the row of data)=[Element1, Element2, Element3] ]].\n",
    "print(\"The shape of tensor1_unsqueeze:\", tensor1_unsqueeze.shape) \n",
    "print(\"The second element of tensor1_unsqueeze, which has coordinates [0,1]:\", tensor1_unsqueeze[0, 1]) \n"
   ]
  },
  {
   "cell_type": "code",
   "execution_count": 13,
   "metadata": {},
   "outputs": [
    {
     "name": "stdout",
     "output_type": "stream",
     "text": [
      "\n",
      "The data of tensor3:\n",
      " tensor([[1.1000, 2.2000, 3.3000],\n",
      "        [4.4000, 5.5000, 6.6000]])\n",
      "The shape of tensor3: torch.Size([2, 3])\n",
      "The element of tensor3, which has coordinates [1,0]: tensor(4.4000)\n"
     ]
    }
   ],
   "source": [
    "tensor2 = torch.tensor([4.4, 5.5, 6.6]) # Create a 1D tensor that contains 3 elements as a list, which accessible with only 1 index(dimension)\n",
    "tensor2_unsqueeze = tensor2.unsqueeze(0) # Create a 2D tensor that contains 3 elements, which accessible with 2 indexes(dimensions)\n",
    "tensor3 = torch.cat((tensor1_unsqueeze,tensor2_unsqueeze), dim=0) # Concatenate both tensors along the first dimension (dim=0, which is the row dimension).\n",
    "print(\"\\nThe data of tensor3:\\n\", tensor3) # Since this 2D tensor has 2 rows now which each row is a list=collection of 3 elements, it is represented as [[the row1 of data], [the row2 of data]].\n",
    "print(\"The shape of tensor3:\", tensor3.shape) \n",
    "print(\"The element of tensor3, which has coordinates [1,0]:\", tensor3[1, 0]) \n"
   ]
  },
  {
   "cell_type": "code",
   "execution_count": 14,
   "metadata": {},
   "outputs": [
    {
     "name": "stdout",
     "output_type": "stream",
     "text": [
      "\n",
      "The data of tensor4:\n",
      " tensor([[[1.1000, 2.2000, 3.3000]]])\n",
      "The shape of tensor4: torch.Size([1, 1, 3])\n",
      "The second element of tensor4: tensor(2.2000)\n"
     ]
    }
   ],
   "source": [
    "tensor4 = tensor1_unsqueeze.unsqueeze(0) # Create a 3D tensor that contains 3 elements as a list, which accessible with 3 indexes(dimensions). By adding a new dimension as the first dimension. This added first dimension will be used as channel dimension. So the second and third dimensions will be used as row and column dimensions respectively. Such that [channel, row, column].\n",
    "print(\"\\nThe data of tensor4:\\n\", tensor4) # Since this 3D tensor only has 1 row which is a list=collection of 3 elements, it is represented as [[[ (the row of data)=[Element1, Element2, Element3] ]]].\n",
    "print(\"The shape of tensor4:\", tensor4.shape) \n",
    "print(\"The second element of tensor4:\", tensor4[0,0,1]) \n"
   ]
  },
  {
   "cell_type": "code",
   "execution_count": 15,
   "metadata": {},
   "outputs": [
    {
     "name": "stdout",
     "output_type": "stream",
     "text": [
      "\n",
      "The data of tensor6:\n",
      " tensor([[[1.1000, 2.2000, 3.3000],\n",
      "         [4.4000, 5.5000, 6.6000]]])\n",
      "The shape of tensor6: torch.Size([1, 2, 3])\n",
      "The first-channel-first-row-third-column-element of tensor6, which has coordinates [0,0,2]: tensor(3.3000)\n"
     ]
    }
   ],
   "source": [
    "tensor5 = tensor2_unsqueeze.unsqueeze(0)\n",
    "tensor6 = torch.cat((tensor4,tensor5), dim=1) # Concatenate both tensors along the second dimension (dim=1, which is the row dimension).\n",
    "print(\"\\nThe data of tensor6:\\n\", tensor6) # Since this 3D tensor has 2 rows now which each row is a list=collection of 3 elements, it is represented as [[[the row1 of data], [the row2 of data]]].\n",
    "print(\"The shape of tensor6:\", tensor6.shape) \n",
    "print(\"The first-channel-first-row-third-column-element of tensor6, which has coordinates [0,0,2]:\", tensor6[0, 0, 2]) \n"
   ]
  },
  {
   "cell_type": "code",
   "execution_count": 16,
   "metadata": {},
   "outputs": [
    {
     "name": "stdout",
     "output_type": "stream",
     "text": [
      "\n",
      "The data of tensor7:\n",
      " tensor([[[4.4000, 5.5000, 6.6000],\n",
      "         [1.1000, 2.2000, 3.3000]]])\n",
      "The shape of tensor7: torch.Size([1, 2, 3])\n",
      "The first-channel-second-row-first-column-element of tensor7, which has coordinates [0,1,0]: tensor(1.1000)\n"
     ]
    }
   ],
   "source": [
    "tensor7 = torch.cat((tensor5, tensor4), dim=1) # Concatenate both tensors along the second dimension (dim=1, which is the row dimension).\n",
    "print(\"\\nThe data of tensor7:\\n\", tensor7) # Since this 3D tensor has 2 rows now which each row is a list=collection of 3 elements, it is represented as [[[the row1 of data], [the row2 of data]]].\n",
    "print(\"The shape of tensor7:\", tensor7.shape) \n",
    "print(\"The first-channel-second-row-first-column-element of tensor7, which has coordinates [0,1,0]:\", tensor7[0, 1, 0]) \n"
   ]
  },
  {
   "cell_type": "code",
   "execution_count": 17,
   "metadata": {},
   "outputs": [
    {
     "name": "stdout",
     "output_type": "stream",
     "text": [
      "\n",
      "The data of tensor8:\n",
      " tensor([[[1.1000, 2.2000, 3.3000],\n",
      "         [4.4000, 5.5000, 6.6000]],\n",
      "\n",
      "        [[4.4000, 5.5000, 6.6000],\n",
      "         [1.1000, 2.2000, 3.3000]]])\n",
      "The shape of tensor8: torch.Size([2, 2, 3])\n",
      "The second-channel-second-row-first-column-element of tensor8, which has coordinates [1,0,2]: tensor(1.1000)\n"
     ]
    }
   ],
   "source": [
    "tensor8 = torch.cat((tensor6,tensor7), dim=0) # Concatenate both tensors along the first dimension (dim=0, which is the channel dimension).\n",
    "print(\"\\nThe data of tensor8:\\n\", tensor8) # Since this 3D tensor has 2 channels, each channel has 2 rows, which each row is a list=collection of 3 elements, it is represented as [[[the row1 of channel1 data], [the row2 of channel1 data]],[the row1 of channel1 data], [the row2 of channel2 data]]].\n",
    "print(\"The shape of tensor8:\", tensor8.shape) \n",
    "print(\"The second-channel-second-row-first-column-element of tensor8, which has coordinates [1,0,2]:\", tensor8[1, 1, 0]) "
   ]
  }
 ],
 "metadata": {
  "kernelspec": {
   "display_name": "GPUEnv_PyTorch",
   "language": "python",
   "name": "python3"
  },
  "language_info": {
   "codemirror_mode": {
    "name": "ipython",
    "version": 3
   },
   "file_extension": ".py",
   "mimetype": "text/x-python",
   "name": "python",
   "nbconvert_exporter": "python",
   "pygments_lexer": "ipython3",
   "version": "3.10.15"
  }
 },
 "nbformat": 4,
 "nbformat_minor": 2
}
